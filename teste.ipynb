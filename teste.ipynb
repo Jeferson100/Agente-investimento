{
 "cells": [
  {
   "cell_type": "code",
   "execution_count": 1,
   "metadata": {},
   "outputs": [
    {
     "data": {
      "text/plain": [
       "True"
      ]
     },
     "execution_count": 1,
     "metadata": {},
     "output_type": "execute_result"
    }
   ],
   "source": [
    "import pandas as pd\n",
    "#from coleta_dados import DadosFundamentalistas\n",
    "from chat_bots import chat_bot_fundamentalistas, get_secret_key\n",
    "from coleta_dados import DadosFundamentalistas, DadosNoticiasBuscadorYahoo\n",
    "from tratando_dados import tratando_dados_fundamentalistas\n",
    "from dotenv import load_dotenv\n",
    "load_dotenv()"
   ]
  },
  {
   "cell_type": "code",
   "execution_count": 2,
   "metadata": {},
   "outputs": [],
   "source": [
    "tic = 'BBDC3'\n",
    "data_inicio = '2020-01-01'\n",
    "\n",
    "dados_fundamentalistas = DadosFundamentalistas(tic, data_inicio)\n",
    "trat = tratando_dados_fundamentalistas(tic, data_inicio)"
   ]
  },
  {
   "cell_type": "code",
   "execution_count": 3,
   "metadata": {},
   "outputs": [],
   "source": [
    "dados = dados_fundamentalistas.dados_fundamentalistas_completo()"
   ]
  },
  {
   "cell_type": "code",
   "execution_count": 4,
   "metadata": {},
   "outputs": [],
   "source": [
    "query = 'Como esta a saude financeira da bbdc3'\n",
    "response = chat_bot_fundamentalistas(query=query, dados=trat)"
   ]
  },
  {
   "cell_type": "code",
   "execution_count": 5,
   "metadata": {},
   "outputs": [
    {
     "data": {
      "text/plain": [
       "['**Análise da Saúde Financeira da BBDC3**',\n",
       " '**Resumo da Análise**',\n",
       " 'A BBDC3 é uma empresa de investimento que opera no mercado de valores mobiliários. A análise dos indicadores financeiros da empresa mostra uma tendência de crescimento nos resultados financeiros e uma melhoria na gestão da dívida. No entanto, a empresa ainda apresenta alguns riscos e desafios que precisam ser monitorados.',\n",
       " '**Pontos Fortes**',\n",
       " '* **Crescimento dos Resultados Financeiros**: A BBDC3 apresentou um crescimento significativo nos resultados financeiros nos últimos anos, com um aumento de 15% na receita líquida e de 20% no lucro líquido.\\n* **Melhoria na Gestão da Dívida**: A empresa reduziu a dívida líquida em 10% nos últimos anos, o que é um sinal de boa gestão financeira.\\n* **Elevada Margem de Lucro**: A BBDC3 apresenta uma margem de lucro líquido de 6,1%, o que é considerado elevado para a indústria de investimento.',\n",
       " '**Pontos Fracos**',\n",
       " '* **Risco de Dívida**: A empresa ainda apresenta um risco de dívida elevado, com uma relação dívida/EBITDA de 1,2.\\n* **Desempenho do Fluxo de Caixa**: O fluxo de caixa operacional da empresa foi negativo nos últimos anos, o que pode ser um sinal de problemas de liquidez.\\n* **Custo de Capitais**: O custo de capitais da empresa é elevado, o que pode afetar a rentabilidade da empresa.',\n",
       " '**Recomendação**',\n",
       " 'Com base na análise dos indicadores financeiros da BBDC3, recomendo que os investidores mantenham uma postura cautelosa e monitorem a situação da empresa nos próximos meses. A empresa ainda apresenta alguns riscos e desafios que precisam ser superados para que possa manter o seu crescimento e rentabilidade.',\n",
       " '**Tendências**',\n",
       " 'A análise dos indicadores financeiros da BBDC3 mostra uma tendência de crescimento nos resultados financeiros e uma melhoria na gestão da dívida. No entanto, a empresa ainda apresenta alguns riscos e desafios que precisam ser monitorados. É importante que os investidores mantenham uma postura cautelosa e monitorem a situação da empresa nos próximos meses.',\n",
       " '**Conclusão**',\n",
       " 'A BBDC3 é uma empresa de investimento que apresenta uma tendência de crescimento nos resultados financeiros e uma melhoria na gestão da dívida. No entanto, a empresa ainda apresenta alguns riscos e desafios que precisam ser superados para que possa manter o seu crescimento e rentabilidade. É importante que os investidores mantenham uma postura cautelosa e monitorem a situação da empresa nos próximos meses.']"
      ]
     },
     "execution_count": 5,
     "metadata": {},
     "output_type": "execute_result"
    }
   ],
   "source": [
    "response.split('\\n\\n')"
   ]
  },
  {
   "cell_type": "code",
   "execution_count": 6,
   "metadata": {},
   "outputs": [
    {
     "name": "stdout",
     "output_type": "stream",
     "text": [
      "Tipo relevancia já está selecionado!\n"
     ]
    }
   ],
   "source": [
    "from selenium import webdriver\n",
    "chrome_options = webdriver.ChromeOptions()\n",
    "chrome_options.add_argument(\"--headless\")\n",
    "chrome_options.add_argument(\"--no-sandbox\")\n",
    "chrome_options.add_argument(\"--disable-dev-shm-usage\")\n",
    "chrome_options.add_argument(\"--disable-gpu\")\n",
    "chrome_options.add_argument(\"--disable-features=NetworkService\")\n",
    "chrome_options.add_argument(\"--window-size=1920x1080\")\n",
    "chrome_options.add_argument(\"--disable-features=VizDisplayCompositor\")\n",
    "\n",
    "noticias_yahoo = DadosNoticiasBuscadorYahoo('PETR4', chrome_options)\n",
    "\n",
    "dados = noticias_yahoo.get_news(1)\n"
   ]
  },
  {
   "cell_type": "code",
   "execution_count": 8,
   "metadata": {},
   "outputs": [
    {
     "data": {
      "text/plain": [
       "{'links': ['https://valorinveste.globo.com/mercados/renda-variavel/empresas/noticia/2025/01/23/petroleo-cai-com-trump-e-arrasta-acoes-da-petrobras-petr4-prio-prio3-e-brava-brav3.ghtml',\n",
       "  'https://einvestidor.estadao.com.br/noticias/petrobras-petr4-investir-acoes-dividendos/',\n",
       "  'https://valorinveste.globo.com/mercados/renda-variavel/empresas/noticia/2025/01/24/vale-vale3-petrobras-petr4-tenda-tend3-veja-os-destaques-das-empresas.ghtml',\n",
       "  'https://www.infomoney.com.br/mercados/ibovespa-hoje-bolsa-de-valores-ao-vivo-24012025/',\n",
       "  'https://einvestidor.estadao.com.br/ultimas/ibovespa-hoje-acoes-petrobras-petr3-petr4-magda-chambriard-dividendos/',\n",
       "  'https://br.investing.com/news/general/santander-revisa-projecao-para-petroleo-e-ve-petrobras-como-top-pick-no-setor-1444354',\n",
       "  'https://einvestidor.estadao.com.br/ultimas/lucro-irb-irbr3-pode-ser-maior-4-trimestre-estimativas-btg/',\n",
       "  'https://www.infomoney.com.br/mercados/petrobras-petr4-nao-deve-reajustar-precos-por-enquanto-apontam-analistas-entenda/',\n",
       "  'https://br.investing.com/news/general/por-qual-motivo-a-petrobras-petr4-segue-queridinha-do-btg-1442186',\n",
       "  'https://www.infomoney.com.br/mercados/tcu-votara-recurso-da-petrobras-petr4-em-processo-sobre-a-politica-de-precos-na-4a/'],\n",
       " 'titulos': ['Petróleo cai com Trump e arrasta ações da Petrobras (PETR4), Prio (PRIO3) e Brava (BRAV3)',\n",
       "  'Por que essas três casas recomendam compra para a ação da Petrobras (PETR4)?',\n",
       "  'Vale (VALE3); Petrobras (PETR4); Tenda (TEND3): veja os destaques das empresas',\n",
       "  'Ibovespa Ao Vivo: Bolsa opera sem força, com VALE3 e varejistas em alta; PETR4 cai',\n",
       "  'Ibovespa hoje: como estão as ações da Petrobras (PETR3; PETR4) após falas da CEO sobre dividendos?',\n",
       "  'Santander revisa projeção para petróleo e vê Petrobras como top pick no setor Por Investing.com',\n",
       "  'Lucro do IRB (IRBR3) no 4º trimestre pode vir 30% acima do que o estimado, diz BTG',\n",
       "  'Petrobras (PETR4) não deve reajustar preços por enquanto, apontam analistas; entenda',\n",
       "  'Por qual motivo a Petrobras (PETR4) segue queridinha do BTG Por Investing.com',\n",
       "  'TCU votará recurso da Petrobras (PETR4) em processo sobre a política de preços na 4ª'],\n",
       " 'fontes': ['Ego',\n",
       "  'Estadão',\n",
       "  'Ego',\n",
       "  'InfoMoney',\n",
       "  'Estadão',\n",
       "  'Investing.com',\n",
       "  'Estadão',\n",
       "  'InfoMoney',\n",
       "  'Investing.com',\n",
       "  'InfoMoney'],\n",
       " 'datas': ['· 1 dia atrás',\n",
       "  '· 5 horas atrás',\n",
       "  '· 8 horas atrás',\n",
       "  '· 3 horas atrás',\n",
       "  '· 5 horas atrás',\n",
       "  '· 2 horas atrás',\n",
       "  '· 18 minutos atrás',\n",
       "  '· 2 dias atrás',\n",
       "  '· 2 dias atrás',\n",
       "  '· 4 dias atrás']}"
      ]
     },
     "execution_count": 8,
     "metadata": {},
     "output_type": "execute_result"
    }
   ],
   "source": [
    "dados"
   ]
  },
  {
   "cell_type": "code",
   "execution_count": null,
   "metadata": {},
   "outputs": [],
   "source": []
  }
 ],
 "metadata": {
  "kernelspec": {
   "display_name": ".venv",
   "language": "python",
   "name": "python3"
  },
  "language_info": {
   "codemirror_mode": {
    "name": "ipython",
    "version": 3
   },
   "file_extension": ".py",
   "mimetype": "text/x-python",
   "name": "python",
   "nbconvert_exporter": "python",
   "pygments_lexer": "ipython3",
   "version": "3.12.0"
  }
 },
 "nbformat": 4,
 "nbformat_minor": 2
}
