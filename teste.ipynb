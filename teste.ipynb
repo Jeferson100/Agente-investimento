{
 "cells": [
  {
   "cell_type": "code",
   "execution_count": 1,
   "metadata": {},
   "outputs": [
    {
     "name": "stderr",
     "output_type": "stream",
     "text": [
      "USER_AGENT environment variable not set, consider setting it to identify your requests.\n"
     ]
    },
    {
     "data": {
      "text/plain": [
       "True"
      ]
     },
     "execution_count": 1,
     "metadata": {},
     "output_type": "execute_result"
    }
   ],
   "source": [
    "import pandas as pd\n",
    "from chat_bots import ChatSentimento, ChatFundamentalistas, ChatAnaliseTecnica, ChatBot\n",
    "from coleta_dados import (DadosFundamentalistas, \n",
    "                          DadosNoticiasBuscadorYahoo, \n",
    "                          DadosNoticiasGoogle, \n",
    "                          CalculoWACC, \n",
    "                          VariacaoReceita, \n",
    "                          ValuationModoloGordon, \n",
    "                          OutrosAtivosNaoOperacionais,\n",
    "                          PassivoTotalMenosDivida,\n",
    "                          NecessidadeCapitalGiro,\n",
    "                          IndicadoresFinanceiros,\n",
    "                          ValuationFluxoCaixaDescontado)\n",
    "\n",
    "from tratando_dados import tratando_dados_fundamentalistas, TratarDadosNoticias, TratandoDadosIndicadores, TratandoDadosValuation\n",
    "from dotenv import load_dotenv\n",
    "import ipeadatapy as ip\n",
    "from datetime import datetime\n",
    "import pandas as pd\n",
    "import yfinance as yf\n",
    "import sidrapy\n",
    "import warnings\n",
    "warnings.filterwarnings('ignore')\n",
    "load_dotenv()\n"
   ]
  },
  {
   "cell_type": "markdown",
   "metadata": {},
   "source": [
    "# Fundamentalista"
   ]
  },
  {
   "cell_type": "code",
   "execution_count": 129,
   "metadata": {},
   "outputs": [],
   "source": [
    "tic = 'BBDC3'\n",
    "data_inicio = '2020-01-01'\n",
    "\n",
    "dados_fundamentalistas = DadosFundamentalistas(tic, data_inicio)\n",
    "trat = tratando_dados_fundamentalistas(tic, data_inicio)"
   ]
  },
  {
   "cell_type": "code",
   "execution_count": 5,
   "metadata": {},
   "outputs": [
    {
     "data": {
      "text/plain": [
       "[Document(metadata={'receita_liquida': 52500.0, 'resultado_bruto': 15210.0, 'lucro_liquido': 4870.0, 'tic': 'BBDC3', 'capex_tres_meses': -10.25, 'fluxo_caixa_operacional': -6280.0, 'fluxo_caixa_investimentos': 8500.0, 'fluxo_caixa_financiamento': -4050.0, 'aumento_reducao_caixa_equivalentes': -1930.0, 'preço_lucro': '9.32', 'preço_receita_líquida': '0.57', 'preço_fco': '-3.30', 'preço_ativo_total': '0.07', 'market_cap_empresa': 144240.0, 'dividend_yield': 0.1076999999999999, 'ativo_total': 2020000.0, 'patrimonio_liquido': 167130.0, 'valor_patrimonial_acao': '15.70', 'retorno_sobre_patrimonio_liquido_inicial': 0.088, 'retorno_sobre_ativo_inicial': 0.008, 'margem_bruta': 0.277, 'margem_liquida': 0.061, 'giro_do_ativo_inicial': '0.13', 'alavancagem_financeira': '12.07', 'passivo_patrimonio_liquido': '11.07'}, page_content='2024-09-30'),\n",
       " Document(metadata={'receita_liquida': 51500.0, 'resultado_bruto': 16940.0, 'lucro_liquido': 4120.0, 'tic': 'BBDC3', 'capex_tres_meses': -1190.0, 'fluxo_caixa_operacional': 28570.0, 'fluxo_caixa_investimentos': -6580.0, 'fluxo_caixa_financiamento': -13280.0, 'aumento_reducao_caixa_equivalentes': 8790.0, 'preço_lucro': '9.96', 'preço_receita_líquida': '0.54', 'preço_fco': '2.90', 'preço_ativo_total': '0.06', 'market_cap_empresa': 137260.0, 'dividend_yield': 0.0958, 'ativo_total': 2000000.0, 'patrimonio_liquido': 164630.0, 'valor_patrimonial_acao': '15.52', 'retorno_sobre_patrimonio_liquido_inicial': 0.078, 'retorno_sobre_ativo_inicial': 0.007, 'margem_bruta': 0.277, 'margem_liquida': 0.054, 'giro_do_ativo_inicial': '0.13', 'alavancagem_financeira': '12.17', 'passivo_patrimonio_liquido': '11.17'}, page_content='2024-06-30'),\n",
       " Document(metadata={'receita_liquida': 52770.0, 'resultado_bruto': 16890.0, 'lucro_liquido': 4120.0, 'tic': 'BBDC3', 'capex_tres_meses': -205.93, 'fluxo_caixa_operacional': 17680.0, 'fluxo_caixa_investimentos': 2780.0, 'fluxo_caixa_financiamento': -1060.0, 'aumento_reducao_caixa_equivalentes': 19220.0, 'preço_lucro': '10.16', 'preço_receita_líquida': '0.53', 'preço_fco': '-37.63', 'preço_ativo_total': '0.07', 'market_cap_empresa': 139560.0, 'dividend_yield': 0.0817, 'ativo_total': 1960000.0, 'patrimonio_liquido': 165860.0, 'valor_patrimonial_acao': '15.59', 'retorno_sobre_patrimonio_liquido_inicial': 0.08, 'retorno_sobre_ativo_inicial': 0.007, 'margem_bruta': 0.272, 'margem_liquida': 0.053, 'giro_do_ativo_inicial': '0.13', 'alavancagem_financeira': '11.79', 'passivo_patrimonio_liquido': '10.79'}, page_content='2024-03-31'),\n",
       " Document(metadata={'receita_liquida': 54110.0, 'resultado_bruto': 17050.0, 'lucro_liquido': 1440.0, 'tic': 'BBDC3', 'capex_tres_meses': -393.47, 'fluxo_caixa_operacional': -81010.0, 'fluxo_caixa_investimentos': 7160.0, 'fluxo_caixa_financiamento': 8760.0, 'aumento_reducao_caixa_equivalentes': -65010.00000000001, 'preço_lucro': '9.43', 'preço_receita_líquida': '0.53', 'preço_fco': '-756.70', 'preço_ativo_total': '0.07', 'market_cap_empresa': 141480.0, 'dividend_yield': 0.0788, 'ativo_total': 1930000.0, 'patrimonio_liquido': 166330.0, 'valor_patrimonial_acao': '15.63', 'retorno_sobre_patrimonio_liquido_inicial': 0.09, 'retorno_sobre_ativo_inicial': 0.008, 'margem_bruta': 0.271, 'margem_liquida': 0.057, 'giro_do_ativo_inicial': '0.14', 'alavancagem_financeira': '11.59', 'passivo_patrimonio_liquido': '10.59'}, page_content='2023-12-31'),\n",
       " Document(metadata={'receita_liquida': 56070.0, 'resultado_bruto': 15920.0, 'lucro_liquido': 3400.0, 'tic': 'BBDC3', 'capex_tres_meses': -138.21, 'fluxo_caixa_operacional': 79570.0, 'fluxo_caixa_investimentos': 9870.0, 'fluxo_caixa_financiamento': -10620.0, 'aumento_reducao_caixa_equivalentes': 78880.0, 'preço_lucro': '10.91', 'preço_receita_líquida': '0.57', 'preço_fco': '2.97', 'preço_ativo_total': '0.08', 'market_cap_empresa': 152910.0, 'dividend_yield': 0.0667, 'ativo_total': 1900000.0, 'patrimonio_liquido': 166230.0, 'valor_patrimonial_acao': '15.62', 'retorno_sobre_patrimonio_liquido_inicial': 0.082, 'retorno_sobre_ativo_inicial': 0.007, 'margem_bruta': 0.271, 'margem_liquida': 0.052, 'giro_do_ativo_inicial': '0.14', 'alavancagem_financeira': '11.40', 'passivo_patrimonio_liquido': '10.40'}, page_content='2023-09-30'),\n",
       " Document(metadata={'receita_liquida': 56850.0, 'resultado_bruto': 17140.0, 'lucro_liquido': 4020.0, 'tic': 'BBDC3', 'capex_tres_meses': 6.56, 'fluxo_caixa_operacional': -19740.0, 'fluxo_caixa_investimentos': 15050.0, 'fluxo_caixa_financiamento': -10250.0, 'aumento_reducao_caixa_equivalentes': -15030.0, 'preço_lucro': '10.34', 'preço_receita_líquida': '0.63', 'preço_fco': '12.60', 'preço_ativo_total': '0.08', 'market_cap_empresa': 166110.0, 'dividend_yield': 0.0613, 'ativo_total': 1860000.0, 'patrimonio_liquido': 166450.0, 'valor_patrimonial_acao': '15.64', 'retorno_sobre_patrimonio_liquido_inicial': 0.096, 'retorno_sobre_ativo_inicial': 0.009, 'margem_bruta': 0.275, 'margem_liquida': 0.061, 'giro_do_ativo_inicial': '0.14', 'alavancagem_financeira': '11.19', 'passivo_patrimonio_liquido': '10.19'}, page_content='2023-06-30'),\n",
       " Document(metadata={'receita_liquida': 57430.0, 'resultado_bruto': 17980.0, 'lucro_liquido': 5400.0, 'tic': 'BBDC3', 'capex_tres_meses': -77.89, 'fluxo_caixa_operacional': 21000.0, 'fluxo_caixa_investimentos': 51520.0, 'fluxo_caixa_financiamento': -10960.0, 'aumento_reducao_caixa_equivalentes': 61760.0, 'preço_lucro': '7.21', 'preço_receita_líquida': '0.55', 'preço_fco': '4.05', 'preço_ativo_total': '0.07', 'market_cap_empresa': 141100.0, 'dividend_yield': 0.0724, 'ativo_total': 1830000.0, 'patrimonio_liquido': 162490.0, 'valor_patrimonial_acao': '15.24', 'retorno_sobre_patrimonio_liquido_inicial': 0.119, 'retorno_sobre_ativo_inicial': 0.011, 'margem_bruta': 0.294, 'margem_liquida': 0.076, 'giro_do_ativo_inicial': '0.14', 'alavancagem_financeira': '11.25', 'passivo_patrimonio_liquido': '10.25'}, page_content='2023-03-31'),\n",
       " Document(metadata={'receita_liquida': 53640.0, 'resultado_bruto': 18270.0, 'lucro_liquido': 785.85, 'tic': 'BBDC3', 'capex_tres_meses': -178.48, 'fluxo_caixa_operacional': -32520.000000000004, 'fluxo_caixa_investimentos': 3860.0, 'fluxo_caixa_financiamento': -1860.0, 'aumento_reducao_caixa_equivalentes': -30350.0, 'preço_lucro': '6.27', 'preço_receita_líquida': '0.56', 'preço_fco': '3.15', 'preço_ativo_total': '0.07', 'market_cap_empresa': 139290.0, 'dividend_yield': 0.074, 'ativo_total': 1800000.0, 'patrimonio_liquido': 158270.0, 'valor_patrimonial_acao': '14.85', 'retorno_sobre_patrimonio_liquido_inicial': 0.14, 'retorno_sobre_ativo_inicial': 0.012, 'margem_bruta': 0.32, 'margem_liquida': 0.09, 'giro_do_ativo_inicial': '0.14', 'alavancagem_financeira': '11.37', 'passivo_patrimonio_liquido': '10.37'}, page_content='2022-12-31'),\n",
       " Document(metadata={'receita_liquida': 53140.0, 'resultado_bruto': 17100.0, 'lucro_liquido': 5840.0, 'tic': 'BBDC3', 'capex_tres_meses': -368.35, 'fluxo_caixa_operacional': 43650.0, 'fluxo_caixa_investimentos': -10720.0, 'fluxo_caixa_financiamento': 13450.0, 'aumento_reducao_caixa_equivalentes': 46420.0, 'preço_lucro': '6.44', 'preço_receita_líquida': '0.77', 'preço_fco': '0.69', 'preço_ativo_total': '0.09', 'market_cap_empresa': 183190.0, 'dividend_yield': 0.0364, 'ativo_total': 1860000.0, 'patrimonio_liquido': 161360.0, 'valor_patrimonial_acao': '15.14', 'retorno_sobre_patrimonio_liquido_inicial': nan, 'retorno_sobre_ativo_inicial': nan, 'margem_bruta': 0.34, 'margem_liquida': 0.119, 'giro_do_ativo_inicial': nan, 'alavancagem_financeira': '11.54', 'passivo_patrimonio_liquido': '10.54'}, page_content='2022-09-30'),\n",
       " Document(metadata={'receita_liquida': 49280.0, 'resultado_bruto': 18590.0, 'lucro_liquido': 7140.0, 'tic': 'BBDC3', 'capex_tres_meses': -172.53, 'fluxo_caixa_operacional': 562.2, 'fluxo_caixa_investimentos': -17660.0, 'fluxo_caixa_financiamento': 6290.0, 'aumento_reducao_caixa_equivalentes': -10660.0, 'preço_lucro': '6.17', 'preço_receita_líquida': '0.82', 'preço_fco': '0.81', 'preço_ativo_total': '0.09', 'market_cap_empresa': 178290.0, 'dividend_yield': 0.0375, 'ativo_total': 1740000.0, 'patrimonio_liquido': 156430.0, 'valor_patrimonial_acao': '14.68', 'retorno_sobre_patrimonio_liquido_inicial': nan, 'retorno_sobre_ativo_inicial': nan, 'margem_bruta': 0.379, 'margem_liquida': 0.134, 'giro_do_ativo_inicial': nan, 'alavancagem_financeira': '11.10', 'passivo_patrimonio_liquido': '10.10'}, page_content='2022-06-30'),\n",
       " Document(metadata={'receita_liquida': 49860.0, 'resultado_bruto': 20650.0, 'lucro_liquido': 7220.0, 'tic': 'BBDC3', 'capex_tres_meses': -1120.0, 'fluxo_caixa_operacional': 30070.0, 'fluxo_caixa_investimentos': 6750.0, 'fluxo_caixa_financiamento': 4040.0, 'aumento_reducao_caixa_equivalentes': 41380.0, 'preço_lucro': '6.39', 'preço_receita_líquida': '0.88', 'preço_fco': '0.86', 'preço_ativo_total': '0.09', 'market_cap_empresa': 172050.0, 'dividend_yield': 0.0571, 'ativo_total': 1700000.0, 'patrimonio_liquido': 153780.0, 'valor_patrimonial_acao': '14.43', 'retorno_sobre_patrimonio_liquido_inicial': nan, 'retorno_sobre_ativo_inicial': nan, 'margem_bruta': 0.43, 'margem_liquida': 0.138, 'giro_do_ativo_inicial': nan, 'alavancagem_financeira': '11.06', 'passivo_patrimonio_liquido': '10.06'}, page_content='2022-03-31'),\n",
       " Document(metadata={'receita_liquida': 74840.0, 'resultado_bruto': 51070.0, 'lucro_liquido': 16140.0, 'tic': 'BBDC3', 'capex_tres_meses': nan, 'fluxo_caixa_operacional': nan, 'fluxo_caixa_investimentos': nan, 'fluxo_caixa_financiamento': nan, 'aumento_reducao_caixa_equivalentes': nan, 'preço_lucro': '7.91', 'preço_receita_líquida': '1.21', 'preço_fco': '-1.80', 'preço_ativo_total': '0.11', 'market_cap_empresa': 202070.0, 'dividend_yield': 0.0492, 'ativo_total': 1680000.0, 'patrimonio_liquido': 149780.0, 'valor_patrimonial_acao': '15.41', 'retorno_sobre_patrimonio_liquido_inicial': 0.159, 'retorno_sobre_ativo_inicial': 0.014, 'margem_bruta': 0.464, 'margem_liquida': 0.153, 'giro_do_ativo_inicial': '0.09', 'alavancagem_financeira': '11.19', 'passivo_patrimonio_liquido': '10.19'}, page_content='2021-12-31'),\n",
       " Document(metadata={'receita_liquida': 28540.0, 'resultado_bruto': 10260.0, 'lucro_liquido': 6650.0, 'tic': 'BBDC3', 'capex_tres_meses': -215.64, 'fluxo_caixa_operacional': -3710.0, 'fluxo_caixa_investimentos': -11720.0, 'fluxo_caixa_financiamento': 7430.0, 'aumento_reducao_caixa_equivalentes': -7810.0, 'preço_lucro': '6.63', 'preço_receita_líquida': '1.40', 'preço_fco': '-2.84', 'preço_ativo_total': '0.11', 'market_cap_empresa': 172920.0, 'dividend_yield': 0.0635, 'ativo_total': 1440000.0, 'patrimonio_liquido': 147610.0, 'valor_patrimonial_acao': '15.19', 'retorno_sobre_patrimonio_liquido_inicial': 0.176, 'retorno_sobre_ativo_inicial': 0.017, 'margem_bruta': 0.347, 'margem_liquida': 0.212, 'giro_do_ativo_inicial': '0.08', 'alavancagem_financeira': '9.78', 'passivo_patrimonio_liquido': '8.78'}, page_content='2021-09-30'),\n",
       " Document(metadata={'receita_liquida': 20100.0, 'resultado_bruto': 17160.0, 'lucro_liquido': 5970.0, 'tic': 'BBDC3', 'capex_tres_meses': -207.38, 'fluxo_caixa_operacional': -13830.0, 'fluxo_caixa_investimentos': -5440.0, 'fluxo_caixa_financiamento': -5330.0, 'aumento_reducao_caixa_equivalentes': -25530.0, 'preço_lucro': '9.34', 'preço_receita_líquida': '1.87', 'preço_fco': '-2.924.69', 'preço_ativo_total': '0.15', 'market_cap_empresa': 220880.0, 'dividend_yield': 0.0507, 'ativo_total': 1400000.0, 'patrimonio_liquido': 146490.0, 'valor_patrimonial_acao': '15.07', 'retorno_sobre_patrimonio_liquido_inicial': 0.161, 'retorno_sobre_ativo_inicial': 0.016, 'margem_bruta': 0.463, 'margem_liquida': 0.201, 'giro_do_ativo_inicial': '0.08', 'alavancagem_financeira': '9.54', 'passivo_patrimonio_liquido': '8.54'}, page_content='2021-06-30'),\n",
       " Document(metadata={'receita_liquida': 23160.0, 'resultado_bruto': 6790.0, 'lucro_liquido': 6150.0, 'tic': 'BBDC3', 'capex_tres_meses': -172.83, 'fluxo_caixa_operacional': -12170.0, 'fluxo_caixa_investimentos': -32770.0, 'fluxo_caixa_financiamento': -20290.0, 'aumento_reducao_caixa_equivalentes': -64489.99999999999, 'preço_lucro': '10.36', 'preço_receita_líquida': '1.88', 'preço_fco': '2.92', 'preço_ativo_total': '0.14', 'market_cap_empresa': 215730.0, 'dividend_yield': 0.0275, 'ativo_total': 1390000.0, 'patrimonio_liquido': 144240.0, 'valor_patrimonial_acao': '14.84', 'retorno_sobre_patrimonio_liquido_inicial': 0.149, 'retorno_sobre_ativo_inicial': 0.016, 'margem_bruta': 0.299, 'margem_liquida': 0.182, 'giro_do_ativo_inicial': '0.09', 'alavancagem_financeira': '9.62', 'passivo_patrimonio_liquido': '8.62'}, page_content='2021-03-31'),\n",
       " Document(metadata={'receita_liquida': 47830.0, 'resultado_bruto': 30600.0, 'lucro_liquido': 8800.0, 'tic': 'BBDC3', 'capex_tres_meses': nan, 'fluxo_caixa_operacional': 177880.0, 'fluxo_caixa_investimentos': 77130.0, 'fluxo_caixa_financiamento': -112300.0, 'aumento_reducao_caixa_equivalentes': 145170.0, 'preço_lucro': '12.42', 'preço_receita_líquida': '1.59', 'preço_fco': '1.38', 'preço_ativo_total': '0.12', 'market_cap_empresa': 210360.0, 'dividend_yield': 0.0293, 'ativo_total': 1600000.0, 'patrimonio_liquido': 145620.0, 'valor_patrimonial_acao': '16.42', 'retorno_sobre_patrimonio_liquido_inicial': 0.117, 'retorno_sobre_ativo_inicial': 0.012, 'margem_bruta': 0.404, 'margem_liquida': 0.128, 'giro_do_ativo_inicial': '0.09', 'alavancagem_financeira': '11.02', 'passivo_patrimonio_liquido': '10.02'}, page_content='2020-12-31'),\n",
       " Document(metadata={'receita_liquida': 22990.0, 'resultado_bruto': 13740.0, 'lucro_liquido': 4190.0, 'tic': 'BBDC3', 'capex_tres_meses': -136.83, 'fluxo_caixa_operacional': 52790.0, 'fluxo_caixa_investimentos': 17180.0, 'fluxo_caixa_financiamento': -11140.0, 'aumento_reducao_caixa_equivalentes': 56880.0, 'preço_lucro': '10.50', 'preço_receita_líquida': '1.65', 'preço_fco': '1.05', 'preço_ativo_total': '0.12', 'market_cap_empresa': 176920.0, 'dividend_yield': 0.0375, 'ativo_total': 1410000.0, 'patrimonio_liquido': 137460.0, 'valor_patrimonial_acao': '15.50', 'retorno_sobre_patrimonio_liquido_inicial': 0.115, 'retorno_sobre_ativo_inicial': 0.014, 'margem_bruta': 0.014, 'margem_liquida': 0.157, 'giro_do_ativo_inicial': '0.09', 'alavancagem_financeira': '10.26', 'passivo_patrimonio_liquido': '9.26'}, page_content='2020-09-30'),\n",
       " Document(metadata={'receita_liquida': 18280.0, 'resultado_bruto': -1310.0, 'lucro_liquido': 3510.0, 'tic': 'BBDC3', 'capex_tres_meses': -257.15, 'fluxo_caixa_operacional': 54830.0, 'fluxo_caixa_investimentos': 8130.000000000001, 'fluxo_caixa_financiamento': -4500.0, 'aumento_reducao_caixa_equivalentes': 58770.0, 'preço_lucro': '10.83', 'preço_receita_líquida': '1.87', 'preço_fco': '2.50', 'preço_ativo_total': '0.14', 'market_cap_empresa': 199180.0, 'dividend_yield': 0.0728, 'ativo_total': 1330000.0, 'patrimonio_liquido': 135130.0, 'valor_patrimonial_acao': '15.23', 'retorno_sobre_patrimonio_liquido_inicial': 0.132, 'retorno_sobre_ativo_inicial': 0.016, 'margem_bruta': -0.149, 'margem_liquida': 0.172, 'giro_do_ativo_inicial': '0.09', 'alavancagem_financeira': '9.84', 'passivo_patrimonio_liquido': '8.84'}, page_content='2020-06-30'),\n",
       " Document(metadata={'receita_liquida': 16100.000000000002, 'resultado_bruto': -27380.0, 'lucro_liquido': 3380.0, 'tic': 'BBDC3', 'capex_tres_meses': -128.49, 'fluxo_caixa_operacional': 40370.0, 'fluxo_caixa_investimentos': -5460.0, 'fluxo_caixa_financiamento': 5290.0, 'aumento_reducao_caixa_equivalentes': 41830.0, 'preço_lucro': '7.73', 'preço_receita_líquida': '1.44', 'preço_fco': '5.65', 'preço_ativo_total': '0.13', 'market_cap_empresa': 162810.0, 'dividend_yield': 0.0978, 'ativo_total': 1240000.0, 'patrimonio_liquido': 129550.0, 'valor_patrimonial_acao': '14.60', 'retorno_sobre_patrimonio_liquido_inicial': 0.159, 'retorno_sobre_ativo_inicial': 0.018, 'margem_bruta': -0.02, 'margem_liquida': 0.187, 'giro_do_ativo_inicial': '0.10', 'alavancagem_financeira': '9.57', 'passivo_patrimonio_liquido': '8.57'}, page_content='2020-03-31')]"
      ]
     },
     "execution_count": 5,
     "metadata": {},
     "output_type": "execute_result"
    }
   ],
   "source": [
    "trat"
   ]
  },
  {
   "cell_type": "code",
   "execution_count": 6,
   "metadata": {},
   "outputs": [],
   "source": [
    "query = 'Como esta a saude financeira da bbdc3'\n",
    "response = ChatFundamentalistas(query=query, dados=trat,modelo_llm=\"deepseek-r1-distill-llama-70b\")"
   ]
  },
  {
   "cell_type": "code",
   "execution_count": 7,
   "metadata": {},
   "outputs": [
    {
     "data": {
      "text/plain": [
       "['<think>\\nOk, preciso analisar a saúde financeira da BBDC3 com base nos indicadores fornecidos. Vou começar identificando as informações disponíveis e entendendo o que cada uma delas significa.',\n",
       " 'Primeiro, vou olhar para a receita líquida. Vejo que ela tem flutuado um pouco, mas parece estar em uma tendência de crescimento gradual. Isso é positivo porque indica que a empresa está aumentando sua receita ao longo do tempo.',\n",
       " 'Em seguida, o lucro líquido. Notando que o lucro líquido também tem variações, mas em alguns períodos foi bastante alto, como 7.870,00, mas em outros foi muito baixo, como 1.440,00. Isso pode indicar volatilidade nos resultados, o que pode ser preocupante.',\n",
       " 'Margens brutas e líquidas estão estáveis, o que é bom. A margem bruta em torno de 27% e a líquida em torno de 5-6% indicam que a empresa mantém uma rentabilidade consistente, embora possa haver espaço para melhoria na margem líquida.',\n",
       " 'Agora, olhando para os fluxos de caixa. O fluxo operacional tem sido negativo em alguns trimestres, o que é um sinal de alerta. Se a empresa está tendo problemas em gerar caixa de suas operações, isso pode afetar sua saúde financeira a longo prazo. No entanto, em outros trimestres, o fluxo operacional é positivo, o que é bom.',\n",
       " 'O fluxo de investimentos também tem sido negativo, indicando que a empresa está investindo em ativos ou talvez fazendo aquisições. O fluxo de financiamento tem variado, algumas vezes positivo e outras negativo, o que pode indicar que a empresa está gerenciando sua dívida ou pagando dividendos.',\n",
       " 'O fluxo de caixa livre em três meses tem sido majoritariamente negativo, o que é preocupante. Isso pode significar que a empresa está tendo dificuldade em gerar caixa suficiente para cobrir suas necessidades de investimento e financiamento.',\n",
       " 'Agora, analisando os indicadores de valuation. O P/L está em torno de 9, o que pode ser razoável, dependendo do setor. O P/Receita Líquida é baixo, o que pode indicar que a ação está sendo negociada a um preço acessível. O P/FCO tem variações, algumas vezes negativo, o que pode indicar problemas de fluxo de caixa.',\n",
       " 'O EV/EBITDA e EV/EBIT estão dentro de uma faixa moderada, o que pode indicar que a empresa está valorizada de forma razoável, mas é importante comparar com o setor.',\n",
       " 'O dividend yield está em torno de 6-7%, o que é atraente para investidores que buscam rendimento. No entanto, um alto dividend yield pode indicar risco se a empresa não estiver gerando suficiente lucro para sustentá-lo.',\n",
       " 'No balanço patrimonial, o ativo total é significativo, mas a dívida líquida também é alta. A alavancagem financeira está em torno de 11, o que é alto e pode indicar que a empresa está usando muita dívida, o que aumenta o risco, especialmente se os juros subirem ou se a empresa enfrentar dificuldades.',\n",
       " 'O patrimônio líquido é positivo, mas a relação passivo/patrimônio líquido também é alta, o que pode indicar risco de alavancagem.',\n",
       " 'Os retornos sobre o patrimônio líquido e sobre o ativo são baixos, o que pode indicar que a empresa não está sendo muito eficiente em gerar retorno para os acionistas.',\n",
       " 'A margem líquida tem sido baixa, o que pode afetar a rentabilidade da empresa. O giro do ativo também é baixo, indicando que a empresa pode não estar usando seus ativos de forma eficiente.',\n",
       " 'Agora, pensando nas tendências históricas. A receita líquida tem crescido, mas o lucro líquido tem sido volátil. Os fluxos de caixa operacionais têm sido inconsistentes, com alguns trimestres negativos. Isso pode indicar problemas de gestão de caixa ou flutuações na demanda.',\n",
       " 'A dívida líquida tem aumentado, o que, combinado com a alavancagem alta, pode ser um problema se a empresa não conseguir reduzir sua dívida.',\n",
       " 'O dividend yield alto pode ser uma armadilha se a empresa não tiver lucro suficiente para pagá-lo consistentemente.',\n",
       " 'Recomendação: Considerando os pontos fracos, como o fluxo de caixa operacional inconsistente, a alta alavancagem e a dívida líquida, acho que a recomendação seria \"Vender\" ou pelo menos não comprar mais ações no momento. A empresa precisa melhorar sua geração de caixa operacional e reduzir sua dívida para se tornar mais atraente para investidores.',\n",
       " 'Também é importante monitorar as margens líquidas e a eficiência operacional. Se a empresa conseguir melhorar esses aspectos, pode se tornar mais estável e rentável no futuro.\\n</think>',\n",
       " '**Análise da Saúde Financeira da BBDC3**',\n",
       " '**Resumo da Análise:**\\nA BBDC3 apresenta uma saúde financeira mista, com pontos fortes em receita líquida crescente e margens brutas estáveis, mas também enfrenta desafios significativos, como fluxos de caixa operacionais inconsistentes, alta alavancagem e dívida líquida elevada.',\n",
       " '**Pontos Fortes:**\\n1. **Receita Líquida em Crescimento:** A receita líquida da empresa tem apresentado uma tendência de crescimento gradual, indicando uma base de negócios estável.\\n2. **Margens Brutus Estáveis:** As margens brutas mantêm-se consistentes, em torno de 27%, mostrando uma boa capacidade de manter a rentabilidade bruta.\\n3. **Dividend Yield Atraente:** Com um dividend yield em torno de 6-7%, a ação pode ser atraente para investidores que buscam rendimento.',\n",
       " '**Pontos Fracos:**\\n1. **Fluxo de Caixa Operacional Inconsistente:** O fluxo de caixa operacional foi negativo em vários trimestres, indicando problemas na geração de caixa das operações.\\n2. **Alta Alavancagem:** A alavancagem financeira está em torno de 11, indicando uma alta dependência de dívida, o que pode aumentar o risco.\\n3. **Dívida Líquida Elevada:** A dívida líquida é significativa, o que pode pressionar a saúde financeira da empresa, especialmente em períodos de aumento das taxas de juros.\\n4. **Margem Líquida Baixa:** A margem líquida é relativamente baixa, o que pode limitar a capacidade da empresa de reter lucros e investir em crescimento.',\n",
       " '**Recomendação:**\\n**Vender ou Manter Posição Neutra**',\n",
       " '**Justificativa:**\\nA inconsistência nos fluxos de caixa operacionais, a alta alavancagem e a dívida líquida elevada são fatores preocupantes que podem afetar a sustentabilidade financeira da empresa a longo prazo. Embora a receita líquida esteja crescendo e as margens brutas sejam estáveis, os desafios na geração de caixa e na gestão de dívida pesam negativamente na avaliação. Portanto, é recomendável evitar adquirir mais ações até que a empresa demonstre melhoria nos fluxos de caixa operacionais e redução da dívida.',\n",
       " '**Tendências Históricas e Implicações Futuras:**\\n- A receita líquida tem crescido gradualmente, mas o lucro líquido apresentou volatilidade.\\n- O fluxo de caixa operacional teve períodos negativos, indicando possíveis desafios operacionais.\\n- A dívida líquida tem aumentado, o que, combinado com a alta alavancagem, pode ser um risco significativo.',\n",
       " '**Conclusão:**\\nA BBDC3 precisa melhorar sua geração de caixa operacional e reduzir sua dívida para tornar-se mais atraente para os investidores. Até lá, é prudente manter uma posição neutra ou considerar a venda de ações para evitar exposição ao risco aumentado.']"
      ]
     },
     "execution_count": 7,
     "metadata": {},
     "output_type": "execute_result"
    }
   ],
   "source": [
    "response.split('\\n\\n')"
   ]
  },
  {
   "cell_type": "markdown",
   "metadata": {},
   "source": [
    "# Sentimento"
   ]
  },
  {
   "cell_type": "code",
   "execution_count": 2,
   "metadata": {},
   "outputs": [],
   "source": [
    "from selenium import webdriver\n",
    "chrome_options = webdriver.ChromeOptions()\n",
    "chrome_options.add_argument(\"--headless\")\n",
    "chrome_options.add_argument(\"--no-sandbox\")\n",
    "chrome_options.add_argument(\"--disable-dev-shm-usage\")\n",
    "chrome_options.add_argument(\"--disable-gpu\")\n",
    "chrome_options.add_argument(\"--disable-features=NetworkService\")\n",
    "chrome_options.add_argument(\"--window-size=1920x1080\")\n",
    "chrome_options.add_argument(\"--disable-features=VizDisplayCompositor\")\n",
    "\n",
    "dados_yahoo = DadosNoticiasBuscadorYahoo(acao='BBDC3', options=chrome_options)\n"
   ]
  },
  {
   "cell_type": "code",
   "execution_count": 3,
   "metadata": {},
   "outputs": [
    {
     "name": "stdout",
     "output_type": "stream",
     "text": [
      "Sem mais páginas!\n"
     ]
    }
   ],
   "source": [
    "dados_ya = dados_yahoo.get_news(number_paginas=1)"
   ]
  },
  {
   "cell_type": "code",
   "execution_count": 12,
   "metadata": {},
   "outputs": [
    {
     "data": {
      "text/plain": [
       "{'links': ['https://www.infomoney.com.br/onde-investir/agenda-de-dividendos-de-fevereiro-2025/',\n",
       "  'https://einvestidor.estadao.com.br/mercado/ibovespa-hoje-magazine-luiza-mglu3-salta-so-4-acoes-fecham-queda/',\n",
       "  'https://einvestidor.estadao.com.br/ultimas/ibovespa-hoje-magazine-luiza-mglu3-dispara-9-braskem-brkm5-sofre/',\n",
       "  'https://einvestidor.estadao.com.br/investimentos/dividendos-da-semana-bradesco-taesa-e-mais-6-empresas-pagam-acionistas-2/',\n",
       "  'https://www.infomoney.com.br/mercados/7-acoes-sobem-mais-de-20-e-10-caem-mais-de-5-os-destaques-do-ibovespa-em-janeiro/'],\n",
       " 'titulos': ['Agenda de dividendos de fevereiro: Petrobras, Itaú e Santander pagam neste mês',\n",
       "  'Ibovespa hoje: Magazine Luiza (MGLU3) salta mais de 12%; só 4 ações fecham em queda',\n",
       "  'Ibovespa hoje: Magazine Luiza (MGLU3) dispara 10% e lidera ganhos; Braskem (BRKM5) sofre',\n",
       "  'Dividendos da semana: Bradesco (BBDC4), Banestes (BEES4), Itaú (ITUB4) e mais 9 empresas pagam...',\n",
       "  '7 ações sobem mais de 20% e 10 caem mais de 5%: os destaques do Ibovespa em janeiro'],\n",
       " 'fontes': ['InfoMoney', 'Estadão', 'Estadão', 'Estadão', 'InfoMoney'],\n",
       " 'datas': ['· 1 dia atrás',\n",
       "  '· 6 dias atrás',\n",
       "  '· 6 dias atrás',\n",
       "  '· 2 dias atrás',\n",
       "  '· 5 dias atrás']}"
      ]
     },
     "execution_count": 12,
     "metadata": {},
     "output_type": "execute_result"
    }
   ],
   "source": [
    "dados_ya"
   ]
  },
  {
   "cell_type": "code",
   "execution_count": 4,
   "metadata": {},
   "outputs": [],
   "source": [
    "ticker = 'BBDC3'\n",
    "dados_google = TratarDadosNoticias(ticker, chrome_options)"
   ]
  },
  {
   "cell_type": "code",
   "execution_count": 6,
   "metadata": {},
   "outputs": [
    {
     "name": "stdout",
     "output_type": "stream",
     "text": [
      "Sem mais páginas!\n",
      "Poucas noticias encontrada para o ticker BBDC3 no Yahoo Finance. Buscando noticias no Google\n"
     ]
    },
    {
     "name": "stderr",
     "output_type": "stream",
     "text": [
      "Fetching pages: 100%|##########| 1/1 [00:00<00:00,  7.03it/s]\n",
      "Fetching pages: 100%|##########| 1/1 [00:00<00:00,  9.56it/s]\n",
      "Fetching pages: 100%|##########| 1/1 [00:00<00:00,  2.05it/s]\n",
      "Fetching pages: 100%|##########| 1/1 [00:00<00:00, 11.17it/s]\n",
      "Fetching pages: 100%|##########| 1/1 [00:02<00:00,  2.42s/it]\n",
      "Fetching pages: 100%|##########| 1/1 [00:00<00:00,  3.67it/s]\n",
      "Fetching pages: 100%|##########| 1/1 [00:00<00:00,  8.61it/s]\n",
      "Fetching pages: 100%|##########| 1/1 [00:01<00:00,  1.77s/it]\n",
      "Fetching pages: 100%|##########| 1/1 [00:00<00:00,  4.66it/s]\n",
      "Fetching pages: 100%|##########| 1/1 [00:01<00:00,  1.24s/it]\n"
     ]
    }
   ],
   "source": [
    "from selenium import webdriver\n",
    "chrome_options = webdriver.ChromeOptions()\n",
    "chrome_options.add_argument(\"--headless\")\n",
    "chrome_options.add_argument(\"--no-sandbox\")\n",
    "chrome_options.add_argument(\"--disable-dev-shm-usage\")\n",
    "chrome_options.add_argument(\"--disable-gpu\")\n",
    "chrome_options.add_argument(\"--disable-features=NetworkService\")\n",
    "chrome_options.add_argument(\"--window-size=1920x1080\")\n",
    "chrome_options.add_argument(\"--disable-features=VizDisplayCompositor\")\n",
    "\n",
    "ticker = 'BBDC3'\n",
    "news_tratado = TratarDadosNoticias(ticker, chrome_options)\n",
    "dados_new = news_tratado.clean_chat_html()"
   ]
  },
  {
   "cell_type": "code",
   "execution_count": 8,
   "metadata": {},
   "outputs": [
    {
     "data": {
      "text/plain": [
       "['\\n New notice\\n### Notícias sobre BBDC3',\n",
       " '#### Artigo 1: [Título do artigo]\\n* **Data:** [Data do artigo]\\n* **Conteúdo:** [ Conteúdo relevante sobre BBDC3 ]',\n",
       " '#### Artigo 2: [Título do artigo]\\n* **Data:** [Data do artigo]\\n* **Conteúdo:** [ Conteúdo relevante sobre BBDC3 ]',\n",
       " '#### Artigo 3: [Título do artigo]\\n* **Data:** [Data do artigo]\\n* **Conteúdo:** [ Conteúdo relevante sobre BBDC3 ]',\n",
       " '### Resumo',\n",
       " '* **BBDC3:** [Resumo das notícias sobre BBDC3]\\n* **Notícias:**\\n * [Notícia 1]\\n * [Notícia 2]\\n * [Notícia 3]',\n",
       " '### Detalhes',\n",
       " '* **Início da Operação:** [Data de início da operação]\\n* **Inversão:** [Valor da inversão]\\n* **Objetivo:** [Objetivo da empresa]\\n* **Serviços:** [Serviços oferecidos pela empresa]\\n* **Foco:** [Foco da empresa]',\n",
       " '### Notícias',\n",
       " '* [Notícia 1]: [Conteúdo da notícia]\\n* [Notícia 2]: [Conteúdo da notícia]\\n* [Notícia 3]: [Conteúdo da notícia]',\n",
       " '### Conclusão',\n",
       " '* **BBDC3:** [Resumo das notícias sobre BBDC3]',\n",
       " '#### Exemplo de conteúdo',\n",
       " '* **BBDC3:** A BBDC3 é uma empresa que oferece serviços de tecnologia e inovação. Ela foi fundada em [Data de fundação] e tem como objetivo oferecer soluções inovadoras para os clientes.\\n* **Notícias:**\\n + A BBDC3 lançou um novo produto em [Data de lançamento] que oferece uma solução inovadora para os clientes.\\n + A empresa recebeu uma inversão de [Valor da inversão] em [Data da inversão] para expandir seus serviços.\\n + A BBDC3 foi nomeada como uma das empresas mais inovadoras do ano em [Data do prêmio].\\n New notice\\n# Informações sobre BBDC3',\n",
       " '* A empresa Bradesco (BBDC3) pagará dividendos de R$ 0,8162 a seus investidores.\\n* O pagamento de dividendos não sofre com a tributação de Renda (IR), com alíquota de 15%.\\n* A Bradesco é uma das empresas que pagará proventos a seus acionistas nesta semana.\\n* A empresa faz parte da lista de empresas da Bolsa de Valores brasileira que distribuem proventos a seus acionistas a cada exercício social.\\n New notice\\n### Informações sobre a BBDC3',\n",
       " '* O conselho de administração do Bradesco (BBDC3;BBDC4) aprovou a proposta de pagamento de juros sobre o capital próprio (JCP) intermediários, no valor de R$ 2 bilhões.\\n* Deste montante, o valor de R$ 0,179570675 é por ação ordinária e R$ 0,197527743 por ação preferencial.\\n* Terão direito os acionistas com data-base em 30 de setembro próximo.\\n* As ações passarão a ser negociadas “ex-direito” a partir de 1º de outubro.\\n* O pagamento ocorrerá até 30 de abril de 2025 pelo valor líquido de R$ 0,152635074 por ação ordinária e R$ 0,167898582 por ação preferencial.\\n* Os valores recebidos pelos acionistas terão incidência de Imposto de Renda de 15%.\\n New notice\\n**Notícias sobre BBDC3**\\n======================',\n",
       " '### Notícias',\n",
       " '* **BBDC3 lança ação de opção de compra de ações** \\n   A BBDC3, uma das maiores empresas de serviços financeiros do Brasil, lançou uma ação de opção de compra de ações, visando atrair investidores e aumentar a liquidez no mercado.\\n   Com essa ação, os investidores terão a oportunidade de comprar ações da BBDC3 a um preço fixo, antes da data de vencimento.\\n   A ação visa aumentar a participação da BBDC3 no mercado e fortalecer a sua posição como líder nos serviços financeiros.',\n",
       " '* **BBDC3 apresenta resultados financeiros sólidos**\\n   A BBDC3 apresentou resultados financeiros sólidos no último trimestre, com um aumento de 15% nas receitas em relação ao mesmo período do ano anterior.\\n   A empresa destacou a sua capacidade de gerenciar os riscos e manter a estabilidade financeira, mesmo em um cenário de incertezas no mercado.\\n   Os resultados financeiros da BBDC3 foram considerados positivos pela comunidade financeira, reforçando a confiança dos investidores na empresa.',\n",
       " '* **BBDC3 expande serviços para o mercado internacional**\\n   A BBDC3 está expandindo seus serviços para o mercado internacional, com o objetivo de aumentar a sua presença global e atrair novos clientes.\\n   A empresa está investindo em tecnologia e em pessoal qualificado para atender às necessidades dos clientes internacionais.\\n   A expansão da BBDC3 para o mercado internacional é vista como uma oportunidade de crescimento e desenvolvimento para a empresa.\\n New notice\\n# Informações sobre BBDC3',\n",
       " '## Aviso de Recebimento de JCP',\n",
       " 'A partir desta semana, os investidores têm a oportunidade de investir em ações do Banco Bradesco (BBDC3, BBDC4).',\n",
       " '## Investimento no Banco Bradesco',\n",
       " 'Investidores interessados devem estar atentos às datas para garantir o direito aos proventos e planejar suas estratégias de investimento de acordo com o calendário divulgado.',\n",
       " '## Informações Adicionais',\n",
       " '- Acompanhe tudo sobre: Juros sobre capital próprio (JCP)\\n- BTG Pactual passa a oferecer reinvestimento automático de dividendos\\n New notice\\n# Informações sobre BBDC3',\n",
       " '## Lucro líquido acima do esperado',\n",
       " '* O lucro líquido do Bradesco no segundo trimestre foi de R$ 4,716 bilhões, alta de 12% ante o trimestre imediatamente anterior e avanço de 4,4% na comparação com o mesmo período do ano anterior.\\n* O lucro líquido do período foi R$ 4,716 bilhões, o que representa alta de 12% ante o trimestre imediatamente anterior.',\n",
       " '## Ações do Bradesco em alta',\n",
       " '* As ações do Bradesco (BBDC3 e BBDC4) subiram 8% após o lucro líquido do período ser divulgado.\\n* O ordinário (com direito a voto em assembleias) avançou 8,3% e fechou nos R$ 13,61.\\n New notice\\n# Informações sobre BBDC3',\n",
       " '## JCP Bilionário Aprovado',\n",
       " '* O JCP do Bradesco (BBDC4) corresponde a R$ 0,267250553 por ação sob o ticker BBDC3 e R$ 0,293975608 por ação BBDC4.\\n* O pagamento do JCP será realizado até o dia 31 de julho de 2025.\\n* Aqueles com posição acionária na companhia em 30 de dezembro de 2024 terão direito aos proventos.',\n",
       " '## Outras Notícias',\n",
       " '* A partir de 2 de janeiro de 2025, os papeis do Bradesco passarão a ser negociados como ex-proventos.\\n* O Bradesco Seguros investe aproximadamente R$ 1 bilhão anualmente em Tecnologia da Informação.\\n* O grupo acumulou um faturamento de R$ 90 bilhões até setembro de 2024, com um crescimento de 14% em relação ao mesmo período de 2023.\\n New notice\\n**Notícias sobre BBDC3**',\n",
       " '* **Bradesco (BBDC3;BBDC4) pagará R$ 2 bilhões em JCP**: O Bradesco (BBDC3;BBDC4) pagará R$ 2 bilhões em juros sobre o capital próprio (JCP) intermediários. Cada ação ordinária receberá R$ 0,179570675 e cada ação preferencial, R$ 0,197527743.\\n* **Ações serão negociadas \"ex-direito\" a partir de 1º de outubro**: Os acionistas registrados até 30 de setembro terão direito ao JCP. As ações serão negociadas \"ex-direito\" a partir de 1º de outubro.\\n* **Imposto de Renda de 15%**: O Imposto de Renda de 15% vai entrar em cena.\\n New notice\\n# Informações sobre BBDC3',\n",
       " '### Pagamento de JCP em 2025',\n",
       " '* O Bradesco (BBDC3) pagará JCP mensais em 2025.\\n* Os valores previstos a serem pagos são de R$ 0,017249826 por ação ordinária (BBDC3) e R$ 0,018974809 por ação preferencial (BBDC4).\\n* A exceção são os acionistas pessoas jurídicas que estão dispensados da referida tributação e recebem os valores brutos.\\n* O pagamento será feito mediante crédito a ser efetuado nas contas correntes em instituição financeira por eles mantidas.\\n* Os investidores que não possuírem seus dados atualizados deverão ir até a agência Bradesco de sua preferência para atualização cadastral e recebimento dos respectivos valores.\\n New notice\\n### Informações sobre BBDC3',\n",
       " '#### Notícias',\n",
       " '* BBDC3 é uma empresa listada na Bovespa, com código de identificação BBDC3.\\n* A empresa é conhecida como Banco Bradesco S.A.\\n* O gráfico de BBDC3 foi atualizado às 10:38:24, com um atraso de 15 minutos.\\n* É possível atualizar o gráfico para Tempo Real.\\n* O histórico recente de BBDC3 não está disponível sem login.\\n* O suporte para BBDC3 pode ser contatado pelo telefone (11) 4950 5808 ou pelo e-mail suporte@advfn.com.br.\\n* A experiência sem anúncios para BBDC3 pode ser assinada.']"
      ]
     },
     "execution_count": 8,
     "metadata": {},
     "output_type": "execute_result"
    }
   ],
   "source": [
    "dados_new.split('\\n\\n')"
   ]
  },
  {
   "cell_type": "code",
   "execution_count": 9,
   "metadata": {},
   "outputs": [],
   "source": [
    "query = f'Qual é o sentimento sobre as notícias sobre a {ticker}'\n",
    "dados_noticia = ChatSentimento(query=query, noticia=dados_new, modelo_llm=\"deepseek-r1-distill-llama-70b\")"
   ]
  },
  {
   "cell_type": "code",
   "execution_count": 10,
   "metadata": {},
   "outputs": [
    {
     "data": {
      "text/plain": [
       "['<think>\\nOkay, I need to evaluate the overall sentiment of recent news about BBDC3 for an investment analysis. Let me start by going through each news article provided.',\n",
       " 'First, I see several mentions of dividend payments and JCP (juros sobre capital próprio). These are positive indicators because they show that the company is generating enough profit to distribute to shareholders. High dividends can attract investors and indicate financial health.',\n",
       " \"Next, there are articles about the company's strong financial results. For example, the lucro líquido (net income) was above expectations, with a 12% increase. This is a strong positive signal as it reflects good performance and stability.\",\n",
       " 'The expansion into international markets is another positive point. Entering new markets can lead to growth and diversification, which is great for long-term investment.',\n",
       " \"The launch of a stock option plan is also positive. This can increase liquidity and attract more investors, which is beneficial for the company's market presence.\",\n",
       " 'However, I should consider if there are any negative points. Looking through the news, most are positive or neutral. The only potential concern might be the mention of Imposto de Renda (income tax) on the dividends, but this is a standard practice and not necessarily a negative reflection on the company itself.',\n",
       " \"Calculating the sentiment scores: most articles are positive, with a few neutral ones about operational updates. Assigning scores, I'd say each positive article is around +0.8 to +1.0, and neutral ones around 0. Averaging these should give a positive overall sentiment.\",\n",
       " \"The overall index would be well above +0.3, indicating a positive outlook. Therefore, it's a good time to invest in BBDC3.\\n</think>\",\n",
       " '### Análise do Sentimento sobre as Notícias da BBDC3',\n",
       " '#### Sentimento de Cada Notícia:\\n1. **BBDC3 lança ação de opção de compra de ações**  \\n   - **Sentimento:** Positivo  \\n   - **Score:** +1.0  \\n   - **Justificativa:** A ação visa atrair investidores e aumentar a liquidez, indicando uma estratégia de crescimento.',\n",
       " '2. **BBDC3 apresenta resultados financeiros sólidos**  \\n   - **Sentimento:** Positivo  \\n   - **Score:** +1.0  \\n   - **Justificativa:** Aumento de 15% nas receitas e estabilidade financeira em um mercado incerto.',\n",
       " '3. **BBDC3 expande serviços para o mercado internacional**  \\n   - **Sentimento:** Positivo  \\n   - **Score:** +0.8  \\n   - **Justificativa:** Expansão internacional sinaliza crescimento e diversificação.',\n",
       " '4. **Pagamento de dividendos e JCP**  \\n   - **Sentimento:** Positivo  \\n   - **Score:** +0.7  \\n   - **Justificativa:** Distribuição de dividendos e JCP reflete saúde financeira.',\n",
       " '5. **Lucro líquido acima do esperado**  \\n   - **Sentimento:** Positivo  \\n   - **Score:** +1.0  \\n   - **Justificativa:** Crescimento de 12% no lucro líquido indicativo de bom desempenho.',\n",
       " '6. **Ações em alta após resultados financeiros**  \\n   - **Sentimento:** Positivo  \\n   - **Score:** +0.8  \\n   - **Justificativa:** Aumento de 8% nas ações reflete confiança do mercado.',\n",
       " '7. **JCP bilionário aprovado**  \\n   - **Sentimento:** Positivo  \\n   - **Score:** +0.7  \\n   - **Justificativa:** Pagamento significativo de JCP aos acionistas.',\n",
       " '8. **Informações sobre pagamento de JCP em 2025**  \\n   - **Sentimento:** Neutro  \\n   - **Score:** 0  \\n   - **Justificativa:** Atualizações operacionais sem impacto emocional claro.',\n",
       " '9. **Informações gerais sobre BBDC3**  \\n   - **Sentimento:** Neutro  \\n   - **Score:** 0  \\n   - **Justificativa:** Dados básicos sem conotação positiva ou negativa.',\n",
       " '#### Índice de Sentimento Geral:\\n- **Total de Notícias Análisadas:** 9  \\n- **Somatório dos Scores:** +6.0  \\n- **Média do Índice de Sentimento:** +0.666...  ',\n",
       " '#### Conclusão & Recomendação:\\n- **Índice de Sentimento:** +0.666... (acima de +0.3)  \\n- **Outlook:** Positivo  \\n- **Recomendação:** **SIM**, é um bom momento para investir. A BBDC3 apresenta resultados financeiros sólidos, distribuição de dividendos, expansão internacional e ações em alta, indicando um cenário favorável para investidores.']"
      ]
     },
     "execution_count": 10,
     "metadata": {},
     "output_type": "execute_result"
    }
   ],
   "source": [
    "dados_noticia.split('\\n\\n')"
   ]
  },
  {
   "cell_type": "markdown",
   "metadata": {},
   "source": [
    "# Analise tecnica"
   ]
  },
  {
   "cell_type": "code",
   "execution_count": 15,
   "metadata": {},
   "outputs": [],
   "source": [
    "trat_indi = TratandoDadosIndicadores(ticker=ticker, periodo= \"18Y\", intervalo=\"1mo\" )\n"
   ]
  },
  {
   "cell_type": "code",
   "execution_count": 16,
   "metadata": {},
   "outputs": [
    {
     "name": "stderr",
     "output_type": "stream",
     "text": [
      "c:\\Users\\jefer\\Documents\\Ciencia-de-dados\\LLMs\\Agente-investimento\\.venv\\Lib\\site-packages\\finta\\finta.py:828: FutureWarning: Series.__getitem__ treating keys as positions is deprecated. In a future version, integer keys will always be treated as labels (consistent with DataFrame behavior). To access a value by position, use `ser.iloc[pos]`\n",
      "  sig0, xpt0, af0 = True, high[0], af\n",
      "c:\\Users\\jefer\\Documents\\Ciencia-de-dados\\LLMs\\Agente-investimento\\.venv\\Lib\\site-packages\\finta\\finta.py:829: FutureWarning: Series.__getitem__ treating keys as positions is deprecated. In a future version, integer keys will always be treated as labels (consistent with DataFrame behavior). To access a value by position, use `ser.iloc[pos]`\n",
      "  _sar = [low[0] - (high - low).std()]\n",
      "c:\\Users\\jefer\\Documents\\Ciencia-de-dados\\LLMs\\Agente-investimento\\.venv\\Lib\\site-packages\\finta\\finta.py:834: FutureWarning: Series.__getitem__ treating keys as positions is deprecated. In a future version, integer keys will always be treated as labels (consistent with DataFrame behavior). To access a value by position, use `ser.iloc[pos]`\n",
      "  lmin = min(low[i - 1], low[i])\n",
      "c:\\Users\\jefer\\Documents\\Ciencia-de-dados\\LLMs\\Agente-investimento\\.venv\\Lib\\site-packages\\finta\\finta.py:835: FutureWarning: Series.__getitem__ treating keys as positions is deprecated. In a future version, integer keys will always be treated as labels (consistent with DataFrame behavior). To access a value by position, use `ser.iloc[pos]`\n",
      "  lmax = max(high[i - 1], high[i])\n",
      "c:\\Users\\jefer\\Documents\\Ciencia-de-dados\\LLMs\\Agente-investimento\\.venv\\Lib\\site-packages\\finta\\finta.py:838: FutureWarning: Series.__getitem__ treating keys as positions is deprecated. In a future version, integer keys will always be treated as labels (consistent with DataFrame behavior). To access a value by position, use `ser.iloc[pos]`\n",
      "  sig0 = low[i] > _sar[-1]\n",
      "c:\\Users\\jefer\\Documents\\Ciencia-de-dados\\LLMs\\Agente-investimento\\.venv\\Lib\\site-packages\\finta\\finta.py:841: FutureWarning: Series.__getitem__ treating keys as positions is deprecated. In a future version, integer keys will always be treated as labels (consistent with DataFrame behavior). To access a value by position, use `ser.iloc[pos]`\n",
      "  sig0 = high[i] >= _sar[-1]\n"
     ]
    }
   ],
   "source": [
    "dados_indicadores =   trat_indi.indicadores_data_loader()\n"
   ]
  },
  {
   "cell_type": "code",
   "execution_count": 17,
   "metadata": {},
   "outputs": [
    {
     "data": {
      "text/plain": [
       "[Document(metadata={'20 period SMA': 11.89498586654663, '100 period SMA': 12.328042049407959, '200 period SMA': 8.881622960567475, '14 period RSI': 44.05831839384031, 'MACD': -0.4836052105774389, 'SIGNAL': -0.5134500794645371, 'BB_UPPER': 14.279477388183793, 'BB_MIDDLE': 11.89498586654663, 'BB_LOWER': 9.510494344909468, 'pivot': 11.23797709607337, 's1': 10.658881950171024, 's2': 10.153276061596927, 's3': 9.57418091569458, 's4': 8.995085769792233, 'r1': 11.743582984647468, 'r2': 12.322678130549814, 'r3': 12.828284019123911, 'r4': 13.333889907698008, 'VWAP.': 10.502285948554505, '14 period ADX.': 13.103376736941206, 0: 9.926870539983447}, page_content='2023-10-01'),\n",
       " Document(metadata={'20 period SMA': 11.85486011505127, '100 period SMA': 12.375607585906982, '200 period SMA': 8.924924062490463, '14 period RSI': 52.005256820318266, 'MACD': -0.36686188026805233, 'SIGNAL': -0.48413243962524016, 'BB_UPPER': 14.156178073122218, 'BB_MIDDLE': 11.85486011505127, 'BB_LOWER': 9.553542156980322, 'pivot': 11.011313681424744, 's1': 10.62278305436301, 's2': 10.393196800254337, 's3': 10.004666173192604, 's4': 9.61613554613087, 'r1': 11.240899935533417, 'r2': 11.62943056259515, 'r3': 11.859016816703823, 'r4': 12.088603070812496, 'VWAP.': 10.51669332836902, '14 period ADX.': 12.943177867657027, 0: 10.064021665853799}, page_content='2023-11-01'),\n",
       " Document(metadata={'20 period SMA': 11.927965068817139, '100 period SMA': 12.439243588447571, '200 period SMA': 8.971850036382675, '14 period RSI': 55.47136879176508, 'MACD': -0.19918290109023218, 'SIGNAL': -0.4271425319182386, 'BB_UPPER': 14.347632938706383, 'BB_MIDDLE': 11.927965068817139, 'BB_LOWER': 9.508297198927895, 'pivot': 12.125992868273377, 's1': 11.350801755849265, 's2': 10.074536899454875, 's3': 9.299345787030763, 's4': 8.52415467460665, 'r1': 13.402257724667766, 'r2': 14.177448837091879, 'r3': 15.453713693486268, 'r4': 16.729978549880656, 'VWAP.': 10.537827956191629, '14 period ADX.': 13.574599526743663, 0: 10.195686746689336}, page_content='2023-12-01'),\n",
       " Document(metadata={'20 period SMA': 11.867935180664062, '100 period SMA': 12.496842112541199, '200 period SMA': 9.010944865942001, '14 period RSI': 50.90765279944326, 'MACD': -0.14856987715321424, 'SIGNAL': -0.3714280009652337, 'BB_UPPER': 14.159755199675562, 'BB_MIDDLE': 11.867935180664062, 'BB_LOWER': 9.576115161652563, 'pivot': 13.332291743549979, 's1': 12.70065301043176, 's2': 11.871258604176502, 's3': 11.239619871058283, 's4': 10.607981137940063, 'r1': 14.161686149805236, 'r2': 14.793324882923455, 'r3': 15.622719289178713, 'r4': 16.452113695433972, 'VWAP.': 10.55351997834209, '14 period ADX.': 14.057693721007475, 0: 10.421781370488068}, page_content='2024-01-01'),\n",
       " Document(metadata={'20 period SMA': 11.846247673034668, '100 period SMA': 12.542435746192933, '200 period SMA': 9.04382838845253, '14 period RSI': 46.022218807351294, 'MACD': -0.20670194286533672, 'SIGNAL': -0.33848278934525433, 'BB_UPPER': 14.153872956588197, 'BB_MIDDLE': 11.846247673034668, 'BB_LOWER': 9.538622389481139, 'pivot': 12.95177923962728, 's1': 11.953616183310215, 's2': 11.418016515790356, 's3': 10.419853459473291, 's4': 9.421690403156227, 'r1': 13.48737890714714, 'r2': 14.485541963464204, 'r3': 15.021141630984063, 'r4': 15.556741298503923, 'VWAP.': 10.570990507014638, '14 period ADX.': 13.120968679614245, 0: 10.634310316858876}, page_content='2024-02-01'),\n",
       " Document(metadata={'20 period SMA': 11.83436827659607, '100 period SMA': 12.59049455165863, '200 period SMA': 9.07808291077614, '14 period RSI': 47.824461688388894, 'MACD': -0.21664277284291344, 'SIGNAL': -0.31411478604478615, 'BB_UPPER': 14.143348867414838, 'BB_MIDDLE': 11.83436827659607, 'BB_LOWER': 9.525387685777302, 'pivot': 11.878924038912777, 's1': 10.413480885549781, 's2': 9.584789529888626, 's3': 8.11934637652563, 's4': 6.653903223162635, 'r1': 12.707615394573931, 'r2': 14.173058547936927, 'r3': 15.001749903598082, 'r4': 15.830441259259237, 'VWAP.': 10.581132354957292, '14 period ADX.': 12.251152661676631, 0: 10.834087526447435}, page_content='2024-03-01'),\n",
       " Document(metadata={'20 period SMA': 11.748791122436524, '100 period SMA': 12.644936757087708, '200 period SMA': 9.111041105985642, '14 period RSI': 46.49284304226476, 'MACD': -0.24844639023102033, 'SIGNAL': -0.300981106882033, 'BB_UPPER': 13.99590036265746, 'BB_MIDDLE': 11.748791122436524, 'BB_LOWER': 9.501681882215587, 'pivot': 11.533898268598156, 's1': 11.234950215237523, 's2': 10.81093245867329, 's3': 10.511984405312658, 's4': 10.213036351952026, 'r1': 11.957916025162389, 'r2': 12.256864078523021, 'r3': 12.680881835087254, 'r4': 13.104899591651487, 'VWAP.': 10.587855503133243, '14 period ADX.': 11.808577559672239, 0: 10.942073898815362}, page_content='2024-04-01'),\n",
       " Document(metadata={'20 period SMA': 11.6020911693573, '100 period SMA': 12.691814026832581, '200 period SMA': 9.138408733606338, '14 period RSI': 43.28866469960961, 'MACD': -0.3359076439090103, 'SIGNAL': -0.3079664142874285, 'BB_UPPER': 13.765449466929642, 'BB_MIDDLE': 11.6020911693573, 'BB_LOWER': 9.438732871784957, 'pivot': 11.49803655352325, 's1': 10.771008399369261, 's2': 10.215045744661374, 's3': 9.488017590507386, 's4': 8.760989436353398, 'r1': 12.053999208231136, 'r2': 12.781027362385124, 'r3': 13.336990017093012, 'r4': 13.892952671800899, 'VWAP.': 10.59020709822148, '14 period ADX.': 11.004532538924215, 0: 13.963930476668198}, page_content='2024-05-01'),\n",
       " Document(metadata={'20 period SMA': 11.429831600189209, '100 period SMA': 12.725456981658935, '200 period SMA': 9.162836614847183, '14 period RSI': 42.42690220872271, 'MACD': -0.41849479544314505, 'SIGNAL': -0.33007209051857184, 'BB_UPPER': 13.42222034292662, 'BB_MIDDLE': 11.429831600189209, 'BB_LOWER': 9.437442857451797, 'pivot': 10.84698841390626, 's1': 10.13119696266969, 's2': 9.754947636276885, 's3': 9.039156185040316, 's4': 8.323364733803746, 'r1': 11.223237740299066, 'r2': 11.939029191535635, 'r3': 12.31527851792844, 'r4': 12.691527844321246, 'VWAP.': 10.587739513158255, '14 period ADX.': 10.717226740623728, 0: 13.963930476668198}, page_content='2024-06-01'),\n",
       " Document(metadata={'20 period SMA': 11.395206069946289, '100 period SMA': 12.742652788162232, '200 period SMA': 9.189682449102401, '14 period RSI': 44.48526395869677, 'MACD': -0.44748787903393605, 'SIGNAL': -0.3535552482216447, 'BB_UPPER': 13.416307057388229, 'BB_MIDDLE': 11.395206069946289, 'BB_LOWER': 9.374105082504348, 'pivot': 10.322986916689201, 's1': 9.949276035058848, 's2': 9.615387092090353, 's3': 9.24167621046, 's4': 8.867965328829646, 'r1': 10.656875859657696, 'r2': 11.03058674128805, 'r3': 11.364475684256544, 'r4': 11.698364627225038, 'VWAP.': 10.588972345752246, '14 period ADX.': 9.971231437701288, 0: 13.804937176550299}, page_content='2024-07-01'),\n",
       " Document(metadata={'20 period SMA': 11.511283349990844, '100 period SMA': 12.785205373764038, '200 period SMA': 9.232324773073197, '14 period RSI': 56.51178816401722, 'MACD': -0.2428540256000531, 'SIGNAL': -0.3314150036973264, 'BB_UPPER': 13.72690274499979, 'BB_MIDDLE': 11.511283349990844, 'BB_LOWER': 9.295663954981897, 'pivot': 10.762910458948456, 's1': 10.389153894453392, 's2': 10.107252948818896, 's3': 9.733496384323832, 's4': 9.359739819828768, 'r1': 11.044811404582951, 'r2': 11.418567969078016, 'r3': 11.700468914712511, 'r4': 11.982369860347006, 'VWAP.': 10.610625718159959, '14 period ADX.': 11.123434643104053, 0: 13.652303608437116}, page_content='2024-08-01'),\n",
       " Document(metadata={'20 period SMA': 11.612807416915894, '100 period SMA': 12.829637098312379, '200 period SMA': 9.274132779836656, '14 period RSI': 52.22459501390601, 'MACD': -0.15796363149206094, 'SIGNAL': -0.2967247292562733, 'BB_UPPER': 13.808951021382176, 'BB_MIDDLE': 11.612807416915894, 'BB_LOWER': 9.416663812449611, 'pivot': 12.594233406917722, 's1': 11.550529940232632, 's2': 9.643946614474052, 's3': 8.600243147788962, 's4': 7.556539681103873, 'r1': 14.500816732676302, 'r2': 15.544520199361392, 'r3': 17.451103525119972, 'r4': 19.35768685087855, 'VWAP.': 10.62484455896085, '14 period ADX.': 12.296884353177395, 0: 9.989097973720707}, page_content='2024-09-01'),\n",
       " Document(metadata={'20 period SMA': 11.718479681015015, '100 period SMA': 12.862632989883423, '200 period SMA': 9.312190009355545, '14 period RSI': 50.87361572092469, 'MACD': -0.11507299473116817, 'SIGNAL': -0.2603943823512523, 'BB_UPPER': 13.797170682344788, 'BB_MIDDLE': 11.718479681015015, 'BB_LOWER': 9.639788679685243, 'pivot': 12.838982994476957, 's1': 11.857234428235678, 's2': 11.237684150355634, 's3': 10.255935584114354, 's4': 9.274187017873075, 'r1': 13.458533272357002, 'r2': 14.440281838598281, 'r3': 15.059832116478326, 'r4': 15.67938239435837, 'VWAP.': 10.638441529573635, '14 period ADX.': 13.128335110426573, 0: 9.989097973720707}, page_content='2024-10-01'),\n",
       " Document(metadata={'20 period SMA': 11.745662355422974, '100 period SMA': 12.873968181610108, '200 period SMA': 9.345668214559556, '14 period RSI': 45.41636176019984, 'MACD': -0.18979644397395035, 'SIGNAL': -0.24627479467579189, 'BB_UPPER': 13.756048876289492, 'BB_MIDDLE': 11.745662355422974, 'BB_LOWER': 9.735275834556456, 'pivot': 12.35854749119162, 's1': 11.776407142930134, 's2': 11.394676010713784, 's3': 10.812535662452298, 's4': 10.230395314190812, 'r1': 12.74027862340797, 'r2': 13.322418971669457, 'r3': 13.704150103885807, 'r4': 14.085881236102157, 'VWAP.': 10.64475039658376, '14 period ADX.': 12.61073092309521, 0: 10.142363317200608}, page_content='2024-11-01'),\n",
       " Document(metadata={'20 period SMA': 11.72439227104187, '100 period SMA': 12.881000661849976, '200 period SMA': 9.373663254976272, '14 period RSI': 43.72384532701514, 'MACD': -0.28291521855035917, 'SIGNAL': -0.25360287945070537, 'BB_UPPER': 13.787505467990114, 'BB_MIDDLE': 11.72439227104187, 'BB_LOWER': 9.661279074093626, 'pivot': 11.242347756346115, 's1': 10.111976386210321, 's2': 9.440212728780503, 's3': 8.309841358644709, 's4': 7.179469988508915, 'r1': 11.914111413775933, 'r2': 13.044482783911727, 'r3': 13.716246441341545, 'r4': 14.388010098771362, 'VWAP.': 10.644166470053142, '14 period ADX.': 11.771280547645713, 0: 13.820731560718237}, page_content='2024-12-01'),\n",
       " Document(metadata={'20 period SMA': 11.684760522842407, '100 period SMA': 12.894312753677369, '200 period SMA': 9.402641655206681, '14 period RSI': 45.5530163842126, 'MACD': -0.3218944501912979, 'SIGNAL': -0.2672611935988239, 'BB_UPPER': 13.795809477410858, 'BB_MIDDLE': 11.684760522842407, 'BB_LOWER': 9.573711568273955, 'pivot': 10.601338295807025, 's1': 9.83162548834126, 's2': 9.340044075132228, 's3': 8.570331267666463, 's4': 7.800618460200697, 'r1': 11.092919709016057, 'r2': 11.862632516481822, 'r3': 12.354213929690854, 'r4': 12.845795342899885, 'VWAP.': 10.64278820373359, '14 period ADX.': 11.031866204643398, 0: 13.820731560718237}, page_content='2025-01-01'),\n",
       " Document(metadata={'20 period SMA': 11.602916955947876, '100 period SMA': 12.89999526977539, '200 period SMA': 9.436938709020614, '14 period RSI': 47.28235941953393, 'MACD': -0.31994517864085914, 'SIGNAL': -0.2777979906072309, 'BB_UPPER': 13.673653418542267, 'BB_MIDDLE': 11.602916955947876, 'BB_LOWER': 9.532180493353485, 'pivot': 10.514366334742691, 's1': 10.106230353674515, 's2': 9.503743361157625, 's3': 9.095607380089449, 's4': 8.687471399021273, 'r1': 11.116853327259582, 'r2': 11.524989308327758, 'r3': 12.127476300844648, 'r4': 12.72996329336154, 'VWAP.': 10.643074774309921, '14 period ADX.': 10.358817942263181, 0: 13.66437747197854}, page_content='2025-02-01')]"
      ]
     },
     "execution_count": 17,
     "metadata": {},
     "output_type": "execute_result"
    }
   ],
   "source": [
    "dados_indicadores"
   ]
  },
  {
   "cell_type": "code",
   "execution_count": 8,
   "metadata": {},
   "outputs": [],
   "source": [
    "response = ChatAnaliseTecnica(\n",
    "    query=f\"Qual é a tendencia sobre a empresa {ticker}\",\n",
    "    dados=dados_indicadores,\n",
    "    modelo_llm=\"deepseek-r1-distill-llama-70b\",\n",
    "    stream=True\n",
    ")"
   ]
  },
  {
   "cell_type": "code",
   "execution_count": 9,
   "metadata": {},
   "outputs": [
    {
     "name": "stdout",
     "output_type": "stream",
     "text": [
      "<think>\n",
      "Okay, I need to analyze the trend for PETR4 using the given technical indicators. Let me go through each indicator step by step.\n",
      "\n",
      "First, looking at the Moving Averages. The 20-period SMA is 30.14, the 100-period is 12.83, and the 200-period is 9.23. Since the 20-period is above the 100 and 200, it suggests an uptrend. Also, the 20-period SMA is increasing over time, which reinforces the uptrend.\n",
      "\n",
      "Next, the RSI is at 64.58, which is below 70, so it's not overbought. That means there's still room for the price to go up without indicating a reversal.\n",
      "\n",
      "The MACD is 4.62 and the Signal Line is 4.87. Since MACD is below the Signal Line, it might indicate a bearish crossover, but the values are still positive. This could mean a potential slowdown in the uptrend, but not a reversal yet.\n",
      "\n",
      "Bollinger Bands show the upper band at 40.15, middle at 30.14, and lower at 20.12. The current price is near the middle band, which suggests moderate volatility. The bands are contracting, so volatility is decreasing, which might mean a breakout soon.\n",
      "\n",
      "Looking at support and resistance, the pivot is 35.17, and the nearest resistance is r1 at 37.85. The supports are s1 at 33.38 and s2 at 30.69. The current price is near the pivot, so it's in a strong position but might face resistance at r1.\n",
      "\n",
      "VWAP is 9.37, which is way below the current price, so it's not a concern for support.\n",
      "\n",
      "The ADX is 45.09, which is above 25, indicating a strong trend. Since the price is in an uptrend, this ADX value supports that the trend is strong and likely to continue.\n",
      "\n",
      "Putting it all together: the price is in an uptrend with strong momentum. The MACD might suggest a slight weakening, but overall, the trend is still up. The RSI isn't overbought, so buying could still be a good strategy. The Bollinger Bands suggest a potential breakout, so waiting for that might be wise.\n",
      "\n",
      "So, the recommendation is to buy on a breakout above r1 or wait for a pullback to s1. Also, set a target at r2 and stop-loss below s2.\n",
      "</think>\n",
      "\n",
      "### Análise Técnica da Ação PETR4\n",
      "\n",
      "#### **Trend Identification (Identificação da Tendência):**\n",
      "- **Médias Móveis (Moving Averages):**\n",
      "  - A ação PETR4 está atualmente acima de todas as médias móveis (20, 100 e 200 períodos), indicando uma tendência de **uptrend**.\n",
      "  - A média móvel de 20 períodos (20-period SMA) está acima das médias móveis de 100 e 200 períodos, confirmando a força da tendência de alta.\n",
      "\n",
      "- **ADX (Average Directional Index):**\n",
      "  - O ADX está em 45,09, que é maior que 25, indicando uma tendência forte e bem estabelecida.\n",
      "\n",
      "#### **Market Strength (Força do Mercado):**\n",
      "- **RSI (Relative Strength Index):**\n",
      "  - O RSI de 14 períodos está em 64,58, indicando que o ativo não está em território de sobrecompra (acima de 70) nem de subcompra (abaixo de 30). Isso sugere que ainda há espaço para continuação da tendência de alta.\n",
      "\n",
      "- **MACD e Signal Line:**\n",
      "  - O MACD está em 4,622 e a Signal Line está em 4,871. Atualmente, o MACD está abaixo da Signal Line, o que pode indicar um sinal de venda ou uma pausa na tendência de alta. No entanto, como ambos os indicadores estão acima da linha de zero, a tendência de alta ainda predomina.\n",
      "\n",
      "#### **Support and Resistance (Suporte e Resistência):**\n",
      "- **Níveis de Suporte e Resistência:**\n",
      "  - O ponto pivô está em 35,17.\n",
      "  - O primeiro nível de resistência (r1) está em 37,85, e o segundo nível de suporte (s2) está em 30,69.\n",
      "  - O preço atual está muito próximo do ponto pivô, indicando que o ativo está em uma zona de equilíbrio.\n",
      "\n",
      "- **Bollinger Bands:**\n",
      "  - As Bandas de Bollinger mostram que o preço está atualmente próximo da banda do meio (BB_MIDDLE), com a banda superior em 40,15 e a banda inferior em 20,12.\n",
      "  - A contração das bandas pode indicar uma redução na volatilidade e um possível breakout.\n",
      "\n",
      "#### **Possible Strategy (Estratégia Possível):**\n",
      "- **Recomendação:**\n",
      "  - **Comprar (Buy):** Se o preço ultrapassar a resistência r1 (37,85), isso pode indicar continuação da tendência de alta. Um alvo de lucro pode ser estabelecido na resistência seguinte (r2).\n",
      "  - **Aguardar (Wait):** Se o preço encontrar suporte no nível s1 (33,38) ou s2 (30,69), pode ser uma boa oportunidade de entrada, especialmente se houver confirmação de reversão na RSI ou no MACD.\n",
      "  - **Stop-Loss:** Estabelecer um stop-loss abaixo do suporte s2 (30,69) para proteger contra reversões inesperadas.\n",
      "\n",
      "#### **Conclusão:**\n",
      "A tendência atual da PETR4 é de **uptrend** com força moderada. O MACD e a RSI indicam que a tendência de alta pode continuar, mas é importante monitorar os níveis de suporte e resistência para identificar pontos de entrada e saída. Recomendo **comprar** em caso de breakout acima de r1 ou **aguardar** uma pullback para entrar na tendência."
     ]
    }
   ],
   "source": [
    "for chunk in response:\n",
    "    print(chunk, end=\"\", flush=True)"
   ]
  },
  {
   "cell_type": "code",
   "execution_count": null,
   "metadata": {},
   "outputs": [
    {
     "data": {
      "text/plain": [
       "Date\n",
       "2020-02-06 00:00:00-03:00     9.339462\n",
       "2020-02-07 00:00:00-03:00     9.259444\n",
       "2020-02-10 00:00:00-03:00     9.323457\n",
       "2020-02-11 00:00:00-03:00     9.435479\n",
       "2020-02-12 00:00:00-03:00     9.643520\n",
       "                               ...    \n",
       "2025-01-31 00:00:00-03:00    37.689999\n",
       "2025-02-03 00:00:00-03:00    37.500000\n",
       "2025-02-04 00:00:00-03:00    37.130001\n",
       "2025-02-05 00:00:00-03:00    36.860001\n",
       "2025-02-06 00:00:00-03:00    36.790001\n",
       "Name: Close, Length: 1245, dtype: float64"
      ]
     },
     "execution_count": 48,
     "metadata": {},
     "output_type": "execute_result"
    }
   ],
   "source": [
    "import yfinance as yf\n",
    "ticker = \"PETR4.SA\"\n",
    "acao = yf.Ticker(ticker,)\n",
    "preco = acao.history(period=\"10Y\", interval=\"1d\")['Close']\n",
    "preco"
   ]
  },
  {
   "cell_type": "code",
   "execution_count": 49,
   "metadata": {},
   "outputs": [
    {
     "data": {
      "text/plain": [
       "Date\n",
       "2020-07-23 00:00:00-03:00    0.000461\n",
       "2021-04-15 00:00:00-03:00    0.792834\n",
       "2021-08-17 00:00:00-03:00    1.609911\n",
       "2021-12-02 00:00:00-03:00    3.250487\n",
       "2022-04-14 00:00:00-03:00    2.970249\n",
       "2022-05-24 00:00:00-03:00    3.715490\n",
       "2022-08-12 00:00:00-03:00    6.732003\n",
       "2022-11-22 00:00:00-03:00    1.748708\n",
       "2023-04-28 00:00:00-03:00    2.930163\n",
       "2023-06-13 00:00:00-03:00    1.893576\n",
       "2023-08-22 00:00:00-03:00    1.149304\n",
       "2023-11-22 00:00:00-03:00    1.371248\n",
       "2024-04-26 00:00:00-03:00    1.150024\n",
       "2024-05-03 00:00:00-03:00    1.776022\n",
       "2024-06-12 00:00:00-03:00    1.043242\n",
       "2024-08-22 00:00:00-03:00    1.053200\n",
       "2024-12-12 00:00:00-03:00    1.551743\n",
       "2024-12-26 00:00:00-03:00    1.328207\n",
       "Name: Dividends, dtype: float64"
      ]
     },
     "execution_count": 49,
     "metadata": {},
     "output_type": "execute_result"
    }
   ],
   "source": [
    "dividendos = acao.dividends\n",
    "dividendos"
   ]
  },
  {
   "cell_type": "code",
   "execution_count": null,
   "metadata": {},
   "outputs": [],
   "source": [
    "acoes = pd.read_csv(\"C:/Users/jefer/Downloads/setor.csv\")['tic'].to_list()\n",
    "lista_valuation = []\n",
    "for acao in acoes:\n",
    "    acao_sa = acao + \".SA\"\n",
    "    valu = ValuationModoloGordon(acao_sa)\n",
    "    try:\n",
    "        dicionario = valu.preco_acao()\n",
    "        lista_valuation.append(dicionario)\n",
    "    except KeyError:\n",
    "        print(\"Erro ao obter dados da ação:\", acao_sa)\n",
    "    #print(dicionario)\n",
    "    \n",
    "valuation_acoes = pd.DataFrame(lista_valuation)\n",
    "valuation_acoes.sort_values(by='diferenca', ascending=False).head(40)"
   ]
  },
  {
   "cell_type": "markdown",
   "metadata": {},
   "source": [
    "# Valuation"
   ]
  },
  {
   "cell_type": "code",
   "execution_count": 2,
   "metadata": {},
   "outputs": [],
   "source": [
    "from langchain_core.prompts import PromptTemplate\n",
    "from langchain_groq import ChatGroq\n",
    "from langchain_core.output_parsers import StrOutputParser\n",
    "from chat_bots import get_secret_key\n",
    "from pydantic import SecretStr\n",
    "from typing import List, Iterator\n",
    "\n",
    "try:\n",
    "    api_secret_groq = get_secret_key(\"GROQ_API_KEY\")\n",
    "except KeyError as exc:\n",
    "    raise ValueError(\"API key inválida ou não definida\") from exc\n",
    "\n",
    "\n",
    "def ChatValuation(\n",
    "    query: str,\n",
    "    precos_atual_valuations: str,\n",
    "    indicadores_valuation_fluxo: str,\n",
    "    valuation_metodo_gordon: str,\n",
    "    valuation_fluxo_caixa: str,\n",
    "    api_secret: SecretStr | None = api_secret_groq,\n",
    "    temperature: float = 0.5,\n",
    "    modelo_llm: str = \"llama-3.3-70b-versatile\",\n",
    "    stream: bool = False,\n",
    ") -> str | Iterator[str]:\n",
    "    prompt = PromptTemplate(\n",
    "        input_variables=[\"query\", \"precos_atual_valuations\", \"indicadores_valuation_fluxo\", \"valuation_metodo_gordon\", \"valuation_fluxo_caixa\"],\n",
    "        template=\"\"\"\n",
    "        Você é um agente especializado em avaliação de empresas, responsável por determinar se uma empresa está subavaliada ou sobreavaliada.\n",
    "\n",
    "        Para isso, você recebe duas estimativas de valuation:\n",
    "        1️⃣ Valuation pelo Fluxo de Caixa Descontado (FCD)\n",
    "        2️⃣ Valuation pelo Modelo de Gordon (Crescimento Perpétuo)\n",
    "\n",
    "        Além disso, você tem acesso ao preço atual da ação, permitindo comparar as estimativas com o valor de mercado.\n",
    "\n",
    "        Descrição dos Dados\n",
    "        1. Valores da Ação \n",
    "        Voce recebe o valor atual da ação e os valores estimados pelos dois métodos de valuation. \n",
    "        \n",
    "        2. Valuation pelo Modelo de Gordon\n",
    "        Baseado no crescimento sustentável dos dividendos ao longo do tempo.\n",
    "        Os dados incluem dividendo mediano, taxa livre de risco, beta, CAPM, taxa de crescimento sustentável e valuation estimado da ação.\n",
    "        \n",
    "        3. Valuation pelo Fluxo de Caixa Descontado (FCD)\n",
    "        Baseado na projeção dos fluxos de caixa futuros, trazidos ao valor presente.\n",
    "        Os dados incluem receita anual, EBIT, imposto, CAPEX, depreciação, fluxo de caixa e valor presente dos fluxos futuros.\n",
    "        \n",
    "        4. Inputs Utilizados para o Cálculo do FCD\n",
    "\n",
    "        Indicadores utilizados na projeção, como margem EBIT, última receita, variação da receita, depreciação sobre CAPEX, relação CAPEX/receita, WACC, número de ações, dívida total, caixa disponível, outros ativos, passivos e necessidade de capital de giro.\n",
    "        Tarefa do Modelo\n",
    "        \n",
    "        1. Comparação entre os Métodos de Valuation\n",
    "\n",
    "        O valuation pelo modelo de Gordon está próximo do valuation pelo fluxo de caixa descontado?\n",
    "        Se houver uma grande diferença entre os dois, quais fatores podem estar influenciando essa discrepância?\n",
    "        💰 2. Análise da Rentabilidade e Sustentabilidade Financeira\n",
    "\n",
    "        A empresa apresenta fluxo de caixa positivo ou negativo ao longo dos anos projetados?\n",
    "        O CAPEX está elevado a ponto de comprometer o fluxo de caixa futuro?\n",
    "        A geração de valor da empresa justifica o valuation calculado?\n",
    "        \n",
    "        3. Riscos e Inconsistências\n",
    "\n",
    "        O crescimento da receita e do EBIT são sustentáveis ou indicam uma possível superestimação?\n",
    "        O nível de endividamento é preocupante? A relação entre dívida e caixa disponível sugere riscos financeiros?\n",
    "        O WACC está adequado para descontar os fluxos de caixa futuros?\n",
    "        \n",
    "        4. Conclusão e Recomendação\n",
    "\n",
    "        Com base nos cálculos, a empresa está subavaliada ou sobreavaliada?\n",
    "        Qual seria a recomendação para investidores com base nos dados analisados?\n",
    "        Formato de Resposta Esperado\n",
    "        O modelo deve fornecer uma análise estruturada e objetiva, respondendo cada questão com base nos dados fornecidos.\n",
    "        A resposta deve incluir comparações numéricas, justificativas para possíveis discrepâncias entre os métodos de valuation e considerações sobre os riscos financeiros.\n",
    "\n",
    "        REQUESTED ANALYSIS:\n",
    "        Question: {query}\n",
    "        Precos dos valuations e atual: {precos_atual_valuations}\n",
    "        Inputs passado para estimar fluxo de caixa: {indicadores_valuation_fluxo}\n",
    "        Valuation Fluxo Caixa: {valuation_fluxo_caixa}\n",
    "        Valuation Metodo Gordon: {valuation_metodo_gordon}    \n",
    "        \n",
    "        Always response the questions in Portuguese.\n",
    "\n",
    "      \"\"\",\n",
    "    )\n",
    "\n",
    "    model = ChatGroq(\n",
    "        api_key=api_secret,\n",
    "        model=modelo_llm,\n",
    "        # model=\"llama-3.2-11b-vision-preview\",\n",
    "        temperature=temperature,\n",
    "        stop_sequences=None,\n",
    "    )\n",
    "\n",
    "    llm_chain = prompt | model | StrOutputParser()\n",
    "\n",
    "    if stream:\n",
    "        response_stream = llm_chain.stream(input={\"query\": query, \n",
    "                                                  \"precos_atual_valuations\": precos_atual_valuations,\n",
    "                                                  \"indicadores_valuation_fluxo\": indicadores_valuation_fluxo,\n",
    "                                                  \"valuation_metodo_gordon\": valuation_metodo_gordon,\n",
    "                                                  \"valuation_fluxo_caixa\": valuation_fluxo_caixa})\n",
    "        return response_stream\n",
    "\n",
    "    else:\n",
    "        response_invoke = llm_chain.invoke(input={\"query\": query, \n",
    "                                                  \"precos_atual_valuations\": precos_atual_valuations,\n",
    "                                                  \"indicadores_valuation_fluxo\": indicadores_valuation_fluxo,\n",
    "                                                  \"valuation_metodo_gordon\": valuation_metodo_gordon,\n",
    "                                                  \"valuation_fluxo_caixa\": valuation_fluxo_caixa})\n",
    "        return response_invoke"
   ]
  },
  {
   "cell_type": "code",
   "execution_count": 3,
   "metadata": {},
   "outputs": [
    {
     "name": "stdout",
     "output_type": "stream",
     "text": [
      "YF.download() has changed argument auto_adjust default to True\n"
     ]
    },
    {
     "name": "stderr",
     "output_type": "stream",
     "text": [
      "[*********************100%***********************]  1 of 1 completed\n"
     ]
    },
    {
     "name": "stdout",
     "output_type": "stream",
     "text": [
      "Diferença entre valuation e cotação: nan%\n"
     ]
    },
    {
     "name": "stderr",
     "output_type": "stream",
     "text": [
      "[*********************100%***********************]  1 of 1 completed\n",
      "[*********************100%***********************]  1 of 1 completed\n"
     ]
    },
    {
     "name": "stdout",
     "output_type": "stream",
     "text": [
      "<think>\n",
      "Ok, estou analisando os dados fornecidos para determinar se a empresa BRAV3 está subavaliada ou sobreavaliada. Primeiro, vou comparar os dois métodos de valuation: o Modelo de Gordon e o Fluxo de Caixa Descontado (FCD).\n",
      "\n",
      "No Modelo de Gordon, o valuation está marcado como \"nan\", o que indica um problema. Isso pode ser devido a dados ausentes, como o dividendo mediano, que também está como \"nan\". Sem essas informações, não posso calcular o valuation por esse método. Por outro lado, o preço atual da ação é de R$ 19,93, e o valuation pelo FCD é de R$ -72.992,4. Isso já me parece estranho, pois um valuation negativo não é comum.\n",
      "\n",
      "Agora, analisando o FCD, vejo que os fluxos de caixa projetados para os anos 2025 a 2029 são todos negativos. Isso é um sinal de alerta, pois uma empresa com fluxos de caixa consistentemente negativos pode estar enfrentando problemas financeiros graves. Além disso, o CAPEX (investimentos em ativos fixos) está muito alto, o que pode estar consumindo muito capital e afetando o fluxo de caixa.\n",
      "\n",
      "Os indicadores financeiros como a margem EBIT são baixos, apenas 5,96%, o que pode indicar que a empresa não está gerando lucro suficiente. O WACC (custo de capital) está em 10,5%, o que é razoável, mas com os fluxos de caixa negativos, o valor presente fica muito baixo, resultando no valuation negativo.\n",
      "\n",
      "Passando para a análise de rentabilidade, o fluxo de caixa negativo é um grande problema. Isso pode significar que a empresa está gastando mais do que está ganhando, o que não é sustentável a longo prazo. O CAPEX elevado pode estar comprometendo o futuro da empresa, já que tais investimentos não estão se traduzindo em fluxos de caixa positivos.\n",
      "\n",
      "Quanto aos riscos, o crescimento da receita e do EBIT não parece sustentável, já que ambos estão aumentando significativamente a cada ano, mas os fluxos de caixa são negativos. Isso pode indicar que a empresa está expandindo, mas não conseguindo gerar dinheiro. O nível de endividamento também é preocupante, com dívida total de R$ 9,35 bilhões e caixa disponível de apenas R$ 1,91 bilhão. Isso significa que a empresa pode estar tendo dificuldades em pagar suas dívidas.\n",
      "\n",
      "O WACC pode estar adequado, mas se os fluxos de caixa forem negativos, qualquer desconto não vai mudar o fato de que o valor é negativo. Além disso, a relação entre dívidas e caixa é desfavorável, o que aumenta o risco financeiro.\n",
      "\n",
      "Concluindo, com base nos dados fornecidos, o valuation pelo FCD é negativo, enquanto o preço de mercado é positivo. Isso sugere que a empresa está sobreavaliada pelo mercado, pois o valor calculado é muito abaixo do preço atual. Recomendo cautela aos investidores, pois os indicadores financeiros não são positivos, e a empresa pode estar enfrentando sérios problemas de fluxo de caixa e endividamento.\n",
      "</think>\n",
      "\n",
      "### Análise da Empresa BRAV3\n",
      "\n",
      "#### 1. Comparação entre os Métodos de Valuation\n",
      "\n",
      "- **Modelo de Gordon**: O valuation pelo Modelo de Gordon não pôde ser calculado devido à ausência de dados essenciais, como o dividendo mediano.\n",
      "- **Fluxo de Caixa Descontado (FCD)**: O valuation pelo FCD resultou em um valor negativo (-R$ 72.992,4), indicando potenciais problemas financeiros graves.\n",
      "\n",
      "#### 2. Análise da Rentabilidade e Sustentabilidade Financeira\n",
      "\n",
      "- **Fluxo de Caixa**: Todos os fluxos de caixa projetados são negativos, sugerindo que a empresa está enfrentando dificuldades financeiras significativas.\n",
      "- **CAPEX Elevado**: O CAPEX está muito alto, o que pode estar comprometendo o fluxo de caixa futuro e indicando má alocação de recursos.\n",
      "- **Geração de Valor**: A geração de valor da empresa não justifica o valuation calculado, especialmente considerando os fluxos de caixa negativos.\n",
      "\n",
      "#### 3. Riscos e Inconsistências\n",
      "\n",
      "- **Crescimento Insustentável**: O crescimento da receita e do EBIT não parece sustentável, já que os fluxos de caixa são negativos.\n",
      "- **Endividamento Preocupante**: A dívida total é significativamente maior que o caixa disponível, indicando riscos financeiros.\n",
      "- **WACC Adequado**: O WACC está adequado, mas os fluxos de caixa negativos invalidam qualquer desconto, resultando em um valuation negativo.\n",
      "\n",
      "#### 4. Conclusão e Recomendação\n",
      "\n",
      "- **Conclusão**: A empresa está sobreavaliada, pois o valuation pelo FCD é significativamente menor que o preço de mercado.\n",
      "- **Recomendação**: Investidores devem exercer cautela devido aos fluxos de caixa negativos, alto endividamento e indicadores financeiros desfavoráveis.\n",
      "\n",
      "**Resposta Final**: A empresa BRAV3 está sobreavaliada. Recomendo cautela aos investidores devido aos indicadores financeiros negativos e riscos associados."
     ]
    }
   ],
   "source": [
    "ticker = 'BRAV3'\n",
    "dados_valu = TratandoDadosValuation(ticker=ticker, anos_projecao=5, taxa_crescimento_perpetuidade=0.014, calculo_necessidade_capital_de_giro=False)\n",
    "markdow_gordon, markdow_fluxo, markdow_preco, markdow_indicadores = dados_valu.dados_valuation()\n",
    "response = ChatValuation(\n",
    "    query=f\"Qual é o valuation da empresa {ticker}\",\n",
    "    precos_atual_valuations=markdow_preco,\n",
    "    indicadores_valuation_fluxo=markdow_indicadores,\n",
    "    valuation_metodo_gordon=markdow_gordon,\n",
    "    valuation_fluxo_caixa=markdow_fluxo,\n",
    "    modelo_llm=\"deepseek-r1-distill-llama-70b\",\n",
    "    stream=True\n",
    ")\n",
    "for chunk in response:\n",
    "    print(chunk, end=\"\", flush=True)"
   ]
  },
  {
   "cell_type": "code",
   "execution_count": null,
   "metadata": {},
   "outputs": [],
   "source": []
  }
 ],
 "metadata": {
  "kernelspec": {
   "display_name": ".venv",
   "language": "python",
   "name": "python3"
  },
  "language_info": {
   "codemirror_mode": {
    "name": "ipython",
    "version": 3
   },
   "file_extension": ".py",
   "mimetype": "text/x-python",
   "name": "python",
   "nbconvert_exporter": "python",
   "pygments_lexer": "ipython3",
   "version": "3.12.0"
  }
 },
 "nbformat": 4,
 "nbformat_minor": 2
}
