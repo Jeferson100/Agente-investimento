{
 "cells": [
  {
   "cell_type": "code",
   "execution_count": 10,
   "metadata": {},
   "outputs": [
    {
     "name": "stderr",
     "output_type": "stream",
     "text": [
      "USER_AGENT environment variable not set, consider setting it to identify your requests.\n"
     ]
    },
    {
     "data": {
      "text/plain": [
       "True"
      ]
     },
     "execution_count": 10,
     "metadata": {},
     "output_type": "execute_result"
    }
   ],
   "source": [
    "import pandas as pd\n",
    "from chat_bots import ChatSentimento, ChatFundamentalistas, ChatAnaliseTecnica, ChatBot, ChatValuation\n",
    "from coleta_dados import (DadosFundamentalistas, \n",
    "                          DadosNoticiasBuscadorYahoo, \n",
    "                          DadosNoticiasGoogle, \n",
    "                          CalculoWACC, \n",
    "                          VariacaoReceita, \n",
    "                          ValuationModoloGordon, \n",
    "                          OutrosAtivosNaoOperacionais,\n",
    "                          PassivoTotalMenosDivida,\n",
    "                          NecessidadeCapitalGiro,\n",
    "                          IndicadoresFinanceiros,\n",
    "                          ValuationFluxoCaixaDescontado)\n",
    "\n",
    "from tratando_dados import tratando_dados_fundamentalistas, TratarDadosNoticias, TratandoDadosIndicadores, TratandoDadosValuation\n",
    "from juncao_modelos_dados import ModeloValuation, ModeloFundamentos, ModeloSentimento, ModeloAnaliseTecnica\n",
    "from dotenv import load_dotenv\n",
    "import ipeadatapy as ip\n",
    "from datetime import datetime\n",
    "import pandas as pd\n",
    "import yfinance as yf\n",
    "import sidrapy\n",
    "import warnings\n",
    "warnings.filterwarnings('ignore')\n",
    "load_dotenv()\n"
   ]
  },
  {
   "cell_type": "markdown",
   "metadata": {},
   "source": [
    "# Fundamentalista"
   ]
  },
  {
   "cell_type": "code",
   "execution_count": 129,
   "metadata": {},
   "outputs": [],
   "source": [
    "tic = 'BBDC3'\n",
    "data_inicio = '2020-01-01'\n",
    "\n",
    "dados_fundamentalistas = DadosFundamentalistas(tic, data_inicio)\n",
    "trat = tratando_dados_fundamentalistas(tic, data_inicio)"
   ]
  },
  {
   "cell_type": "code",
   "execution_count": 5,
   "metadata": {},
   "outputs": [
    {
     "data": {
      "text/plain": [
       "[Document(metadata={'receita_liquida': 52500.0, 'resultado_bruto': 15210.0, 'lucro_liquido': 4870.0, 'tic': 'BBDC3', 'capex_tres_meses': -10.25, 'fluxo_caixa_operacional': -6280.0, 'fluxo_caixa_investimentos': 8500.0, 'fluxo_caixa_financiamento': -4050.0, 'aumento_reducao_caixa_equivalentes': -1930.0, 'preço_lucro': '9.32', 'preço_receita_líquida': '0.57', 'preço_fco': '-3.30', 'preço_ativo_total': '0.07', 'market_cap_empresa': 144240.0, 'dividend_yield': 0.1076999999999999, 'ativo_total': 2020000.0, 'patrimonio_liquido': 167130.0, 'valor_patrimonial_acao': '15.70', 'retorno_sobre_patrimonio_liquido_inicial': 0.088, 'retorno_sobre_ativo_inicial': 0.008, 'margem_bruta': 0.277, 'margem_liquida': 0.061, 'giro_do_ativo_inicial': '0.13', 'alavancagem_financeira': '12.07', 'passivo_patrimonio_liquido': '11.07'}, page_content='2024-09-30'),\n",
       " Document(metadata={'receita_liquida': 51500.0, 'resultado_bruto': 16940.0, 'lucro_liquido': 4120.0, 'tic': 'BBDC3', 'capex_tres_meses': -1190.0, 'fluxo_caixa_operacional': 28570.0, 'fluxo_caixa_investimentos': -6580.0, 'fluxo_caixa_financiamento': -13280.0, 'aumento_reducao_caixa_equivalentes': 8790.0, 'preço_lucro': '9.96', 'preço_receita_líquida': '0.54', 'preço_fco': '2.90', 'preço_ativo_total': '0.06', 'market_cap_empresa': 137260.0, 'dividend_yield': 0.0958, 'ativo_total': 2000000.0, 'patrimonio_liquido': 164630.0, 'valor_patrimonial_acao': '15.52', 'retorno_sobre_patrimonio_liquido_inicial': 0.078, 'retorno_sobre_ativo_inicial': 0.007, 'margem_bruta': 0.277, 'margem_liquida': 0.054, 'giro_do_ativo_inicial': '0.13', 'alavancagem_financeira': '12.17', 'passivo_patrimonio_liquido': '11.17'}, page_content='2024-06-30'),\n",
       " Document(metadata={'receita_liquida': 52770.0, 'resultado_bruto': 16890.0, 'lucro_liquido': 4120.0, 'tic': 'BBDC3', 'capex_tres_meses': -205.93, 'fluxo_caixa_operacional': 17680.0, 'fluxo_caixa_investimentos': 2780.0, 'fluxo_caixa_financiamento': -1060.0, 'aumento_reducao_caixa_equivalentes': 19220.0, 'preço_lucro': '10.16', 'preço_receita_líquida': '0.53', 'preço_fco': '-37.63', 'preço_ativo_total': '0.07', 'market_cap_empresa': 139560.0, 'dividend_yield': 0.0817, 'ativo_total': 1960000.0, 'patrimonio_liquido': 165860.0, 'valor_patrimonial_acao': '15.59', 'retorno_sobre_patrimonio_liquido_inicial': 0.08, 'retorno_sobre_ativo_inicial': 0.007, 'margem_bruta': 0.272, 'margem_liquida': 0.053, 'giro_do_ativo_inicial': '0.13', 'alavancagem_financeira': '11.79', 'passivo_patrimonio_liquido': '10.79'}, page_content='2024-03-31'),\n",
       " Document(metadata={'receita_liquida': 54110.0, 'resultado_bruto': 17050.0, 'lucro_liquido': 1440.0, 'tic': 'BBDC3', 'capex_tres_meses': -393.47, 'fluxo_caixa_operacional': -81010.0, 'fluxo_caixa_investimentos': 7160.0, 'fluxo_caixa_financiamento': 8760.0, 'aumento_reducao_caixa_equivalentes': -65010.00000000001, 'preço_lucro': '9.43', 'preço_receita_líquida': '0.53', 'preço_fco': '-756.70', 'preço_ativo_total': '0.07', 'market_cap_empresa': 141480.0, 'dividend_yield': 0.0788, 'ativo_total': 1930000.0, 'patrimonio_liquido': 166330.0, 'valor_patrimonial_acao': '15.63', 'retorno_sobre_patrimonio_liquido_inicial': 0.09, 'retorno_sobre_ativo_inicial': 0.008, 'margem_bruta': 0.271, 'margem_liquida': 0.057, 'giro_do_ativo_inicial': '0.14', 'alavancagem_financeira': '11.59', 'passivo_patrimonio_liquido': '10.59'}, page_content='2023-12-31'),\n",
       " Document(metadata={'receita_liquida': 56070.0, 'resultado_bruto': 15920.0, 'lucro_liquido': 3400.0, 'tic': 'BBDC3', 'capex_tres_meses': -138.21, 'fluxo_caixa_operacional': 79570.0, 'fluxo_caixa_investimentos': 9870.0, 'fluxo_caixa_financiamento': -10620.0, 'aumento_reducao_caixa_equivalentes': 78880.0, 'preço_lucro': '10.91', 'preço_receita_líquida': '0.57', 'preço_fco': '2.97', 'preço_ativo_total': '0.08', 'market_cap_empresa': 152910.0, 'dividend_yield': 0.0667, 'ativo_total': 1900000.0, 'patrimonio_liquido': 166230.0, 'valor_patrimonial_acao': '15.62', 'retorno_sobre_patrimonio_liquido_inicial': 0.082, 'retorno_sobre_ativo_inicial': 0.007, 'margem_bruta': 0.271, 'margem_liquida': 0.052, 'giro_do_ativo_inicial': '0.14', 'alavancagem_financeira': '11.40', 'passivo_patrimonio_liquido': '10.40'}, page_content='2023-09-30'),\n",
       " Document(metadata={'receita_liquida': 56850.0, 'resultado_bruto': 17140.0, 'lucro_liquido': 4020.0, 'tic': 'BBDC3', 'capex_tres_meses': 6.56, 'fluxo_caixa_operacional': -19740.0, 'fluxo_caixa_investimentos': 15050.0, 'fluxo_caixa_financiamento': -10250.0, 'aumento_reducao_caixa_equivalentes': -15030.0, 'preço_lucro': '10.34', 'preço_receita_líquida': '0.63', 'preço_fco': '12.60', 'preço_ativo_total': '0.08', 'market_cap_empresa': 166110.0, 'dividend_yield': 0.0613, 'ativo_total': 1860000.0, 'patrimonio_liquido': 166450.0, 'valor_patrimonial_acao': '15.64', 'retorno_sobre_patrimonio_liquido_inicial': 0.096, 'retorno_sobre_ativo_inicial': 0.009, 'margem_bruta': 0.275, 'margem_liquida': 0.061, 'giro_do_ativo_inicial': '0.14', 'alavancagem_financeira': '11.19', 'passivo_patrimonio_liquido': '10.19'}, page_content='2023-06-30'),\n",
       " Document(metadata={'receita_liquida': 57430.0, 'resultado_bruto': 17980.0, 'lucro_liquido': 5400.0, 'tic': 'BBDC3', 'capex_tres_meses': -77.89, 'fluxo_caixa_operacional': 21000.0, 'fluxo_caixa_investimentos': 51520.0, 'fluxo_caixa_financiamento': -10960.0, 'aumento_reducao_caixa_equivalentes': 61760.0, 'preço_lucro': '7.21', 'preço_receita_líquida': '0.55', 'preço_fco': '4.05', 'preço_ativo_total': '0.07', 'market_cap_empresa': 141100.0, 'dividend_yield': 0.0724, 'ativo_total': 1830000.0, 'patrimonio_liquido': 162490.0, 'valor_patrimonial_acao': '15.24', 'retorno_sobre_patrimonio_liquido_inicial': 0.119, 'retorno_sobre_ativo_inicial': 0.011, 'margem_bruta': 0.294, 'margem_liquida': 0.076, 'giro_do_ativo_inicial': '0.14', 'alavancagem_financeira': '11.25', 'passivo_patrimonio_liquido': '10.25'}, page_content='2023-03-31'),\n",
       " Document(metadata={'receita_liquida': 53640.0, 'resultado_bruto': 18270.0, 'lucro_liquido': 785.85, 'tic': 'BBDC3', 'capex_tres_meses': -178.48, 'fluxo_caixa_operacional': -32520.000000000004, 'fluxo_caixa_investimentos': 3860.0, 'fluxo_caixa_financiamento': -1860.0, 'aumento_reducao_caixa_equivalentes': -30350.0, 'preço_lucro': '6.27', 'preço_receita_líquida': '0.56', 'preço_fco': '3.15', 'preço_ativo_total': '0.07', 'market_cap_empresa': 139290.0, 'dividend_yield': 0.074, 'ativo_total': 1800000.0, 'patrimonio_liquido': 158270.0, 'valor_patrimonial_acao': '14.85', 'retorno_sobre_patrimonio_liquido_inicial': 0.14, 'retorno_sobre_ativo_inicial': 0.012, 'margem_bruta': 0.32, 'margem_liquida': 0.09, 'giro_do_ativo_inicial': '0.14', 'alavancagem_financeira': '11.37', 'passivo_patrimonio_liquido': '10.37'}, page_content='2022-12-31'),\n",
       " Document(metadata={'receita_liquida': 53140.0, 'resultado_bruto': 17100.0, 'lucro_liquido': 5840.0, 'tic': 'BBDC3', 'capex_tres_meses': -368.35, 'fluxo_caixa_operacional': 43650.0, 'fluxo_caixa_investimentos': -10720.0, 'fluxo_caixa_financiamento': 13450.0, 'aumento_reducao_caixa_equivalentes': 46420.0, 'preço_lucro': '6.44', 'preço_receita_líquida': '0.77', 'preço_fco': '0.69', 'preço_ativo_total': '0.09', 'market_cap_empresa': 183190.0, 'dividend_yield': 0.0364, 'ativo_total': 1860000.0, 'patrimonio_liquido': 161360.0, 'valor_patrimonial_acao': '15.14', 'retorno_sobre_patrimonio_liquido_inicial': nan, 'retorno_sobre_ativo_inicial': nan, 'margem_bruta': 0.34, 'margem_liquida': 0.119, 'giro_do_ativo_inicial': nan, 'alavancagem_financeira': '11.54', 'passivo_patrimonio_liquido': '10.54'}, page_content='2022-09-30'),\n",
       " Document(metadata={'receita_liquida': 49280.0, 'resultado_bruto': 18590.0, 'lucro_liquido': 7140.0, 'tic': 'BBDC3', 'capex_tres_meses': -172.53, 'fluxo_caixa_operacional': 562.2, 'fluxo_caixa_investimentos': -17660.0, 'fluxo_caixa_financiamento': 6290.0, 'aumento_reducao_caixa_equivalentes': -10660.0, 'preço_lucro': '6.17', 'preço_receita_líquida': '0.82', 'preço_fco': '0.81', 'preço_ativo_total': '0.09', 'market_cap_empresa': 178290.0, 'dividend_yield': 0.0375, 'ativo_total': 1740000.0, 'patrimonio_liquido': 156430.0, 'valor_patrimonial_acao': '14.68', 'retorno_sobre_patrimonio_liquido_inicial': nan, 'retorno_sobre_ativo_inicial': nan, 'margem_bruta': 0.379, 'margem_liquida': 0.134, 'giro_do_ativo_inicial': nan, 'alavancagem_financeira': '11.10', 'passivo_patrimonio_liquido': '10.10'}, page_content='2022-06-30'),\n",
       " Document(metadata={'receita_liquida': 49860.0, 'resultado_bruto': 20650.0, 'lucro_liquido': 7220.0, 'tic': 'BBDC3', 'capex_tres_meses': -1120.0, 'fluxo_caixa_operacional': 30070.0, 'fluxo_caixa_investimentos': 6750.0, 'fluxo_caixa_financiamento': 4040.0, 'aumento_reducao_caixa_equivalentes': 41380.0, 'preço_lucro': '6.39', 'preço_receita_líquida': '0.88', 'preço_fco': '0.86', 'preço_ativo_total': '0.09', 'market_cap_empresa': 172050.0, 'dividend_yield': 0.0571, 'ativo_total': 1700000.0, 'patrimonio_liquido': 153780.0, 'valor_patrimonial_acao': '14.43', 'retorno_sobre_patrimonio_liquido_inicial': nan, 'retorno_sobre_ativo_inicial': nan, 'margem_bruta': 0.43, 'margem_liquida': 0.138, 'giro_do_ativo_inicial': nan, 'alavancagem_financeira': '11.06', 'passivo_patrimonio_liquido': '10.06'}, page_content='2022-03-31'),\n",
       " Document(metadata={'receita_liquida': 74840.0, 'resultado_bruto': 51070.0, 'lucro_liquido': 16140.0, 'tic': 'BBDC3', 'capex_tres_meses': nan, 'fluxo_caixa_operacional': nan, 'fluxo_caixa_investimentos': nan, 'fluxo_caixa_financiamento': nan, 'aumento_reducao_caixa_equivalentes': nan, 'preço_lucro': '7.91', 'preço_receita_líquida': '1.21', 'preço_fco': '-1.80', 'preço_ativo_total': '0.11', 'market_cap_empresa': 202070.0, 'dividend_yield': 0.0492, 'ativo_total': 1680000.0, 'patrimonio_liquido': 149780.0, 'valor_patrimonial_acao': '15.41', 'retorno_sobre_patrimonio_liquido_inicial': 0.159, 'retorno_sobre_ativo_inicial': 0.014, 'margem_bruta': 0.464, 'margem_liquida': 0.153, 'giro_do_ativo_inicial': '0.09', 'alavancagem_financeira': '11.19', 'passivo_patrimonio_liquido': '10.19'}, page_content='2021-12-31'),\n",
       " Document(metadata={'receita_liquida': 28540.0, 'resultado_bruto': 10260.0, 'lucro_liquido': 6650.0, 'tic': 'BBDC3', 'capex_tres_meses': -215.64, 'fluxo_caixa_operacional': -3710.0, 'fluxo_caixa_investimentos': -11720.0, 'fluxo_caixa_financiamento': 7430.0, 'aumento_reducao_caixa_equivalentes': -7810.0, 'preço_lucro': '6.63', 'preço_receita_líquida': '1.40', 'preço_fco': '-2.84', 'preço_ativo_total': '0.11', 'market_cap_empresa': 172920.0, 'dividend_yield': 0.0635, 'ativo_total': 1440000.0, 'patrimonio_liquido': 147610.0, 'valor_patrimonial_acao': '15.19', 'retorno_sobre_patrimonio_liquido_inicial': 0.176, 'retorno_sobre_ativo_inicial': 0.017, 'margem_bruta': 0.347, 'margem_liquida': 0.212, 'giro_do_ativo_inicial': '0.08', 'alavancagem_financeira': '9.78', 'passivo_patrimonio_liquido': '8.78'}, page_content='2021-09-30'),\n",
       " Document(metadata={'receita_liquida': 20100.0, 'resultado_bruto': 17160.0, 'lucro_liquido': 5970.0, 'tic': 'BBDC3', 'capex_tres_meses': -207.38, 'fluxo_caixa_operacional': -13830.0, 'fluxo_caixa_investimentos': -5440.0, 'fluxo_caixa_financiamento': -5330.0, 'aumento_reducao_caixa_equivalentes': -25530.0, 'preço_lucro': '9.34', 'preço_receita_líquida': '1.87', 'preço_fco': '-2.924.69', 'preço_ativo_total': '0.15', 'market_cap_empresa': 220880.0, 'dividend_yield': 0.0507, 'ativo_total': 1400000.0, 'patrimonio_liquido': 146490.0, 'valor_patrimonial_acao': '15.07', 'retorno_sobre_patrimonio_liquido_inicial': 0.161, 'retorno_sobre_ativo_inicial': 0.016, 'margem_bruta': 0.463, 'margem_liquida': 0.201, 'giro_do_ativo_inicial': '0.08', 'alavancagem_financeira': '9.54', 'passivo_patrimonio_liquido': '8.54'}, page_content='2021-06-30'),\n",
       " Document(metadata={'receita_liquida': 23160.0, 'resultado_bruto': 6790.0, 'lucro_liquido': 6150.0, 'tic': 'BBDC3', 'capex_tres_meses': -172.83, 'fluxo_caixa_operacional': -12170.0, 'fluxo_caixa_investimentos': -32770.0, 'fluxo_caixa_financiamento': -20290.0, 'aumento_reducao_caixa_equivalentes': -64489.99999999999, 'preço_lucro': '10.36', 'preço_receita_líquida': '1.88', 'preço_fco': '2.92', 'preço_ativo_total': '0.14', 'market_cap_empresa': 215730.0, 'dividend_yield': 0.0275, 'ativo_total': 1390000.0, 'patrimonio_liquido': 144240.0, 'valor_patrimonial_acao': '14.84', 'retorno_sobre_patrimonio_liquido_inicial': 0.149, 'retorno_sobre_ativo_inicial': 0.016, 'margem_bruta': 0.299, 'margem_liquida': 0.182, 'giro_do_ativo_inicial': '0.09', 'alavancagem_financeira': '9.62', 'passivo_patrimonio_liquido': '8.62'}, page_content='2021-03-31'),\n",
       " Document(metadata={'receita_liquida': 47830.0, 'resultado_bruto': 30600.0, 'lucro_liquido': 8800.0, 'tic': 'BBDC3', 'capex_tres_meses': nan, 'fluxo_caixa_operacional': 177880.0, 'fluxo_caixa_investimentos': 77130.0, 'fluxo_caixa_financiamento': -112300.0, 'aumento_reducao_caixa_equivalentes': 145170.0, 'preço_lucro': '12.42', 'preço_receita_líquida': '1.59', 'preço_fco': '1.38', 'preço_ativo_total': '0.12', 'market_cap_empresa': 210360.0, 'dividend_yield': 0.0293, 'ativo_total': 1600000.0, 'patrimonio_liquido': 145620.0, 'valor_patrimonial_acao': '16.42', 'retorno_sobre_patrimonio_liquido_inicial': 0.117, 'retorno_sobre_ativo_inicial': 0.012, 'margem_bruta': 0.404, 'margem_liquida': 0.128, 'giro_do_ativo_inicial': '0.09', 'alavancagem_financeira': '11.02', 'passivo_patrimonio_liquido': '10.02'}, page_content='2020-12-31'),\n",
       " Document(metadata={'receita_liquida': 22990.0, 'resultado_bruto': 13740.0, 'lucro_liquido': 4190.0, 'tic': 'BBDC3', 'capex_tres_meses': -136.83, 'fluxo_caixa_operacional': 52790.0, 'fluxo_caixa_investimentos': 17180.0, 'fluxo_caixa_financiamento': -11140.0, 'aumento_reducao_caixa_equivalentes': 56880.0, 'preço_lucro': '10.50', 'preço_receita_líquida': '1.65', 'preço_fco': '1.05', 'preço_ativo_total': '0.12', 'market_cap_empresa': 176920.0, 'dividend_yield': 0.0375, 'ativo_total': 1410000.0, 'patrimonio_liquido': 137460.0, 'valor_patrimonial_acao': '15.50', 'retorno_sobre_patrimonio_liquido_inicial': 0.115, 'retorno_sobre_ativo_inicial': 0.014, 'margem_bruta': 0.014, 'margem_liquida': 0.157, 'giro_do_ativo_inicial': '0.09', 'alavancagem_financeira': '10.26', 'passivo_patrimonio_liquido': '9.26'}, page_content='2020-09-30'),\n",
       " Document(metadata={'receita_liquida': 18280.0, 'resultado_bruto': -1310.0, 'lucro_liquido': 3510.0, 'tic': 'BBDC3', 'capex_tres_meses': -257.15, 'fluxo_caixa_operacional': 54830.0, 'fluxo_caixa_investimentos': 8130.000000000001, 'fluxo_caixa_financiamento': -4500.0, 'aumento_reducao_caixa_equivalentes': 58770.0, 'preço_lucro': '10.83', 'preço_receita_líquida': '1.87', 'preço_fco': '2.50', 'preço_ativo_total': '0.14', 'market_cap_empresa': 199180.0, 'dividend_yield': 0.0728, 'ativo_total': 1330000.0, 'patrimonio_liquido': 135130.0, 'valor_patrimonial_acao': '15.23', 'retorno_sobre_patrimonio_liquido_inicial': 0.132, 'retorno_sobre_ativo_inicial': 0.016, 'margem_bruta': -0.149, 'margem_liquida': 0.172, 'giro_do_ativo_inicial': '0.09', 'alavancagem_financeira': '9.84', 'passivo_patrimonio_liquido': '8.84'}, page_content='2020-06-30'),\n",
       " Document(metadata={'receita_liquida': 16100.000000000002, 'resultado_bruto': -27380.0, 'lucro_liquido': 3380.0, 'tic': 'BBDC3', 'capex_tres_meses': -128.49, 'fluxo_caixa_operacional': 40370.0, 'fluxo_caixa_investimentos': -5460.0, 'fluxo_caixa_financiamento': 5290.0, 'aumento_reducao_caixa_equivalentes': 41830.0, 'preço_lucro': '7.73', 'preço_receita_líquida': '1.44', 'preço_fco': '5.65', 'preço_ativo_total': '0.13', 'market_cap_empresa': 162810.0, 'dividend_yield': 0.0978, 'ativo_total': 1240000.0, 'patrimonio_liquido': 129550.0, 'valor_patrimonial_acao': '14.60', 'retorno_sobre_patrimonio_liquido_inicial': 0.159, 'retorno_sobre_ativo_inicial': 0.018, 'margem_bruta': -0.02, 'margem_liquida': 0.187, 'giro_do_ativo_inicial': '0.10', 'alavancagem_financeira': '9.57', 'passivo_patrimonio_liquido': '8.57'}, page_content='2020-03-31')]"
      ]
     },
     "execution_count": 5,
     "metadata": {},
     "output_type": "execute_result"
    }
   ],
   "source": [
    "trat"
   ]
  },
  {
   "cell_type": "code",
   "execution_count": 6,
   "metadata": {},
   "outputs": [],
   "source": [
    "query = 'Como esta a saude financeira da bbdc3'\n",
    "response = ChatFundamentalistas(query=query, dados=trat,modelo_llm=\"deepseek-r1-distill-llama-70b\")"
   ]
  },
  {
   "cell_type": "code",
   "execution_count": 7,
   "metadata": {},
   "outputs": [
    {
     "data": {
      "text/plain": [
       "['<think>\\nOk, preciso analisar a saúde financeira da BBDC3 com base nos indicadores fornecidos. Vou começar identificando as informações disponíveis e entendendo o que cada uma delas significa.',\n",
       " 'Primeiro, vou olhar para a receita líquida. Vejo que ela tem flutuado um pouco, mas parece estar em uma tendência de crescimento gradual. Isso é positivo porque indica que a empresa está aumentando sua receita ao longo do tempo.',\n",
       " 'Em seguida, o lucro líquido. Notando que o lucro líquido também tem variações, mas em alguns períodos foi bastante alto, como 7.870,00, mas em outros foi muito baixo, como 1.440,00. Isso pode indicar volatilidade nos resultados, o que pode ser preocupante.',\n",
       " 'Margens brutas e líquidas estão estáveis, o que é bom. A margem bruta em torno de 27% e a líquida em torno de 5-6% indicam que a empresa mantém uma rentabilidade consistente, embora possa haver espaço para melhoria na margem líquida.',\n",
       " 'Agora, olhando para os fluxos de caixa. O fluxo operacional tem sido negativo em alguns trimestres, o que é um sinal de alerta. Se a empresa está tendo problemas em gerar caixa de suas operações, isso pode afetar sua saúde financeira a longo prazo. No entanto, em outros trimestres, o fluxo operacional é positivo, o que é bom.',\n",
       " 'O fluxo de investimentos também tem sido negativo, indicando que a empresa está investindo em ativos ou talvez fazendo aquisições. O fluxo de financiamento tem variado, algumas vezes positivo e outras negativo, o que pode indicar que a empresa está gerenciando sua dívida ou pagando dividendos.',\n",
       " 'O fluxo de caixa livre em três meses tem sido majoritariamente negativo, o que é preocupante. Isso pode significar que a empresa está tendo dificuldade em gerar caixa suficiente para cobrir suas necessidades de investimento e financiamento.',\n",
       " 'Agora, analisando os indicadores de valuation. O P/L está em torno de 9, o que pode ser razoável, dependendo do setor. O P/Receita Líquida é baixo, o que pode indicar que a ação está sendo negociada a um preço acessível. O P/FCO tem variações, algumas vezes negativo, o que pode indicar problemas de fluxo de caixa.',\n",
       " 'O EV/EBITDA e EV/EBIT estão dentro de uma faixa moderada, o que pode indicar que a empresa está valorizada de forma razoável, mas é importante comparar com o setor.',\n",
       " 'O dividend yield está em torno de 6-7%, o que é atraente para investidores que buscam rendimento. No entanto, um alto dividend yield pode indicar risco se a empresa não estiver gerando suficiente lucro para sustentá-lo.',\n",
       " 'No balanço patrimonial, o ativo total é significativo, mas a dívida líquida também é alta. A alavancagem financeira está em torno de 11, o que é alto e pode indicar que a empresa está usando muita dívida, o que aumenta o risco, especialmente se os juros subirem ou se a empresa enfrentar dificuldades.',\n",
       " 'O patrimônio líquido é positivo, mas a relação passivo/patrimônio líquido também é alta, o que pode indicar risco de alavancagem.',\n",
       " 'Os retornos sobre o patrimônio líquido e sobre o ativo são baixos, o que pode indicar que a empresa não está sendo muito eficiente em gerar retorno para os acionistas.',\n",
       " 'A margem líquida tem sido baixa, o que pode afetar a rentabilidade da empresa. O giro do ativo também é baixo, indicando que a empresa pode não estar usando seus ativos de forma eficiente.',\n",
       " 'Agora, pensando nas tendências históricas. A receita líquida tem crescido, mas o lucro líquido tem sido volátil. Os fluxos de caixa operacionais têm sido inconsistentes, com alguns trimestres negativos. Isso pode indicar problemas de gestão de caixa ou flutuações na demanda.',\n",
       " 'A dívida líquida tem aumentado, o que, combinado com a alavancagem alta, pode ser um problema se a empresa não conseguir reduzir sua dívida.',\n",
       " 'O dividend yield alto pode ser uma armadilha se a empresa não tiver lucro suficiente para pagá-lo consistentemente.',\n",
       " 'Recomendação: Considerando os pontos fracos, como o fluxo de caixa operacional inconsistente, a alta alavancagem e a dívida líquida, acho que a recomendação seria \"Vender\" ou pelo menos não comprar mais ações no momento. A empresa precisa melhorar sua geração de caixa operacional e reduzir sua dívida para se tornar mais atraente para investidores.',\n",
       " 'Também é importante monitorar as margens líquidas e a eficiência operacional. Se a empresa conseguir melhorar esses aspectos, pode se tornar mais estável e rentável no futuro.\\n</think>',\n",
       " '**Análise da Saúde Financeira da BBDC3**',\n",
       " '**Resumo da Análise:**\\nA BBDC3 apresenta uma saúde financeira mista, com pontos fortes em receita líquida crescente e margens brutas estáveis, mas também enfrenta desafios significativos, como fluxos de caixa operacionais inconsistentes, alta alavancagem e dívida líquida elevada.',\n",
       " '**Pontos Fortes:**\\n1. **Receita Líquida em Crescimento:** A receita líquida da empresa tem apresentado uma tendência de crescimento gradual, indicando uma base de negócios estável.\\n2. **Margens Brutus Estáveis:** As margens brutas mantêm-se consistentes, em torno de 27%, mostrando uma boa capacidade de manter a rentabilidade bruta.\\n3. **Dividend Yield Atraente:** Com um dividend yield em torno de 6-7%, a ação pode ser atraente para investidores que buscam rendimento.',\n",
       " '**Pontos Fracos:**\\n1. **Fluxo de Caixa Operacional Inconsistente:** O fluxo de caixa operacional foi negativo em vários trimestres, indicando problemas na geração de caixa das operações.\\n2. **Alta Alavancagem:** A alavancagem financeira está em torno de 11, indicando uma alta dependência de dívida, o que pode aumentar o risco.\\n3. **Dívida Líquida Elevada:** A dívida líquida é significativa, o que pode pressionar a saúde financeira da empresa, especialmente em períodos de aumento das taxas de juros.\\n4. **Margem Líquida Baixa:** A margem líquida é relativamente baixa, o que pode limitar a capacidade da empresa de reter lucros e investir em crescimento.',\n",
       " '**Recomendação:**\\n**Vender ou Manter Posição Neutra**',\n",
       " '**Justificativa:**\\nA inconsistência nos fluxos de caixa operacionais, a alta alavancagem e a dívida líquida elevada são fatores preocupantes que podem afetar a sustentabilidade financeira da empresa a longo prazo. Embora a receita líquida esteja crescendo e as margens brutas sejam estáveis, os desafios na geração de caixa e na gestão de dívida pesam negativamente na avaliação. Portanto, é recomendável evitar adquirir mais ações até que a empresa demonstre melhoria nos fluxos de caixa operacionais e redução da dívida.',\n",
       " '**Tendências Históricas e Implicações Futuras:**\\n- A receita líquida tem crescido gradualmente, mas o lucro líquido apresentou volatilidade.\\n- O fluxo de caixa operacional teve períodos negativos, indicando possíveis desafios operacionais.\\n- A dívida líquida tem aumentado, o que, combinado com a alta alavancagem, pode ser um risco significativo.',\n",
       " '**Conclusão:**\\nA BBDC3 precisa melhorar sua geração de caixa operacional e reduzir sua dívida para tornar-se mais atraente para os investidores. Até lá, é prudente manter uma posição neutra ou considerar a venda de ações para evitar exposição ao risco aumentado.']"
      ]
     },
     "execution_count": 7,
     "metadata": {},
     "output_type": "execute_result"
    }
   ],
   "source": [
    "response.split('\\n\\n')"
   ]
  },
  {
   "cell_type": "code",
   "execution_count": 27,
   "metadata": {},
   "outputs": [
    {
     "data": {
      "text/plain": [
       "'**Análise da Saúde Financeira da PETR4**\\n\\n**Resumo da Análise:**\\nA PETR4 apresenta uma saúde financeira mista, com pontos fortes em margens consistentes e fluxo de caixa operacional positivo, mas também desafios relacionados ao aumento da dívida líquida e da alavancagem financeira. O desempenho recente mostrou uma queda no lucro líquido em um trimestre, o que merece atenção. No entanto, os indicadores de valuation e o dividend yield atraente podem ser pontos positivos para investidores.\\n\\n**Pontos Fortes:**\\n1. **Margens Saudáveis:** As margens bruta e líquida são consistentes e em níveis atraentes, indicando eficiência operacional.\\n2. **Fluxo de Caixa Operacional Positivo:** A empresa mantém um fluxo de caixa operacional positivo, crucial para sustentar operações e investimentos.\\n3. **Retorno sobre Patrimônio Líquido:** O retorno tem sido consistente, mostrando eficiência na gestão do patrimônio.\\n4. **Dividend Yield Atraente:** Oferece uma boa remuneração aos acionistas, especialmente em certos trimestres.\\n\\n**Pontos Fracos:**\\n1. **Dívida Líquida Crescente:** O aumento da dívida líquida pode elevar o risco financeiro e pressionar a saúde financeira.\\n2. **Alavancagem Financeira em Elevação:** Aumento na alavancagem pode indicar maior dependência de dívida, aumentando o risco.\\n3. **Volatilidade no Lucro por Ação:** A queda no lucro por ação em um trimestre pode sinalizar volatilidade nos resultados.\\n4. **Relação Passivo/Patrimônio Líquido em Elevação:** Indica maior risco e menor segurança para credores e investidores.\\n\\n**Recomendações:**\\n- **Comprar:** Para investidores de longo prazo que buscam valor, considerando os níveis atraentes de preço/lucro e o potencial de recuperação dos resultados.\\n- **Manter:** Para investidores que já possuem ações e acreditam na capacidade da empresa de resolver os desafios de curto prazo.\\n- **Vender:** Para investidores mais conservadores ou aqueles que buscam menor exposição ao risco, especialmente diante do aumento da dívida e da volatilidade nos lucros.\\n\\n**Conclusão:**\\nA PETR4 tem fundamentos sólidos em suas margens e fluxo de caixa, mas o aumento da dívida e da alavancagem merecem monitoramento. Investidores devem considerar seu perfil de risco e horizonte de investimento ao tomar decisões.'"
      ]
     },
     "execution_count": 27,
     "metadata": {},
     "output_type": "execute_result"
    }
   ],
   "source": [
    "query = 'Como esta a saude financeira da PETR4'\n",
    "tic = 'PETR4'\n",
    "fund = ModeloFundamentos(query=query, ticker=tic)\n",
    "\n",
    "response = fund.chat_fundamentalistas()\n",
    "text = ''.join(response)  # Converte o gerador para string\n",
    "lines = text.split('\\n</think>\\n\\n')[1] # Agora podemos dividir em blocos de texto\n",
    "\n",
    "lines"
   ]
  },
  {
   "cell_type": "code",
   "execution_count": null,
   "metadata": {},
   "outputs": [
    {
     "data": {
      "text/plain": [
       "['<think>\\nOkay, I need to assess the financial health of VALE3 based on the provided data. Let me start by going through each indicator step by step.',\n",
       " \"First, I'll look at the revenue. It's fluctuating but shows a slight upward trend, which is a positive sign. The gross profit is also varying, but the margins are stable around 39-41%. That's good because it indicates consistent profitability.\",\n",
       " 'Next, the EBIT and EBITDA margins are around 31-35% and 38-41% respectively. These are healthy and show efficient operations. The net income is also stable, maintaining a margin of about 22-23%. This consistency is a strength.',\n",
       " \"Looking at cash flow, the operational cash flow is positive, which is great. However, the free cash flow has been negative in some periods, which might indicate high capital expenditures. Speaking of which, the capex is significant, around R$7-10 billion annually. This shows the company is investing in growth, but I need to check if it's generating enough returns.\",\n",
       " 'The debt levels are a bit concerning. The net debt is around R$52-77 billion, which is high. The leverage ratio is about 2.3-2.5x, and the debt-to-equity is 1.3-1.6x. These numbers show that the company is using a lot of debt, which could be risky if interest rates rise or if cash flows decrease.',\n",
       " \"The return on equity is around 25-30%, which is solid. It indicates that the company is efficiently using shareholders' capital. The dividend yield is low, around 0.6-1.7%, so it's not great for income investors, but it's consistent.\",\n",
       " 'Looking at valuation multiples, the P/E ratio is around 5.6-7.6x, which seems reasonable. The EV/EBITDA is about 4.3-5.5x, which is in line with industry averages, suggesting the stock might be fairly valued.',\n",
       " \"Now, considering the industry, VALE3 is a major player in iron ore, which is cyclical. The company's performance is tied to commodity prices, so any fluctuations there could impact their financials. They also face ESG risks, especially related to environmental and social issues, which can affect their reputation and operations.\",\n",
       " 'Putting it all together, the company has strong margins and positive cash flows but carries significant debt. Investors should be cautious about the leverage and external factors like commodity prices. The valuation seems fair, so a \"hold\" recommendation makes sense unless the investment thesis is based on expected growth or commodity price increases.\\n</think>',\n",
       " '**Análise da Saúde Financeira da VALE3**',\n",
       " '**Resumo da Análise:**\\nA Vale S.A. (VALE3) apresenta uma saúde financeira sólida, com desempenho operacional consistente e indicadores de rentabilidade positivos. No entanto, existem desafios relacionados à alavancagem financeira e dependência de preços de commodities.',\n",
       " '**Pontos Fortes:**\\n1. **Margens Saudáveis:** A empresa mantém margens brutas e líquidas consistentes, indicando eficiência operacional.\\n2. **Fluxos de Caixa Positivos:** O fluxo de caixa operacional é positivo, demonstrando geração de caixa robusta.\\n3. **Retorno sobre o Patrimônio Líquido:** O ROE é superior a 25%, mostrando eficiência no uso do capital dos acionistas.\\n4. **Investimentos em Expansão:** O capex elevado indica investimentos em crescimento futuro.',\n",
       " '**Pontos Fracos:**\\n1. **Alta Dívida Líquida:** A dívida líquida é significativa, com alavancagem financeira elevada.\\n2. **Dependência de Commodities:** O desempenho está sujeito a flutuações nos preços de minerais.\\n3. **Riscos Ambientais e Sociais:** Questões ESG podem impactar a reputação e operações.',\n",
       " '**Recomendação:**\\n**Hold (Manter)**  \\nA recomendação é manter a posição na VALE3. A empresa tem fundamentos sólidos, mas investidores devem monitorar os níveis de dívida e os riscos associados a commodities. A valorização atual parece razoável, mas o investidor deve considerar sua tolerância ao risco e exposição ao setor de mineração.']"
      ]
     },
     "execution_count": 21,
     "metadata": {},
     "output_type": "execute_result"
    }
   ],
   "source": [
    "text = ''.join(response)  # Converte o gerador para string\n",
    "lines = text.split('\\n</think>\\n\\n')[1] # Agora podemos dividir em blocos de texto\n",
    "\n",
    "lines"
   ]
  },
  {
   "cell_type": "code",
   "execution_count": 26,
   "metadata": {},
   "outputs": [
    {
     "data": {
      "text/plain": [
       "'**Análise da Saúde Financeira da VALE3**\\n\\n**Resumo da Análise:**\\nA Vale S.A. (VALE3) apresenta uma saúde financeira sólida, com desempenho operacional consistente e indicadores de rentabilidade positivos. No entanto, existem desafios relacionados à alavancagem financeira e dependência de preços de commodities.\\n\\n**Pontos Fortes:**\\n1. **Margens Saudáveis:** A empresa mantém margens brutas e líquidas consistentes, indicando eficiência operacional.\\n2. **Fluxos de Caixa Positivos:** O fluxo de caixa operacional é positivo, demonstrando geração de caixa robusta.\\n3. **Retorno sobre o Patrimônio Líquido:** O ROE é superior a 25%, mostrando eficiência no uso do capital dos acionistas.\\n4. **Investimentos em Expansão:** O capex elevado indica investimentos em crescimento futuro.\\n\\n**Pontos Fracos:**\\n1. **Alta Dívida Líquida:** A dívida líquida é significativa, com alavancagem financeira elevada.\\n2. **Dependência de Commodities:** O desempenho está sujeito a flutuações nos preços de minerais.\\n3. **Riscos Ambientais e Sociais:** Questões ESG podem impactar a reputação e operações.\\n\\n**Recomendação:**\\n**Hold (Manter)**  \\nA recomendação é manter a posição na VALE3. A empresa tem fundamentos sólidos, mas investidores devem monitorar os níveis de dívida e os riscos associados a commodities. A valorização atual parece razoável, mas o investidor deve considerar sua tolerância ao risco e exposição ao setor de mineração.'"
      ]
     },
     "execution_count": 26,
     "metadata": {},
     "output_type": "execute_result"
    }
   ],
   "source": [
    "text.split('\\n</think>\\n\\n')[1]"
   ]
  },
  {
   "cell_type": "code",
   "execution_count": 3,
   "metadata": {},
   "outputs": [
    {
     "name": "stdout",
     "output_type": "stream",
     "text": [
      "<think>\n",
      "Ok, eu preciso analisar a saúde financeira da Vale (VALE3) usando os indicadores fornecidos. Primeiro, vou começar identificando os pontos fortes e fracos da empresa.\n",
      "\n",
      "Olhando para a receita líquida, vejo que ela tem apresentado uma tendência de crescimento, o que é positivo. No último trimestre, a receita líquida foi de R$ 52.980 milhões, mostrando uma expansão consistente. Isso indica que a empresa está aumentando suas vendas ou melhorando seus preços.\n",
      "\n",
      "As margens bruta e líquida também são pontos fortes. A margem bruta está em torno de 39%, e a margem líquida em torno de 22,9%. Isso sugere que a Vale está gerenciando bem seus custos e mantendo uma rentabilidade saudável. Além disso, o EBITDA e o lucro líquido estão estáveis, o que é bom sinal de estabilidade operacional.\n",
      "\n",
      "No que diz respeito aos fluxos de caixa, o fluxo operacional é positivo, o que é essencial para o funcionamento da empresa. O fluxo de caixa livre também é positivo, indicando que a empresa tem recursos para investir ou reduzir dívidas. No entanto, o fluxo de financiamento é negativo, o que pode significar que a empresa está tomando empréstimos ou realizando pagamentos de dívidas.\n",
      "\n",
      "A alavancagem financeira é um ponto que merece atenção. Com uma alavancagem de 2,32, a empresa está usando dívida para financiar suas operações, o que pode ser arriscado se os níveis de dívida forem muito altos. A dívida líquida em relação ao patrimônio líquido está em 1,32, o que é um sinal de que a empresa tem uma estrutura de capital razoável, mas é importante monitorar para evitar níveis perigosos.\n",
      "\n",
      "Os retornos sobre o capital investido e o patrimônio líquido são respeitáveis, com 19,4% e 25,4%, respectivamente. Isso mostra que a empresa está usando eficientemente o capital dos acionistas. O giro do ativo também é adequado, indicando que a empresa está utilizando seus ativos de forma eficiente.\n",
      "\n",
      "No entanto, há algumas áreas de preocupação. O fluxo de caixa de investimentos é negativo, o que pode indicar que a empresa está investindo em ativos fixos ou projetos de longo prazo. Isso é comum em empresas de mineração, mas é importante garantir que esses investimentos sejam rentáveis no futuro. Além disso, o pagamento de dividendos é baixo, com um dividend yield de 0,12%, o que pode desapontar os investidores que buscam renda.\n",
      "\n",
      "A dívida bruta também aumentou, passando de R$ 66.430 milhões para R$ 77.280 milhões, o que pode ser um sinal de que a empresa está assumindo mais dívidas, possivelmente para financiar seus investimentos. É crucial que a empresa mantenha um equilíbrio saudável entre dívidas e patrimônio líquido para evitar problemas de liquidez no futuro.\n",
      "\n",
      "Agora, pensando em tendências históricas, a Vale teve um desempenho consistente em margens e rentabilidade, mas a dívida tem aumentado gradualmente. Isso pode ser um ponto de preocupação se não for gerenciado adequadamente. Por outro lado, a empresa tem um fluxo de caixa operacional forte, o que é um bom sinal para sustentar seus investimentos e pagar dívidas.\n",
      "\n",
      "Para os investidores, é importante considerar se a Vale está usando sua dívida de forma eficiente e se os investimentos em CAPEX trarão retornos adequados. A empresa parece estar em uma fase de expansão, o que pode ser benéfico se a demanda por minerais continuar forte, mas também traz riscos associados a dívidas e investimentos de capital intensivo.\n",
      "\n",
      "Em resumo, a Vale apresenta uma saúde financeira sólida, com receita em crescimento, margens saudáveis e fluxos de caixa positivos. No entanto, o aumento da dívida e os investimentos em CAPEX merecem atenção. Investidores de longo prazo podem considerar a Vale uma boa opção, desde que a empresa mantenha seu desempenho operacional e gerencie sua dívida de forma prudente.\n",
      "</think>\n",
      "\n",
      "**Análise da Saúde Financeira da Vale (VALE3)**\n",
      "\n",
      "**Resumo da Análise:**\n",
      "A Vale apresenta uma saúde financeira sólida, com pontos fortes em receita, margens e fluxos de caixa. No entanto, o aumento da dívida e os investimentos em CAPEX são fatores a serem monitorados.\n",
      "\n",
      "**Pontos Fortes:**\n",
      "1. **Receita em Crescimento:** A receita líquida tem apresentado uma tendência de crescimento, indicando expansão nas vendas ou melhoria nos preços.\n",
      "2. **Margens Saudáveis:** Margens bruta e líquida consistentes, mostrando eficiência nos custos.\n",
      "3. **Fluxos de Caixa Positivos:** Fluxo operacional e livre são positivos, essenciais para o funcionamento e investimentos da empresa.\n",
      "4. **Rentabilidade:** Retornos sobre capital investido e patrimônio líquido são respeitáveis, indicando eficiente uso do capital.\n",
      "\n",
      "**Pontos Fracos:**\n",
      "1. **Alavancagem Financeira:** A empresa utiliza dívida para financiar operações, com uma alavancagem de 2,32, que merece atenção.\n",
      "2. **Dívida Líquida Crescente:** Aumento na dívida bruta pode ser um sinal de financiamento de investimentos, necessitando monitoramento.\n",
      "3. **Investimentos em CAPEX:** Fluxo de caixa de investimentos negativo pode indicar investimentos de longo prazo, cuja rentabilidade deve ser avaliada.\n",
      "4. **Dividend Yield Baixo:** Pagamento de dividendos baixo pode desapontar investidores que buscam renda.\n",
      "\n",
      "**Tendências Históricas:**\n",
      "- Crescimento consistente em receita e margens.\n",
      "- Aumento gradual na dívida, que deve ser gerenciado prudentemente.\n",
      "- Fluxo de caixa operacional forte, suportando investimentos e pagamentos de dívidas.\n",
      "\n",
      "**Recomendação para Investidores:**\n",
      "- **Compre:** Para investidores de longo prazo, a Vale pode ser uma boa opção, considerando seu desempenho operacional consistente e potencial de crescimento.\n",
      "- **Mantenha:** Investidores que já possuem ações da Vale devem manter suas posições, monitorando a gestão da dívida e retorno dos investimentos.\n",
      "- **Evite:** Investidores mais conservadores ou que buscam renda imediata podem considerar outras opções, devido ao baixo dividend yield e riscos associados à dívida.\n",
      "\n",
      "**Conclusão:**\n",
      "A Vale apresenta fundamentos sólidos, mas é crucial que a empresa mantenha seu desempenho operacional e gerencie sua estrutura de capital de forma eficiente para sustentar o crescimento e manter a confiança dos investidores."
     ]
    }
   ],
   "source": [
    "for chunk in response: \n",
    "    print(chunk, end=\"\", flush=True)"
   ]
  },
  {
   "cell_type": "code",
   "execution_count": 3,
   "metadata": {},
   "outputs": [],
   "source": [
    "query = 'Como esta a saude financeira da bbdc3'\n",
    "tic = 'BBDC3'\n",
    "fund = ModeloFundamentos(query=query, ticker=tic)"
   ]
  },
  {
   "cell_type": "code",
   "execution_count": null,
   "metadata": {},
   "outputs": [],
   "source": [
    "response = fund.chat_fundamentalistas()"
   ]
  },
  {
   "cell_type": "code",
   "execution_count": 5,
   "metadata": {},
   "outputs": [
    {
     "name": "stdout",
     "output_type": "stream",
     "text": [
      "<think>\n",
      "Ok, vou analisar a saúde financeira da BBDC3 com base nos dados fornecidos. Primeiro, vou olhar para a receita líquida e ver se ela está crescendo ou não. Vejo que a receita líquida tem flutuado nos últimos períodos, com um pico em 2021-12-31 e uma queda recente. Isso pode indicar instabilidade.\n",
      "\n",
      "Em seguida, vou verificar o lucro líquido. Observo que em 2024-09-30 o lucro líquido caiu para R$ 4.870, o que é preocupante. A margem líquida também diminuiu, saindo de 11,9% para 6,1%. Isso sugere que a empresa está enfrentando desafios para manter sua rentabilidade.\n",
      "\n",
      "Agora, vou analisar os fluxos de caixa. O fluxo operacional foi negativo em 2024-09-30, o que é um sinal de alerta. No entanto, em outros períodos ele foi positivo, então preciso considerar se isso é um problema contínuo ou um evento isolado. O fluxo de investimentos tem sido volátil, com altos e baixos, o que pode indicar investimentos irregulares.\n",
      "\n",
      "O fluxo de financiamento também tem variado bastante, com saídas significativas recentemente, o que pode estar afetando o caixa da empresa. Além disso, o fluxo de caixa livre nos últimos três meses é negativo, o que pode limitar a capacidade de investimento e pagamento de dividendos.\n",
      "\n",
      "Passando para os indicadores de valuation, o preço/lucro está em torno de 9,32, o que pode ser considerado razoável, mas o preço/receita líquida é baixo, indicando que a ação pode estar subvalorizada. No entanto, o preço/FCF é negativo, o que é um sinal preocupante de que a empresa pode estar enfrentando problemas de geração de caixa.\n",
      "\n",
      "A alavancagem financeira é alta, com uma relação dívida líquida/patrimônio líquido de 11,07, o que aumenta o risco para os investidores. O retorno sobre o patrimônio líquido (ROE) está em 8,8%, o que é razoável, mas não excepcional.\n",
      "\n",
      "A margem bruta tem se mantido estável, mas a margem líquida diminuiu, o que pode indicar pressões sobre os preços ou aumentos nos custos operacionais. O giro do ativo é baixo, o que sugere que a empresa não está utilizando seus ativos de forma eficiente.\n",
      "\n",
      "O dividendo yield é atraente, acima de 10%, o que pode atrair investidores que buscam rendimento. No entanto, é importante verificar se a empresa conseguirá manter esses pagamentos, considerando a volatilidade do fluxo de caixa.\n",
      "\n",
      "Por fim, ao avaliar os riscos, a relação passivo/patrimônio líquido é alta, o que aumenta a alavancagem e o risco. A empresa parece estar enfrentando desafios operacionais recentes, com queda na rentabilidade e no fluxo de caixa operacional.\n",
      "\n",
      "Com base nisso, minha recomendação seria \"Vender\", pois os indicadores recentes mostram uma deterioração na saúde financeira da empresa, com riscos significativos para os investidores.\n",
      "</think>\n",
      "\n",
      "### Avaliação da Saúde Financeira da BBDC3\n",
      "\n",
      "#### Resumo da Análise:\n",
      "A BBDC3 apresenta um quadro financeiro misto, com pontos positivos e negativos que merecem atenção. A receita líquida tem apresentado crescimento, mas o lucro líquido tem flutuado, indicando desafios na manutenção da rentabilidade. O fluxo de caixa operacional foi negativo no último trimestre, o que é um sinal de alerta. No entanto, a empresa mantém um dividend yield atraente, o que pode ser positivo para investidores que buscam rendimento.\n",
      "\n",
      "#### Pontos Fortes:\n",
      "1. **Receita Líquida em Crescimento**: A receita líquida tem apresentado um crescimento consistente nos últimos anos, indicando uma boa demanda pelos produtos ou serviços da empresa.\n",
      "2. **Margem Bruta Saudável**: A margem bruta tem se mantido em níveis razoáveis, o que sugere que a empresa está gerenciando bem seus custos de produção.\n",
      "3. **Dividend Yield Atraente**: O dividend yield da BBDC3 é relativamente alto, o que pode atrair investidores que buscam rendimento.\n",
      "\n",
      "#### Pontos Fracos:\n",
      "1. **Lucro Líquido Flutuante**: O lucro líquido tem variado significativamente, indicando volatilidade na rentabilidade da empresa.\n",
      "2. **Fluxo de Caixa Operacional Negativo**: O fluxo de caixa operacional foi negativo no último trimestre, o que pode indicar problemas de liquidez ou gestão de fluxos de caixa.\n",
      "3. **Alavancagem Financeira Elevada**: A empresa apresenta uma alavancagem financeira elevada, o que pode aumentar o risco para os investidores, especialmente em períodos de instabilidade econômica.\n",
      "\n",
      "#### Recomendação:\n",
      "**Vender**  \n",
      "A recomendação é vender as ações da BBDC3, pois os indicadores recentes sugerem uma deterioração na saúde financeira da empresa. O fluxo de caixa operacional negativo e a volatilidade no lucro líquido são sinais de alerta que podem indicar riscos significativos para os investidores. Além disso, a alavancagem financeira elevada aumenta o risco de default ou problemas de liquidez. No entanto, é importante continuar monitorando a empresa para avaliar se haverá uma recuperação nos próximos trimestres."
     ]
    }
   ],
   "source": [
    "for chunk in response: \n",
    "    print(chunk, end=\"\", flush=True)"
   ]
  },
  {
   "cell_type": "markdown",
   "metadata": {},
   "source": [
    "# Sentimento"
   ]
  },
  {
   "cell_type": "code",
   "execution_count": 2,
   "metadata": {},
   "outputs": [],
   "source": [
    "from selenium import webdriver\n",
    "chrome_options = webdriver.ChromeOptions()\n",
    "chrome_options.add_argument(\"--headless\")\n",
    "chrome_options.add_argument(\"--no-sandbox\")\n",
    "chrome_options.add_argument(\"--disable-dev-shm-usage\")\n",
    "chrome_options.add_argument(\"--disable-gpu\")\n",
    "chrome_options.add_argument(\"--disable-features=NetworkService\")\n",
    "chrome_options.add_argument(\"--window-size=1920x1080\")\n",
    "chrome_options.add_argument(\"--disable-features=VizDisplayCompositor\")\n",
    "\n",
    "dados_yahoo = DadosNoticiasBuscadorYahoo(acao='BBDC3', options=chrome_options)\n"
   ]
  },
  {
   "cell_type": "code",
   "execution_count": 3,
   "metadata": {},
   "outputs": [
    {
     "name": "stdout",
     "output_type": "stream",
     "text": [
      "Sem mais páginas!\n"
     ]
    }
   ],
   "source": [
    "dados_ya = dados_yahoo.get_news(number_paginas=1)"
   ]
  },
  {
   "cell_type": "code",
   "execution_count": 12,
   "metadata": {},
   "outputs": [
    {
     "data": {
      "text/plain": [
       "{'links': ['https://www.infomoney.com.br/onde-investir/agenda-de-dividendos-de-fevereiro-2025/',\n",
       "  'https://einvestidor.estadao.com.br/mercado/ibovespa-hoje-magazine-luiza-mglu3-salta-so-4-acoes-fecham-queda/',\n",
       "  'https://einvestidor.estadao.com.br/ultimas/ibovespa-hoje-magazine-luiza-mglu3-dispara-9-braskem-brkm5-sofre/',\n",
       "  'https://einvestidor.estadao.com.br/investimentos/dividendos-da-semana-bradesco-taesa-e-mais-6-empresas-pagam-acionistas-2/',\n",
       "  'https://www.infomoney.com.br/mercados/7-acoes-sobem-mais-de-20-e-10-caem-mais-de-5-os-destaques-do-ibovespa-em-janeiro/'],\n",
       " 'titulos': ['Agenda de dividendos de fevereiro: Petrobras, Itaú e Santander pagam neste mês',\n",
       "  'Ibovespa hoje: Magazine Luiza (MGLU3) salta mais de 12%; só 4 ações fecham em queda',\n",
       "  'Ibovespa hoje: Magazine Luiza (MGLU3) dispara 10% e lidera ganhos; Braskem (BRKM5) sofre',\n",
       "  'Dividendos da semana: Bradesco (BBDC4), Banestes (BEES4), Itaú (ITUB4) e mais 9 empresas pagam...',\n",
       "  '7 ações sobem mais de 20% e 10 caem mais de 5%: os destaques do Ibovespa em janeiro'],\n",
       " 'fontes': ['InfoMoney', 'Estadão', 'Estadão', 'Estadão', 'InfoMoney'],\n",
       " 'datas': ['· 1 dia atrás',\n",
       "  '· 6 dias atrás',\n",
       "  '· 6 dias atrás',\n",
       "  '· 2 dias atrás',\n",
       "  '· 5 dias atrás']}"
      ]
     },
     "execution_count": 12,
     "metadata": {},
     "output_type": "execute_result"
    }
   ],
   "source": [
    "dados_ya"
   ]
  },
  {
   "cell_type": "code",
   "execution_count": 4,
   "metadata": {},
   "outputs": [],
   "source": [
    "ticker = 'BBDC3'\n",
    "dados_google = TratarDadosNoticias(ticker, chrome_options)"
   ]
  },
  {
   "cell_type": "code",
   "execution_count": 6,
   "metadata": {},
   "outputs": [
    {
     "name": "stdout",
     "output_type": "stream",
     "text": [
      "Sem mais páginas!\n",
      "Poucas noticias encontrada para o ticker BBDC3 no Yahoo Finance. Buscando noticias no Google\n"
     ]
    },
    {
     "name": "stderr",
     "output_type": "stream",
     "text": [
      "Fetching pages: 100%|##########| 1/1 [00:00<00:00,  7.03it/s]\n",
      "Fetching pages: 100%|##########| 1/1 [00:00<00:00,  9.56it/s]\n",
      "Fetching pages: 100%|##########| 1/1 [00:00<00:00,  2.05it/s]\n",
      "Fetching pages: 100%|##########| 1/1 [00:00<00:00, 11.17it/s]\n",
      "Fetching pages: 100%|##########| 1/1 [00:02<00:00,  2.42s/it]\n",
      "Fetching pages: 100%|##########| 1/1 [00:00<00:00,  3.67it/s]\n",
      "Fetching pages: 100%|##########| 1/1 [00:00<00:00,  8.61it/s]\n",
      "Fetching pages: 100%|##########| 1/1 [00:01<00:00,  1.77s/it]\n",
      "Fetching pages: 100%|##########| 1/1 [00:00<00:00,  4.66it/s]\n",
      "Fetching pages: 100%|##########| 1/1 [00:01<00:00,  1.24s/it]\n"
     ]
    }
   ],
   "source": [
    "from selenium import webdriver\n",
    "chrome_options = webdriver.ChromeOptions()\n",
    "chrome_options.add_argument(\"--headless\")\n",
    "chrome_options.add_argument(\"--no-sandbox\")\n",
    "chrome_options.add_argument(\"--disable-dev-shm-usage\")\n",
    "chrome_options.add_argument(\"--disable-gpu\")\n",
    "chrome_options.add_argument(\"--disable-features=NetworkService\")\n",
    "chrome_options.add_argument(\"--window-size=1920x1080\")\n",
    "chrome_options.add_argument(\"--disable-features=VizDisplayCompositor\")\n",
    "\n",
    "ticker = 'BBDC3'\n",
    "news_tratado = TratarDadosNoticias(ticker, chrome_options)\n",
    "dados_new = news_tratado.clean_chat_html()"
   ]
  },
  {
   "cell_type": "code",
   "execution_count": 8,
   "metadata": {},
   "outputs": [
    {
     "data": {
      "text/plain": [
       "['\\n New notice\\n### Notícias sobre BBDC3',\n",
       " '#### Artigo 1: [Título do artigo]\\n* **Data:** [Data do artigo]\\n* **Conteúdo:** [ Conteúdo relevante sobre BBDC3 ]',\n",
       " '#### Artigo 2: [Título do artigo]\\n* **Data:** [Data do artigo]\\n* **Conteúdo:** [ Conteúdo relevante sobre BBDC3 ]',\n",
       " '#### Artigo 3: [Título do artigo]\\n* **Data:** [Data do artigo]\\n* **Conteúdo:** [ Conteúdo relevante sobre BBDC3 ]',\n",
       " '### Resumo',\n",
       " '* **BBDC3:** [Resumo das notícias sobre BBDC3]\\n* **Notícias:**\\n * [Notícia 1]\\n * [Notícia 2]\\n * [Notícia 3]',\n",
       " '### Detalhes',\n",
       " '* **Início da Operação:** [Data de início da operação]\\n* **Inversão:** [Valor da inversão]\\n* **Objetivo:** [Objetivo da empresa]\\n* **Serviços:** [Serviços oferecidos pela empresa]\\n* **Foco:** [Foco da empresa]',\n",
       " '### Notícias',\n",
       " '* [Notícia 1]: [Conteúdo da notícia]\\n* [Notícia 2]: [Conteúdo da notícia]\\n* [Notícia 3]: [Conteúdo da notícia]',\n",
       " '### Conclusão',\n",
       " '* **BBDC3:** [Resumo das notícias sobre BBDC3]',\n",
       " '#### Exemplo de conteúdo',\n",
       " '* **BBDC3:** A BBDC3 é uma empresa que oferece serviços de tecnologia e inovação. Ela foi fundada em [Data de fundação] e tem como objetivo oferecer soluções inovadoras para os clientes.\\n* **Notícias:**\\n + A BBDC3 lançou um novo produto em [Data de lançamento] que oferece uma solução inovadora para os clientes.\\n + A empresa recebeu uma inversão de [Valor da inversão] em [Data da inversão] para expandir seus serviços.\\n + A BBDC3 foi nomeada como uma das empresas mais inovadoras do ano em [Data do prêmio].\\n New notice\\n# Informações sobre BBDC3',\n",
       " '* A empresa Bradesco (BBDC3) pagará dividendos de R$ 0,8162 a seus investidores.\\n* O pagamento de dividendos não sofre com a tributação de Renda (IR), com alíquota de 15%.\\n* A Bradesco é uma das empresas que pagará proventos a seus acionistas nesta semana.\\n* A empresa faz parte da lista de empresas da Bolsa de Valores brasileira que distribuem proventos a seus acionistas a cada exercício social.\\n New notice\\n### Informações sobre a BBDC3',\n",
       " '* O conselho de administração do Bradesco (BBDC3;BBDC4) aprovou a proposta de pagamento de juros sobre o capital próprio (JCP) intermediários, no valor de R$ 2 bilhões.\\n* Deste montante, o valor de R$ 0,179570675 é por ação ordinária e R$ 0,197527743 por ação preferencial.\\n* Terão direito os acionistas com data-base em 30 de setembro próximo.\\n* As ações passarão a ser negociadas “ex-direito” a partir de 1º de outubro.\\n* O pagamento ocorrerá até 30 de abril de 2025 pelo valor líquido de R$ 0,152635074 por ação ordinária e R$ 0,167898582 por ação preferencial.\\n* Os valores recebidos pelos acionistas terão incidência de Imposto de Renda de 15%.\\n New notice\\n**Notícias sobre BBDC3**\\n======================',\n",
       " '### Notícias',\n",
       " '* **BBDC3 lança ação de opção de compra de ações** \\n   A BBDC3, uma das maiores empresas de serviços financeiros do Brasil, lançou uma ação de opção de compra de ações, visando atrair investidores e aumentar a liquidez no mercado.\\n   Com essa ação, os investidores terão a oportunidade de comprar ações da BBDC3 a um preço fixo, antes da data de vencimento.\\n   A ação visa aumentar a participação da BBDC3 no mercado e fortalecer a sua posição como líder nos serviços financeiros.',\n",
       " '* **BBDC3 apresenta resultados financeiros sólidos**\\n   A BBDC3 apresentou resultados financeiros sólidos no último trimestre, com um aumento de 15% nas receitas em relação ao mesmo período do ano anterior.\\n   A empresa destacou a sua capacidade de gerenciar os riscos e manter a estabilidade financeira, mesmo em um cenário de incertezas no mercado.\\n   Os resultados financeiros da BBDC3 foram considerados positivos pela comunidade financeira, reforçando a confiança dos investidores na empresa.',\n",
       " '* **BBDC3 expande serviços para o mercado internacional**\\n   A BBDC3 está expandindo seus serviços para o mercado internacional, com o objetivo de aumentar a sua presença global e atrair novos clientes.\\n   A empresa está investindo em tecnologia e em pessoal qualificado para atender às necessidades dos clientes internacionais.\\n   A expansão da BBDC3 para o mercado internacional é vista como uma oportunidade de crescimento e desenvolvimento para a empresa.\\n New notice\\n# Informações sobre BBDC3',\n",
       " '## Aviso de Recebimento de JCP',\n",
       " 'A partir desta semana, os investidores têm a oportunidade de investir em ações do Banco Bradesco (BBDC3, BBDC4).',\n",
       " '## Investimento no Banco Bradesco',\n",
       " 'Investidores interessados devem estar atentos às datas para garantir o direito aos proventos e planejar suas estratégias de investimento de acordo com o calendário divulgado.',\n",
       " '## Informações Adicionais',\n",
       " '- Acompanhe tudo sobre: Juros sobre capital próprio (JCP)\\n- BTG Pactual passa a oferecer reinvestimento automático de dividendos\\n New notice\\n# Informações sobre BBDC3',\n",
       " '## Lucro líquido acima do esperado',\n",
       " '* O lucro líquido do Bradesco no segundo trimestre foi de R$ 4,716 bilhões, alta de 12% ante o trimestre imediatamente anterior e avanço de 4,4% na comparação com o mesmo período do ano anterior.\\n* O lucro líquido do período foi R$ 4,716 bilhões, o que representa alta de 12% ante o trimestre imediatamente anterior.',\n",
       " '## Ações do Bradesco em alta',\n",
       " '* As ações do Bradesco (BBDC3 e BBDC4) subiram 8% após o lucro líquido do período ser divulgado.\\n* O ordinário (com direito a voto em assembleias) avançou 8,3% e fechou nos R$ 13,61.\\n New notice\\n# Informações sobre BBDC3',\n",
       " '## JCP Bilionário Aprovado',\n",
       " '* O JCP do Bradesco (BBDC4) corresponde a R$ 0,267250553 por ação sob o ticker BBDC3 e R$ 0,293975608 por ação BBDC4.\\n* O pagamento do JCP será realizado até o dia 31 de julho de 2025.\\n* Aqueles com posição acionária na companhia em 30 de dezembro de 2024 terão direito aos proventos.',\n",
       " '## Outras Notícias',\n",
       " '* A partir de 2 de janeiro de 2025, os papeis do Bradesco passarão a ser negociados como ex-proventos.\\n* O Bradesco Seguros investe aproximadamente R$ 1 bilhão anualmente em Tecnologia da Informação.\\n* O grupo acumulou um faturamento de R$ 90 bilhões até setembro de 2024, com um crescimento de 14% em relação ao mesmo período de 2023.\\n New notice\\n**Notícias sobre BBDC3**',\n",
       " '* **Bradesco (BBDC3;BBDC4) pagará R$ 2 bilhões em JCP**: O Bradesco (BBDC3;BBDC4) pagará R$ 2 bilhões em juros sobre o capital próprio (JCP) intermediários. Cada ação ordinária receberá R$ 0,179570675 e cada ação preferencial, R$ 0,197527743.\\n* **Ações serão negociadas \"ex-direito\" a partir de 1º de outubro**: Os acionistas registrados até 30 de setembro terão direito ao JCP. As ações serão negociadas \"ex-direito\" a partir de 1º de outubro.\\n* **Imposto de Renda de 15%**: O Imposto de Renda de 15% vai entrar em cena.\\n New notice\\n# Informações sobre BBDC3',\n",
       " '### Pagamento de JCP em 2025',\n",
       " '* O Bradesco (BBDC3) pagará JCP mensais em 2025.\\n* Os valores previstos a serem pagos são de R$ 0,017249826 por ação ordinária (BBDC3) e R$ 0,018974809 por ação preferencial (BBDC4).\\n* A exceção são os acionistas pessoas jurídicas que estão dispensados da referida tributação e recebem os valores brutos.\\n* O pagamento será feito mediante crédito a ser efetuado nas contas correntes em instituição financeira por eles mantidas.\\n* Os investidores que não possuírem seus dados atualizados deverão ir até a agência Bradesco de sua preferência para atualização cadastral e recebimento dos respectivos valores.\\n New notice\\n### Informações sobre BBDC3',\n",
       " '#### Notícias',\n",
       " '* BBDC3 é uma empresa listada na Bovespa, com código de identificação BBDC3.\\n* A empresa é conhecida como Banco Bradesco S.A.\\n* O gráfico de BBDC3 foi atualizado às 10:38:24, com um atraso de 15 minutos.\\n* É possível atualizar o gráfico para Tempo Real.\\n* O histórico recente de BBDC3 não está disponível sem login.\\n* O suporte para BBDC3 pode ser contatado pelo telefone (11) 4950 5808 ou pelo e-mail suporte@advfn.com.br.\\n* A experiência sem anúncios para BBDC3 pode ser assinada.']"
      ]
     },
     "execution_count": 8,
     "metadata": {},
     "output_type": "execute_result"
    }
   ],
   "source": [
    "dados_new.split('\\n\\n')"
   ]
  },
  {
   "cell_type": "code",
   "execution_count": 9,
   "metadata": {},
   "outputs": [],
   "source": [
    "query = f'Qual é o sentimento sobre as notícias sobre a {ticker}'\n",
    "dados_noticia = ChatSentimento(query=query, noticia=dados_new, modelo_llm=\"deepseek-r1-distill-llama-70b\")"
   ]
  },
  {
   "cell_type": "code",
   "execution_count": 10,
   "metadata": {},
   "outputs": [
    {
     "data": {
      "text/plain": [
       "['<think>\\nOkay, I need to evaluate the overall sentiment of recent news about BBDC3 for an investment analysis. Let me start by going through each news article provided.',\n",
       " 'First, I see several mentions of dividend payments and JCP (juros sobre capital próprio). These are positive indicators because they show that the company is generating enough profit to distribute to shareholders. High dividends can attract investors and indicate financial health.',\n",
       " \"Next, there are articles about the company's strong financial results. For example, the lucro líquido (net income) was above expectations, with a 12% increase. This is a strong positive signal as it reflects good performance and stability.\",\n",
       " 'The expansion into international markets is another positive point. Entering new markets can lead to growth and diversification, which is great for long-term investment.',\n",
       " \"The launch of a stock option plan is also positive. This can increase liquidity and attract more investors, which is beneficial for the company's market presence.\",\n",
       " 'However, I should consider if there are any negative points. Looking through the news, most are positive or neutral. The only potential concern might be the mention of Imposto de Renda (income tax) on the dividends, but this is a standard practice and not necessarily a negative reflection on the company itself.',\n",
       " \"Calculating the sentiment scores: most articles are positive, with a few neutral ones about operational updates. Assigning scores, I'd say each positive article is around +0.8 to +1.0, and neutral ones around 0. Averaging these should give a positive overall sentiment.\",\n",
       " \"The overall index would be well above +0.3, indicating a positive outlook. Therefore, it's a good time to invest in BBDC3.\\n</think>\",\n",
       " '### Análise do Sentimento sobre as Notícias da BBDC3',\n",
       " '#### Sentimento de Cada Notícia:\\n1. **BBDC3 lança ação de opção de compra de ações**  \\n   - **Sentimento:** Positivo  \\n   - **Score:** +1.0  \\n   - **Justificativa:** A ação visa atrair investidores e aumentar a liquidez, indicando uma estratégia de crescimento.',\n",
       " '2. **BBDC3 apresenta resultados financeiros sólidos**  \\n   - **Sentimento:** Positivo  \\n   - **Score:** +1.0  \\n   - **Justificativa:** Aumento de 15% nas receitas e estabilidade financeira em um mercado incerto.',\n",
       " '3. **BBDC3 expande serviços para o mercado internacional**  \\n   - **Sentimento:** Positivo  \\n   - **Score:** +0.8  \\n   - **Justificativa:** Expansão internacional sinaliza crescimento e diversificação.',\n",
       " '4. **Pagamento de dividendos e JCP**  \\n   - **Sentimento:** Positivo  \\n   - **Score:** +0.7  \\n   - **Justificativa:** Distribuição de dividendos e JCP reflete saúde financeira.',\n",
       " '5. **Lucro líquido acima do esperado**  \\n   - **Sentimento:** Positivo  \\n   - **Score:** +1.0  \\n   - **Justificativa:** Crescimento de 12% no lucro líquido indicativo de bom desempenho.',\n",
       " '6. **Ações em alta após resultados financeiros**  \\n   - **Sentimento:** Positivo  \\n   - **Score:** +0.8  \\n   - **Justificativa:** Aumento de 8% nas ações reflete confiança do mercado.',\n",
       " '7. **JCP bilionário aprovado**  \\n   - **Sentimento:** Positivo  \\n   - **Score:** +0.7  \\n   - **Justificativa:** Pagamento significativo de JCP aos acionistas.',\n",
       " '8. **Informações sobre pagamento de JCP em 2025**  \\n   - **Sentimento:** Neutro  \\n   - **Score:** 0  \\n   - **Justificativa:** Atualizações operacionais sem impacto emocional claro.',\n",
       " '9. **Informações gerais sobre BBDC3**  \\n   - **Sentimento:** Neutro  \\n   - **Score:** 0  \\n   - **Justificativa:** Dados básicos sem conotação positiva ou negativa.',\n",
       " '#### Índice de Sentimento Geral:\\n- **Total de Notícias Análisadas:** 9  \\n- **Somatório dos Scores:** +6.0  \\n- **Média do Índice de Sentimento:** +0.666...  ',\n",
       " '#### Conclusão & Recomendação:\\n- **Índice de Sentimento:** +0.666... (acima de +0.3)  \\n- **Outlook:** Positivo  \\n- **Recomendação:** **SIM**, é um bom momento para investir. A BBDC3 apresenta resultados financeiros sólidos, distribuição de dividendos, expansão internacional e ações em alta, indicando um cenário favorável para investidores.']"
      ]
     },
     "execution_count": 10,
     "metadata": {},
     "output_type": "execute_result"
    }
   ],
   "source": [
    "dados_noticia.split('\\n\\n')"
   ]
  },
  {
   "cell_type": "code",
   "execution_count": 7,
   "metadata": {},
   "outputs": [
    {
     "name": "stdout",
     "output_type": "stream",
     "text": [
      "Não foi possível pegar os links da pagina 1!\n",
      "Sem mais páginas!\n",
      "Poucas noticias encontrada para o ticker BBDC3 no Yahoo Finance. Buscando noticias no Google\n"
     ]
    },
    {
     "name": "stderr",
     "output_type": "stream",
     "text": [
      "Fetching pages: 100%|##########| 1/1 [00:00<00:00,  2.03it/s]\n",
      "Fetching pages: 100%|##########| 1/1 [00:02<00:00,  2.31s/it]\n",
      "Fetching pages: 100%|##########| 1/1 [00:00<00:00,  8.09it/s]\n",
      "Fetching pages: 100%|##########| 1/1 [00:00<00:00,  1.86it/s]\n",
      "Fetching pages: 100%|##########| 1/1 [00:00<00:00, 12.44it/s]\n",
      "Fetching pages: 100%|##########| 1/1 [00:00<00:00,  8.02it/s]\n",
      "Fetching pages: 100%|##########| 1/1 [00:00<00:00,  1.90it/s]\n",
      "Fetching pages: 100%|##########| 1/1 [00:02<00:00,  2.99s/it]\n",
      "Fetching pages: 100%|##########| 1/1 [00:00<00:00,  3.92it/s]\n",
      "Fetching pages: 100%|##########| 1/1 [00:00<00:00,  4.08it/s]\n"
     ]
    }
   ],
   "source": [
    "ticker = 'BBDC3'\n",
    "sent = ModeloSentimento(query=query, acao=ticker)\n",
    "\n",
    "response = sent.chat_sentimento()"
   ]
  },
  {
   "cell_type": "code",
   "execution_count": 8,
   "metadata": {},
   "outputs": [
    {
     "name": "stdout",
     "output_type": "stream",
     "text": [
      "<think>\n",
      "Ok, vou começar analisando cada notícia sobre a BBDC3 para determinar o sentimento de cada uma. Primeiro, vou ler todas as notícias fornecidas e identificar os pontos-chave que indicam se o sentimento é positivo, neutro ou negativo.\n",
      "\n",
      "A primeira notícia menciona que a ação do Bradesco caiu 1,04% e que a Goldman Sachs recomendou compra, mas o desempenho da ação ainda está abaixo da média. Isso parece misto, então talvez seja neutro.\n",
      "\n",
      "A segunda notícia relata uma queda de 3,71% na ação após o Goldman Sachs rebaixar a recomendação para venda. Isso definitivamente parece negativo.\n",
      "\n",
      "A terceira notícia fala sobre o pagamento de JCP em 2025. Isso é uma informação neutra, pois é uma atualização financeira regular.\n",
      "\n",
      "A quarta notícia traz lucros recorrentes de R$5,4 bilhões, um salto de 87,7%, além de crescimento na carteira de crédito e expansão prevista. Isso é claramente positivo.\n",
      "\n",
      "A quinta notícia menciona o lançamento de um novo produto, certificação, expansão e investimento em tecnologia. Tudo isso são notícias positivas.\n",
      "\n",
      "A sexta notícia discute a revisão das projeções econômicas para 2025, com risco de recessão e inflação mais alta. Isso parece negativo.\n",
      "\n",
      "A sétima notícia é sobre o pagamento de JCP intermediários, o que é neutro.\n",
      "\n",
      "A oitava notícia informa que os investidores podem investir nas ações, mas não traz informações adicionais, então neutro.\n",
      "\n",
      "A nona notícia menciona o pagamento de dividendos, que é positivo, já que remunera os investidores.\n",
      "\n",
      "A décima notícia relata uma queda de 3,12% na ação e uma visão mais conservadora para 2025, o que é negativo.\n",
      "\n",
      "Agora, vou atribuir uma pontuação para cada notícia. Vou considerar as notícias positivas com +1, neutras com 0 e negativas com -1.\n",
      "\n",
      "1. Notícia 1: Neutra → 0\n",
      "2. Notícia 2: Negativa → -1\n",
      "3. Notícia 3: Neutra → 0\n",
      "4. Notícia 4: Positiva → +1\n",
      "5. Notícia 5: Positiva → +1\n",
      "6. Notícia 6: Negativa → -1\n",
      "7. Notícia 7: Neutra → 0\n",
      "8. Notícia 8: Neutra → 0\n",
      "9. Notícia 9: Positiva → +1\n",
      "10. Notícia 10: Negativa → -1\n",
      "\n",
      "Agora, vou calcular a pontuação total: (+1 +1 +1) e (-1 -1 -1). Total de 3 positivas, 3 negativas e 4 neutras. A pontuação total é 0.\n",
      "\n",
      "O índice de sentimento é a pontuação total dividida pelo número de notícias: 0/10 = 0. Isso está entre -0.3 e +0.3, então o outlook é neutro.\n",
      "\n",
      "Portanto, a conclusão é que é com cautela que se deve considerar investir na BBDC3, devido à mistura de notícias positivas e negativas.\n",
      "</think>\n",
      "\n",
      "### Análise da Saúde Financeira da BBDC3\n",
      "\n",
      "#### 1. Sentimento de cada Notícia:\n",
      "1. **Notícia 1**: Neutra (0)\n",
      "2. **Notícia 2**: Negativa (-1)\n",
      "3. **Notícia 3**: Neutra (0)\n",
      "4. **Notícia 4**: Positiva (+1)\n",
      "5. **Notícia 5**: Positiva (+1)\n",
      "6. **Notícia 6**: Negativa (-1)\n",
      "7. **Notícia 7**: Neutra (0)\n",
      "8. **Notícia 8**: Neutra (0)\n",
      "9. **Notícia 9**: Positiva (+1)\n",
      "10. **Notícia 10**: Negativa (-1)\n",
      "\n",
      "**Pontuação Total**: (+1 +1 +1) + (-1 -1 -1) = 0\n",
      "\n",
      "**Índice de Sentimento**: 0/10 = 0\n",
      "\n",
      "#### 2. Índice de Sentimento:\n",
      "- **0** está entre -0.3 e +0.3 → **Outlook Neutro**\n",
      "\n",
      "#### 3. Conclusão & Recomendação:\n",
      "- **CAUTION, mixed outlook**: Há incertezas ou volatilidade no mercado. Embora haja notícias positivas, como o aumento do lucro e expansão de operações, também existem fatores negativos, como a queda das ações e o risco de recessão. Portanto, é recomendável cautela ao considerar investimentos na BBDC3.\n",
      "\n",
      "**Resposta Final**:  \n",
      "CAUTION, mixed outlook."
     ]
    }
   ],
   "source": [
    "for chunk in response: \n",
    "    print(chunk, end=\"\", flush=True)"
   ]
  },
  {
   "cell_type": "markdown",
   "metadata": {},
   "source": [
    "# Analise tecnica"
   ]
  },
  {
   "cell_type": "code",
   "execution_count": 3,
   "metadata": {},
   "outputs": [],
   "source": [
    "ticker = 'BBDC3'\n",
    "trat_indi = TratandoDadosIndicadores(ticker=ticker, periodo= \"18Y\", intervalo=\"1mo\" )\n"
   ]
  },
  {
   "cell_type": "code",
   "execution_count": 4,
   "metadata": {},
   "outputs": [],
   "source": [
    "dados_indicadores =   trat_indi.indicadores_data_loader()\n"
   ]
  },
  {
   "cell_type": "code",
   "execution_count": 5,
   "metadata": {},
   "outputs": [
    {
     "data": {
      "text/plain": [
       "[Document(metadata={'20 period SMA': 11.894986391067505, '100 period SMA': 12.328042216300965, '200 period SMA': 8.881623058319091, '14 period RSI': 44.058308084257625, 'MACD': -0.4836056139278728, 'SIGNAL': -0.5134502546819572, 'BB_UPPER': 14.27947817946734, 'BB_MIDDLE': 11.894986391067505, 'BB_LOWER': 9.51049460266767, 'pivot': 11.237978056025161, 's1': 10.65888286065631, 's2': 10.15327692889319, 's3': 9.57418173352434, 's4': 8.995086538155489, 'r1': 11.743583987788282, 'r2': 12.322679183157133, 'r3': 12.828285114920254, 'r4': 13.333891046683375, 'VWAP.': 10.502286067308994, '14 period ADX.': 13.103388575015199, 0: 9.926872868087338}, page_content='2023-10-01'),\n",
       " Document(metadata={'20 period SMA': 11.854860639572143, '100 period SMA': 12.375607714653015, '200 period SMA': 8.924924173355102, '14 period RSI': 52.00525685185938, 'MACD': -0.3668622432338662, 'SIGNAL': -0.48413265239233894, 'BB_UPPER': 14.156178912554552, 'BB_MIDDLE': 11.854860639572143, 'BB_LOWER': 9.553542366589735, 'pivot': 11.011312713782862, 's1': 10.62278212086406, 's2': 10.393195886930751, 's3': 10.004665294011948, 's4': 9.616134701093145, 'r1': 11.24089894771617, 'r2': 11.629429540634973, 'r3': 11.859015774568281, 'r4': 12.088602008501589, 'VWAP.': 10.516693446069782, '14 period ADX.': 12.943189306376729, 0: 10.064023822844169}, page_content='2023-11-01'),\n",
       " Document(metadata={'20 period SMA': 11.927965259552002, '100 period SMA': 12.439243726730346, '200 period SMA': 8.971850140094757, '14 period RSI': 55.47136389225941, 'MACD': -0.19918338043245676, 'SIGNAL': -0.4271427980003626, 'BB_UPPER': 14.347633038280312, 'BB_MIDDLE': 11.927965259552002, 'BB_LOWER': 9.50829748082369, 'pivot': 12.125992868273377, 's1': 11.350801755849265, 's2': 10.074536899454875, 's3': 9.299345787030763, 's4': 8.52415467460665, 'r1': 13.402257724667766, 'r2': 14.177448837091879, 'r3': 15.453713693486268, 'r4': 16.729978549880656, 'VWAP.': 10.537828058901093, '14 period ADX.': 13.574609830793532, 0: 10.195688739410725}, page_content='2023-12-01'),\n",
       " Document(metadata={'20 period SMA': 11.867935371398925, '100 period SMA': 12.496842241287231, '200 period SMA': 9.010944933891297, '14 period RSI': 50.90765692451806, 'MACD': -0.14857021398123216, 'SIGNAL': -0.3714282811965365, 'BB_UPPER': 14.159755210021999, 'BB_MIDDLE': 11.867935371398925, 'BB_LOWER': 9.576115532775852, 'pivot': 13.332289864079222, 's1': 12.700651220003945, 's2': 11.871256930669512, 's3': 11.239618286594235, 's4': 10.607979642518957, 'r1': 14.161684153413654, 'r2': 14.793322797488932, 'r3': 15.622717086823364, 'r4': 16.452111376157795, 'VWAP.': 10.553520086812906, '14 period ADX.': 14.057706069382423, 0: 10.421783125535352}, page_content='2024-01-01'),\n",
       " Document(metadata={'20 period SMA': 11.84624786376953, '100 period SMA': 12.542435874938965, '200 period SMA': 9.043828432559968, '14 period RSI': 46.02221536224615, 'MACD': -0.2067022402750034, 'SIGNAL': -0.3384830730122299, 'BB_UPPER': 14.153872975717775, 'BB_MIDDLE': 11.84624786376953, 'BB_LOWER': 9.538622751821286, 'pivot': 12.951780228622857, 's1': 11.95361709608624, 's2': 11.418017387668083, 's3': 10.419854255131467, 's4': 9.42169112259485, 'r1': 13.487379937041014, 'r2': 14.48554306957763, 'r3': 15.021142777995788, 'r4': 15.556742486413945, 'VWAP.': 10.57099061405567, '14 period ADX.': 13.120980355014616, 0: 10.634311848492501}, page_content='2024-02-01'),\n",
       " Document(metadata={'20 period SMA': 11.83436851501465, '100 period SMA': 12.590494728088379, '200 period SMA': 9.078082940578462, '14 period RSI': 47.82446357035817, 'MACD': -0.21664295990339433, 'SIGNAL': -0.31411505039046284, 'BB_UPPER': 14.143348923209054, 'BB_MIDDLE': 11.83436851501465, 'BB_LOWER': 9.525388106820245, 'pivot': 11.878924038912777, 's1': 10.413480885549781, 's2': 9.584789529888626, 's3': 8.11934637652563, 's4': 6.653903223162635, 'r1': 12.707615394573931, 'r2': 14.173058547936927, 'r3': 15.001749903598082, 'r4': 15.830441259259237, 'VWAP.': 10.58113247080776, '14 period ADX.': 12.251163712172106, 0: 10.834088848072222}, page_content='2024-03-01'),\n",
       " Document(metadata={'20 period SMA': 11.748791170120239, '100 period SMA': 12.644936928749084, '200 period SMA': 9.111041121482849, '14 period RSI': 46.49283293423481, 'MACD': -0.2484467169335698, 'SIGNAL': -0.3009813836990842, 'BB_UPPER': 13.99590010582915, 'BB_MIDDLE': 11.748791170120239, 'BB_LOWER': 9.501682234411327, 'pivot': 11.533899212042085, 's1': 11.234951134228252, 's2': 10.81093334298043, 's3': 10.511985265166597, 's4': 10.213037187352764, 'r1': 11.957917003289907, 'r2': 12.25686508110374, 'r3': 12.680882872351562, 'r4': 13.104900663599384, 'VWAP.': 10.587855603937498, '14 period ADX.': 11.808585644278569, 0: 10.942072056279562}, page_content='2024-04-01'),\n",
       " Document(metadata={'20 period SMA': 11.602091121673585, '100 period SMA': 12.691814198493958, '200 period SMA': 9.138408737182617, '14 period RSI': 43.28866119607619, 'MACD': -0.3359079241414822, 'SIGNAL': -0.30796669178756386, 'BB_UPPER': 13.765448775151897, 'BB_MIDDLE': 11.602091121673585, 'BB_LOWER': 9.438733468195272, 'pivot': 11.4980346173689, 's1': 10.771006585639181, 's2': 10.215044024549844, 's3': 9.488015992820126, 's4': 8.760987961090407, 'r1': 12.053997178458237, 'r2': 12.781025210187956, 'r3': 13.336987771277293, 'r4': 13.892950332366631, 'VWAP.': 10.590207198110951, '14 period ADX.': 11.004540899784939, 0: 13.963928508154499}, page_content='2024-05-01'),\n",
       " Document(metadata={'20 period SMA': 11.429831552505494, '100 period SMA': 12.725457191467285, '200 period SMA': 9.16283664226532, '14 period RSI': 42.42690554926925, 'MACD': -0.41849488392075074, 'SIGNAL': -0.3300723302142013, 'BB_UPPER': 13.422218884173564, 'BB_MIDDLE': 11.429831552505494, 'BB_LOWER': 9.437444220837424, 'pivot': 10.84698841390626, 's1': 10.13119696266969, 's2': 9.754947636276885, 's3': 9.039156185040316, 's4': 8.323364733803746, 'r1': 11.223237740299066, 'r2': 11.939029191535635, 'r3': 12.31527851792844, 'r4': 12.691527844321246, 'VWAP.': 10.58773962980651, '14 period ADX.': 10.717234244217776, 0: 13.963928508154499}, page_content='2024-06-01'),\n",
       " Document(metadata={'20 period SMA': 11.39520616531372, '100 period SMA': 12.742653017044068, '200 period SMA': 9.189682474136353, '14 period RSI': 44.48526357671603, 'MACD': -0.4474878923445349, 'SIGNAL': -0.35355544264026806, 'BB_UPPER': 13.416305680069943, 'BB_MIDDLE': 11.39520616531372, 'BB_LOWER': 9.374106650557497, 'pivot': 10.322988831424112, 's1': 9.949277880476876, 's2': 9.615388875577777, 's3': 9.24167792463054, 's4': 8.867966973683304, 'r1': 10.656877836323211, 'r2': 11.030588787270448, 'r3': 11.364477792169547, 'r4': 11.698366797068646, 'VWAP.': 10.58897246834917, '14 period ADX.': 9.971238451243435, 0: 13.804935360889319}, page_content='2024-07-01'),\n",
       " Document(metadata={'20 period SMA': 11.511283349990844, '100 period SMA': 12.785205583572388, '200 period SMA': 9.23232480764389, '14 period RSI': 56.511788086657816, 'MACD': -0.24285413202058415, 'SIGNAL': -0.3314151805163313, 'BB_UPPER': 13.726901238290438, 'BB_MIDDLE': 11.511283349990844, 'BB_LOWER': 9.29566546169125, 'pivot': 10.762911420831928, 's1': 10.389154822934167, 's2': 10.107253852106126, 's3': 9.733497254208364, 's4': 9.359740656310603, 'r1': 11.044812391659969, 'r2': 11.41856898955773, 'r3': 11.700469960385771, 'r4': 11.982370931213811, 'VWAP.': 10.61062582979532, '14 period ADX.': 11.123442443318234, 0: 13.652301939514746}, page_content='2024-08-01'),\n",
       " Document(metadata={'20 period SMA': 11.612807321548463, '100 period SMA': 12.829637355804444, '200 period SMA': 9.274132809638978, '14 period RSI': 52.22459215695183, 'MACD': -0.15796380964919976, 'SIGNAL': -0.296724906342905, 'BB_UPPER': 13.808949433600914, 'BB_MIDDLE': 11.612807321548463, 'BB_LOWER': 9.416665209496012, 'pivot': 12.594232514393694, 's1': 11.55052912167344, 's2': 9.643945931029986, 's3': 8.600242538309733, 's4': 7.556539145589479, 'r1': 14.500815705037148, 'r2': 15.544519097757401, 'r3': 17.451102288400854, 'r4': 19.35768547904431, 'VWAP.': 10.624844663621962, '14 period ADX.': 12.296892958828739, 0: 9.989099826525013}, page_content='2024-09-01'),\n",
       " Document(metadata={'20 period SMA': 11.718479633331299, '100 period SMA': 12.862633218765259, '200 period SMA': 9.31219004392624, '14 period RSI': 50.87362389905532, 'MACD': -0.11507299883218991, 'SIGNAL': -0.260394524840762, 'BB_UPPER': 13.797169324929882, 'BB_MIDDLE': 11.718479633331299, 'BB_LOWER': 9.639789941732715, 'pivot': 12.838982013117686, 's1': 11.857233521917246, 's2': 11.237683291393088, 's3': 10.255934800192648, 's4': 9.274186308992208, 'r1': 13.458532243641844, 'r2': 14.440280734842284, 'r3': 15.059830965366443, 'r4': 15.6793811958906, 'VWAP.': 10.63844164861932, '14 period ADX.': 13.12834697351385, 0: 9.989099826525013}, page_content='2024-10-01'),\n",
       " Document(metadata={'20 period SMA': 11.745662117004395, '100 period SMA': 12.87396842956543, '200 period SMA': 9.345668256282806, '14 period RSI': 45.41635470452862, 'MACD': -0.18979653988922074, 'SIGNAL': -0.24627492785045374, 'BB_UPPER': 13.756047833497574, 'BB_MIDDLE': 11.745662117004395, 'BB_LOWER': 9.735276400511216, 'pivot': 12.35854942998012, 's1': 11.77640899039342, 's2': 11.39467779829172, 's3': 10.81253735870502, 's4': 10.23039691911832, 'r1': 12.740280622081821, 'r2': 13.322421061668521, 'r3': 13.704152253770221, 'r4': 14.085883445871922, 'VWAP.': 10.644750503999294, '14 period ADX.': 12.61074113429623, 0: 10.142365053636738}, page_content='2024-11-01'),\n",
       " Document(metadata={'20 period SMA': 11.724392080307007, '100 period SMA': 12.881000833511353, '200 period SMA': 9.373663296699524, '14 period RSI': 43.72384101387044, 'MACD': -0.28291530923024055, 'SIGNAL': -0.2536030041264111, 'BB_UPPER': 13.787504388130337, 'BB_MIDDLE': 11.724392080307007, 'BB_LOWER': 9.661279772483677, 'pivot': 11.242346762114218, 's1': 10.11197549194431, 's2': 9.440211893922802, 's3': 8.309840623752894, 's4': 7.179469353582986, 'r1': 11.914110360135727, 'r2': 13.044481630305635, 'r3': 13.716245228327143, 'r4': 14.388008826348651, 'VWAP.': 10.644166576023855, '14 period ADX.': 11.771289553021164, 0: 13.820730504318126}, page_content='2024-12-01'),\n",
       " Document(metadata={'20 period SMA': 11.684760284423827, '100 period SMA': 12.894312934875488, '200 period SMA': 9.402641682624816, '14 period RSI': 45.5530132833143, 'MACD': -0.32189453573598925, 'SIGNAL': -0.26726131044832674, 'BB_UPPER': 13.795808372423094, 'BB_MIDDLE': 11.684760284423827, 'BB_LOWER': 9.57371219642456, 'pivot': 10.601338295807025, 's1': 9.83162548834126, 's2': 9.340044075132228, 's3': 8.570331267666463, 's4': 7.800618460200697, 'r1': 11.092919709016057, 'r2': 11.862632516481822, 'r3': 12.354213929690854, 'r4': 12.845795342899885, 'VWAP.': 10.642788308579066, '14 period ADX.': 11.031875227859611, 0: 13.820730504318126}, page_content='2025-01-01'),\n",
       " Document(metadata={'20 period SMA': 11.593416738510133, '100 period SMA': 12.898095512390137, '200 period SMA': 9.435988731384278, '14 period RSI': 46.38681725330419, 'MACD': -0.3351019200214225, 'SIGNAL': -0.2808294323629459, 'BB_UPPER': 13.676155058661735, 'BB_MIDDLE': 11.593416738510133, 'BB_LOWER': 9.51067841835853, 'pivot': 10.514366334742691, 's1': 10.106230353674515, 's2': 9.503743361157625, 's3': 9.095607380089449, 's4': 8.687471399021273, 'r1': 11.116853327259582, 'r2': 11.524989308327758, 'r3': 12.127476300844648, 'r4': 12.72996329336154, 'VWAP.': 10.620833126689616, '14 period ADX.': 13.496359032075203, 0: 13.664376457834432}, page_content='2025-02-01')]"
      ]
     },
     "execution_count": 5,
     "metadata": {},
     "output_type": "execute_result"
    }
   ],
   "source": [
    "dados_indicadores"
   ]
  },
  {
   "cell_type": "code",
   "execution_count": 6,
   "metadata": {},
   "outputs": [],
   "source": [
    "response = ChatAnaliseTecnica(\n",
    "    query=f\"Qual é a tendencia sobre a empresa {ticker}\",\n",
    "    dados=dados_indicadores,\n",
    "    modelo_llm=\"deepseek-r1-distill-llama-70b\",\n",
    "    stream=True\n",
    ")"
   ]
  },
  {
   "cell_type": "code",
   "execution_count": 7,
   "metadata": {},
   "outputs": [
    {
     "name": "stdout",
     "output_type": "stream",
     "text": [
      "<think>\n",
      "Okay, I need to analyze the financial data for BBDC3 to determine the current trend and recommend a trading strategy. Let me go through each indicator step by step.\n",
      "\n",
      "First, looking at the Moving Averages. The 20-period SMA is around 11.58, the 100-period is about 12.59, and the 200-period is 9.33. The price is above the 200-period SMA, which is a good sign, but it's below the 100-period SMA. That might indicate a short-term downtrend within a longer-term uptrend.\n",
      "\n",
      "Next, the RSI is at 46.38. Since it's between 30 and 70, the asset isn't oversold or overbought. That means there's no clear signal from the RSI right now.\n",
      "\n",
      "Now, the MACD is negative (-0.335) and the Signal line is also negative (-0.281). The MACD is below the Signal line, which is a bearish sign. This could mean a sell signal or that the downtrend might continue.\n",
      "\n",
      "Looking at Bollinger Bands, the Middle Band is at 11.59, and the price is slightly below it. The Bands are contracting, which suggests low volatility. This might mean the market is consolidating, so a breakout could happen soon.\n",
      "\n",
      "The ADX is at 13.5, which is below 25. This indicates a weak trend. So, even though the MACD is bearish, the trend isn't very strong, and the market might be ranging.\n",
      "\n",
      "Support and Resistance levels: The current price is near the pivot point of 10.51. The supports are at 9.50 and lower, and resistances are around 11.71 and higher. So, the price is near a support level, which could act as a floor.\n",
      "\n",
      "VWAP is at 10.62, close to the current price, indicating average volume-weighted price.\n",
      "\n",
      "Putting it all together: The price is in a short-term downtrend but above the 200-period SMA, which is bullish. The MACD is bearish, but the ADX shows weak trend strength. The RSI is neutral, and Bollinger Bands show low volatility.\n",
      "\n",
      "So, the trend is neutral to slightly bearish. It's in a range, so I should consider a reversal strategy. If the price bounces off the support, it might go up to the resistance. Alternatively, if it breaks below support, it could go lower.\n",
      "\n",
      "I think the best strategy is to wait for the price to test the support or break above resistance before entering a trade. Using a stop-loss near the lower support and taking profit at the resistance level would be prudent.\n",
      "</think>\n",
      "\n",
      "**Análise Técnica da Ação BBDC3**\n",
      "\n",
      "**Resumo da Análise:**\n",
      "\n",
      "1. **Tendência Geral:**\n",
      "   - A ação está em uma tendência **neutra a ligeiramente bearish** no curto prazo, mas mantém uma tendência **bullish** no longo prazo, uma vez que o preço está acima da Média Móvel de 200 períodos.\n",
      "\n",
      "2. **Indicadores Chave:**\n",
      "   - **Médias Móveis:** O preço está abaixo da Média Móvel de 100 períodos (aproximadamente 12,59), indicando fraqueza no curto prazo, mas acima da Média Móvel de 200 períodos (aproximadamente 9,33), mantendo a tendência de longo prazo positiva.\n",
      "   - **RSI (14 períodos):** O RSI está em 46,38, indicando que o ativo não está em território sobrecomprado ou sobre-vendido.\n",
      "   - **MACD:** O MACD está negativo (-0,335) e abaixo da Linha de Sinal (-0,281), indicando um sinal bearish.\n",
      "   - **ADX (14 períodos):** O ADX está em 13,5, indicando uma tendência fraca.\n",
      "\n",
      "3. **Níveis de Suporte e Resistência:**\n",
      "   - **Suporte:** O preço está próximo do nível de suporte importante (BB_LOWER: 9,51) e do Pivo (10,51).\n",
      "   - **Resistência:** A resistência mais próxima está em torno de 11,71 (r1).\n",
      "\n",
      "4. **Bollinger Bands:** As Bandas de Bollinger estão se contraindo, indicando baixa volatilidade e possível consolidação.\n",
      "\n",
      "**Estratégia de Trading Recomendada:**\n",
      "\n",
      "- **Aguarde:** Devido à tendência fraca indicada pelo ADX e à neutralidade do RSI, é recomendável aguardar um movimento mais claro do preço.\n",
      "- **Compra em Suporte:** Se o preço testar o suporte em 9,51 e mostrar sinais de reversão (como um cruza positiva no MACD ou rompimento da Linha de Sinal), pode ser uma boa oportunidade de compra com alvo em 11,71.\n",
      "- **Venda em Resistência:** Se o preço atingir a resistência em 11,71 sem sucesso, pode ser um ponto de venda com alvo em 10,51.\n",
      "- **Stop-Loss:** Estabeleça um stop-loss abaixo do suporte em 9,51 para proteger contra movimentos adversos.\n",
      "\n",
      "**Conclusão:**\n",
      "A ação BBDC3 está em uma fase de consolidação, com sinais mistos. A melhor abordagem é esperar por um rompimento claro de suporte ou resistência antes de tomar uma posição."
     ]
    }
   ],
   "source": [
    "for chunk in response:\n",
    "    print(chunk, end=\"\", flush=True)"
   ]
  },
  {
   "cell_type": "code",
   "execution_count": 8,
   "metadata": {},
   "outputs": [],
   "source": [
    "ticker = 'BBDC3'\n",
    "query = f\"Qual é a tendencia sobre a empresa {ticker}\"\n",
    "tec = ModeloAnaliseTecnica(query=query,ticker=ticker)"
   ]
  },
  {
   "cell_type": "code",
   "execution_count": 10,
   "metadata": {},
   "outputs": [
    {
     "name": "stdout",
     "output_type": "stream",
     "text": [
      "<think>\n",
      "Ok, I'm trying to figure out the trend for BBDC3 based on the technical data provided. Let me go through each indicator step by step.\n",
      "\n",
      "First, looking at the moving averages. The 20-period SMA is around 11.59, the 100-period is 12.89, and the 200-period is 9.43. Hmm, so the price is above the 200-period SMA, which might indicate a long-term uptrend. But the 20-period is below the 100-period, which could mean a short-term downtrend or consolidation.\n",
      "\n",
      "Next, the RSI is at 46.38. That's in the neutral zone, not overbought or oversold. So the asset isn't indicating a strong buy or sell signal based on RSI alone.\n",
      "\n",
      "Now, the MACD line is negative at -0.33, and the signal line is also negative at -0.28. The MACD is below the signal line, which usually suggests bearish momentum. But I notice that the MACD is moving closer to the signal line, so maybe a crossover could happen soon.\n",
      "\n",
      "Looking at Bollinger Bands, the middle band is at 11.59, and the current price is near the lower band of 9.51. This could mean increased volatility and that the price might be oversold, but it's not confirmed yet.\n",
      "\n",
      "The ADX is at 13.49, which is below 25. That indicates a weak trend, so the current movement isn't very strong. This makes me think that the market is in a ranging or consolidating phase rather than a strong uptrend or downtrend.\n",
      "\n",
      "The VWAP is at 10.62, which is below the current price. That might suggest that the price is fair or slightly overvalued relative to volume.\n",
      "\n",
      "Looking at support and resistance levels, the price is near a support level (s1) at 10.10. If it breaks below this, it could go down to 9.44 (s2). On the resistance side, it's below r1 at 11.11, so if it bounces, it might face resistance there.\n",
      "\n",
      "Putting it all together, the price is in a short-term downtrend within a long-term uptrend. The weak ADX suggests the trend isn't strong. The MACD might indicate a bearish crossover, but the RSI is neutral. The Bollinger Bands show volatility, but the price is near support levels.\n",
      "\n",
      "So, I think the strategy should be cautious. Maybe wait for the price to test the support levels again or for the MACD to cross above the signal line before considering a buy. If it breaks below support, it might be a sell signal. But with the ADX low, it's probably better to wait for a clearer trend.\n",
      "</think>\n",
      "\n",
      "**Análise Técnica da Ação BBDC3**\n",
      "\n",
      "**Resumo Geral:**\n",
      "A ação BBDC3 apresenta sinais mistos, indicando um possível movimento de consolidação ou tendência fraca. Abaixo está a análise detalhada:\n",
      "\n",
      "**1. Identificação de Tendência:**\n",
      "- **Médias Móveis:** O preço está acima da MÁ SMA de 200 períodos (9,43), indicando uma tendência de longo prazo positiva. No entanto, a MÁ de 20 períodos (11,59) está abaixo da MÁ de 100 períodos (12,89), sugerindo uma tendência de curto prazo negativa ou de consolidação.\n",
      "- **ADX (14 períodos):** O ADX está em 13,49, abaixo de 25, indicando uma tendência fraca.\n",
      "\n",
      "**2. Força do Mercado:**\n",
      "- **RSI (14 períodos):** O RSI está em 46,38, na zona neutra, não indicando condições de sobrecompra ou sobrevida.\n",
      "- **MACD e Sinal:** O MACD (-0,33) está abaixo da linha de sinal (-0,28), sugerindo momentum bearish, mas sem um cruzamento claro.\n",
      "\n",
      "**3. Suporte e Resistência:**\n",
      "- **Níveis de Suporte e Resistência:** O preço está próximo do suporte s1 (10,10) e abaixo da resistência r1 (11,11).\n",
      "- **Bollinger Bands:** O preço está perto da banda inferior (9,51), indicando possível volatilidade aumentada.\n",
      "\n",
      "**4. Estratégia de Negociação:**\n",
      "- **Recomendação:** Aguardar para verificar se o preço testa os níveis de suporte ou se o MACD cruzar a linha de sinal. Se o preço romper abaixo do suporte, pode ser um sinal de venda. Caso contrário, um possível cruzamento do MACD pode indicar uma entrada.\n",
      "\n",
      "**Conclusão:**\n",
      "A BBDC3 está em uma tendência de curto prazo negativa dentro de uma tendência de longo prazo positiva. A baixa força da tendência (ADX <25) sugere cautela. Recomenda-se esperar por sinais mais claros antes de tomar uma decisão de negociação."
     ]
    }
   ],
   "source": [
    "response = tec.chat_analise_tecnica()\n",
    "for chunk in response: \n",
    "    print(chunk, end=\"\", flush=True)"
   ]
  },
  {
   "cell_type": "markdown",
   "metadata": {},
   "source": [
    "# Valuation"
   ]
  },
  {
   "cell_type": "code",
   "execution_count": 2,
   "metadata": {},
   "outputs": [
    {
     "name": "stdout",
     "output_type": "stream",
     "text": [
      "YF.download() has changed argument auto_adjust default to True\n"
     ]
    },
    {
     "name": "stderr",
     "output_type": "stream",
     "text": [
      "[*********************100%***********************]  1 of 1 completed\n"
     ]
    },
    {
     "name": "stdout",
     "output_type": "stream",
     "text": [
      "Diferença entre valuation e cotação: -59.25%\n"
     ]
    },
    {
     "name": "stderr",
     "output_type": "stream",
     "text": [
      "[*********************100%***********************]  1 of 1 completed\n",
      "[*********************100%***********************]  1 of 1 completed\n"
     ]
    }
   ],
   "source": [
    "ticker = 'WHRL3'\n",
    "query = f\"Qual é o valuation da empresa {ticker}\"\n",
    "chat_valu = ModeloValuation(query=f\"Qual é o valuation da empresa {ticker}\", ticker=ticker, anos_projecao=5, taxa_crescimento_perpetuidade=0.014, calculo_necessidade_capital_de_giro=False, stream=True)\n",
    "\n",
    "response= chat_valu.chat_valuation()"
   ]
  },
  {
   "cell_type": "code",
   "execution_count": 4,
   "metadata": {},
   "outputs": [
    {
     "name": "stdout",
     "output_type": "stream",
     "text": [
      "<think>\n",
      "Okay, so I need to figure out if WHRL3 is undervalued or overvalued. I have two valuation methods here: Gordon Growth Model and Discounted Cash Flow (DCF). The current stock price is 3.88, while the Gordon model gives a valuation of 1.58 and the DCF is negative at -1.9. Hmm, that's a big difference. \n",
      "\n",
      "First, I should compare the two valuation methods. The Gordon model is based on dividends, assuming perpetual growth, while DCF looks at future cash flows. The Gordon valuation is 1.58, which is way below the current price of 3.88. The DCF is even lower, negative, which is strange. Usually, DCF should be positive if the company is generating cash. Maybe the model is expecting negative cash flows in the future.\n",
      "\n",
      "Looking at the DCF inputs, the revenue is increasing each year, from 11.48 billion in 2025 to 12.49 billion in 2029. EBIT is also rising, so the company seems profitable. Tax expenses are going up too, which is normal. CAPEX is increasing each year, but depreciation is as well. The cash flow each year is positive, around 700-800 million. The present value of these cash flows is decreasing each year, which might be because of the discounting factor. The total present value is 5.857 billion in 2025, dropping each year. \n",
      "\n",
      "Wait, the DCF valuation is negative (-1.9). That doesn't make sense because the cash flows are positive. Maybe the terminal value is negative, or the discount rate is too high. The WACC is 34.6%, which is pretty high. That could be why the present values are lower. If WACC is too high, it might undervalue the company.\n",
      "\n",
      "Looking at the Gordon model, the sustainable growth rate is negative (-15.47%). That's a problem because it implies the dividends are expected to decrease indefinitely, which isn't sustainable. The median dividend is 0.423, and with a negative growth rate, the model might be undervaluing the stock. \n",
      "\n",
      "The current stock price is 3.88, which is higher than both valuations. So, according to these models, the stock is overvalued. But I should check the financial sustainability. The cash flows are positive, but the DCF is negative. Maybe the model is flawed. The revenue and EBIT growth seems sustainable, around 3-4% each year. CAPEX is around 2.4 billion, which is reasonable compared to revenue. \n",
      "\n",
      "Debt-wise, total debt is 1.6038 billion, and available cash is 1.23 billion. The debt-to-cash ratio is about 1.3, which isn't too bad. WACC at 34.6% seems high; maybe that's affecting the DCF. If WACC is too high, the valuation is lower. \n",
      "\n",
      "So, the discrepancy between Gordon and DCF might be because Gordon has a negative growth rate, and DCF has a high WACC. Both are undervaluing the company, but the market is pricing it higher. Maybe the market expects higher growth or lower discount rates. \n",
      "\n",
      "In conclusion, based on these models, the company seems overvalued because both valuations are below the current price. But I should consider if the models are accurate. If the sustainable growth rate is wrong or WACC is too high, the valuations might not reflect reality. Investors should be cautious; maybe the stock is overpriced, but if the company can improve its growth or lower its WACC, it might justify the current price.\n",
      "</think>\n",
      "\n",
      "**Análise de Valuation da Empresa WHRL3**\n",
      "\n",
      "**1. Comparação entre os Métodos de Valuation:**\n",
      "- **Valuation pelo Método Gordon:** R$ 1,58\n",
      "- **Valuation pelo Método DCF:** R$ -1,90\n",
      "- **Preço Atual:** R$ 3,88\n",
      "\n",
      "**Conclusão:** Há uma diferença significativa entre os dois métodos. O Método Gordon é baseado em dividendos e crescimento sustentável, enquanto o DCF projeta fluxos de caixa. A diferença pode ser atribuída a uma taxa de crescimento sustentável negativa no Método Gordon e uma alta taxa WACC (34,6%) no DCF, que pode estar subvalorando a empresa.\n",
      "\n",
      "**2. Análise de Rentabilidade e Sustentabilidade Financeira:**\n",
      "- **Fluxos de Caixa:** Positivos e consistentes, indicando boa saúde financeira.\n",
      "- **CAPEX:** Razoável em relação à receita, não comprometendo o fluxo de caixa.\n",
      "- **Valoreação:** A geração de valor justifica o valuation, mas os modelos podem estar subestimando.\n",
      "\n",
      "**3. Riscos e Inconsistências:**\n",
      "- **Taxa de Crescimento Sustentável Negativa:** No Método Gordon, isso pode indicar expectativa de declínio nos dividendos.\n",
      "- **Dívida:** Relação dívida/caixa de 1,3 é gerenciável, não indicando risco elevado.\n",
      "- **WACC Elevado:** Pode estar inflando o desconto e reduzindo o valuation no DCF.\n",
      "\n",
      "**4. Conclusão e Recomendação:**\n",
      "- **Valuation:** Com base nos modelos, a empresa parece sobrevalorizada, já que ambos os métodos resultam em valuations abaixo do preço atual.\n",
      "- **Recomendação:** Investidores devem ser cautelosos. A empresa pode estar sobrevalorizada, mas fatores como melhoria no crescimento ou redução da WACC podem justificar o preço atual. É recomendável monitorar a sustentabilidade do crescimento e a gestão da dívida."
     ]
    }
   ],
   "source": [
    "for chunk in response: \n",
    "    print(chunk, end=\"\", flush=True)"
   ]
  },
  {
   "cell_type": "markdown",
   "metadata": {},
   "source": [
    "# Chat retirando ticker"
   ]
  },
  {
   "cell_type": "code",
   "execution_count": null,
   "metadata": {},
   "outputs": [],
   "source": [
    "import json\n",
    "with open('dados/empresas.json', 'r') as f:\n",
    "    dados_empresa = json.load(f)"
   ]
  },
  {
   "cell_type": "code",
   "execution_count": 88,
   "metadata": {},
   "outputs": [],
   "source": [
    "from langchain_groq import ChatGroq\n",
    "from langchain_core.output_parsers import StrOutputParser\n",
    "from dotenv import load_dotenv\n",
    "from chat_bots import get_secret_key\n",
    "from pydantic import SecretStr\n",
    "from langchain_core.prompts import PromptTemplate\n",
    "from typing import Dict\n",
    "\n",
    "load_dotenv()\n",
    "\n",
    "try:\n",
    "    api_secret_groq = get_secret_key(\"GROQ_API_KEY\")\n",
    "except KeyError as exc:\n",
    "    raise ValueError(\"API key inválida ou não definida\") from exc\n",
    "\n",
    "load_dotenv()\n",
    "\n",
    "\n",
    "def ChatPegaTicker(\n",
    "    query: str,\n",
    "    dados_empresas:Dict[str,str],\n",
    "    api_secret: SecretStr | None = api_secret_groq,\n",
    "    modelo_llm: str = \"llama-3.2-3b-preview\",\n",
    ") -> str:\n",
    "    model = ChatGroq(\n",
    "        api_key=api_secret,\n",
    "        model=modelo_llm,\n",
    "        temperature=0.5,\n",
    "        stop_sequences=None,\n",
    "    )\n",
    "\n",
    "    prompt = PromptTemplate(\n",
    "        input_variables=[\"query\", \"dados_empresas\"],\n",
    "        template=\"\"\"\n",
    "        \n",
    "                Você recebe a seguinte consulta: \"{query}\"\n",
    "                \n",
    "                Sua única missão é identificar o ticker da empresa mencionada, caso exista.\n",
    "\n",
    "                Extraia o nome da empresa na consulta.\n",
    "                Encontre seu código de negociação na bolsa de valores.\n",
    "                Responda apenas com o ticker, sem qualquer outra informação adicional.\n",
    "                Exemplo:\n",
    "                Entrada: \"O que você pode me dizer sobre o banco Bradesco?\"\n",
    "                Saída: BBDC4\n",
    "                \n",
    "                Voce recebe os nomes e o codigo na empresa no arquivo {dados_empresas}\n",
    "                \n",
    "                Utlize esse arquivo para identificar qual e o codigo da acao\n",
    "                \n",
    "            De como resposta apenas o codigo da acao, sem nenhum comentario.\n",
    "\n",
    "            Se não encontrar um ticker válido, responda que nao encontrou.\n",
    "\n",
    "      \"\"\",\n",
    "    )\n",
    "\n",
    "    llm_chain = prompt | model | StrOutputParser()\n",
    "\n",
    "    resposta = llm_chain.invoke({'query':query, 'dados_empresas':dados_empresas})\n",
    "\n",
    "    return resposta"
   ]
  },
  {
   "cell_type": "code",
   "execution_count": 90,
   "metadata": {},
   "outputs": [
    {
     "data": {
      "text/plain": [
       "'PETR3'"
      ]
     },
     "execution_count": 90,
     "metadata": {},
     "output_type": "execute_result"
    }
   ],
   "source": [
    "query = \"O que vc pode me dizer da petrobras\"\n",
    "response = ChatPegaTicker(query=query, dados_empresas=dados_empresa)\n",
    "response"
   ]
  },
  {
   "cell_type": "code",
   "execution_count": 1,
   "metadata": {},
   "outputs": [
    {
     "name": "stderr",
     "output_type": "stream",
     "text": [
      "USER_AGENT environment variable not set, consider setting it to identify your requests.\n"
     ]
    }
   ],
   "source": [
    "from juncao_modelos_dados import ModeloFundamentos, ModeloValuation, ModeloSentimento, ModeloAnaliseTecnica"
   ]
  },
  {
   "cell_type": "markdown",
   "metadata": {},
   "source": [
    "# Pegando icone da empresa"
   ]
  },
  {
   "cell_type": "code",
   "execution_count": 17,
   "metadata": {},
   "outputs": [],
   "source": [
    "from selenium.webdriver.common.by import By\n",
    "from selenium import webdriver\n",
    "from selenium.webdriver.support.ui import WebDriverWait\n",
    "from selenium.webdriver.support import expected_conditions as EC\n",
    "from selenium.webdriver.common.keys import Keys\n",
    "\n",
    "class PegandoLogotipo:\n",
    "    def __init__(self, ticker: str) -> None:\n",
    "        self.ticker = ticker\n",
    "        \n",
    "    def options(self) -> webdriver.ChromeOptions:\n",
    "        chrome_options = webdriver.ChromeOptions()\n",
    "        chrome_options.add_argument(\"--headless\")\n",
    "        chrome_options.add_argument(\"--no-sandbox\")\n",
    "        chrome_options.add_argument(\"--disable-dev-shm-usage\")\n",
    "        chrome_options.add_argument(\"--disable-gpu\")\n",
    "        chrome_options.add_argument(\"--disable-features=NetworkService\")\n",
    "        chrome_options.add_argument(\"--window-size=1920x1080\")\n",
    "        chrome_options.add_argument(\"--disable-features=VizDisplayCompositor\")\n",
    "        return chrome_options\n",
    "\n",
    "    def driver(self) -> webdriver.Chrome:\n",
    "        driver = webdriver.Chrome(options=self.options())\n",
    "        return driver\n",
    "\n",
    "    def pegar_logotipo(self) -> str | None:\n",
    "        driver = self.driver()\n",
    "        driver.get(f\"https://br.tradingview.com/symbols/BMFBOVESPA-{self.ticker}/\")\n",
    "        image_element = WebDriverWait(driver, 10).until(\n",
    "                EC.presence_of_element_located((By.XPATH, \"/html/body/div[3]/div[4]/div[2]/div[1]/div[1]/div/div/div/div[1]/img[3]\"))\n",
    "            )\n",
    "            \n",
    "            # Extrai o link da imagem (atributo 'src')\n",
    "        image_link = image_element.get_attribute(\"src\")\n",
    "        return image_link\n",
    "\n",
    "\n"
   ]
  },
  {
   "cell_type": "code",
   "execution_count": 19,
   "metadata": {},
   "outputs": [
    {
     "data": {
      "text/plain": [
       "'https://s3-symbol-logo.tradingview.com/brasileiro-petrobras--big.svg'"
      ]
     },
     "execution_count": 19,
     "metadata": {},
     "output_type": "execute_result"
    }
   ],
   "source": [
    "ticker = 'PETR3'\n",
    "pegar_logotipo = PegandoLogotipo(ticker=ticker)\n",
    "pegar_logotipo.pegar_logotipo()"
   ]
  },
  {
   "cell_type": "code",
   "execution_count": null,
   "metadata": {},
   "outputs": [],
   "source": []
  },
  {
   "cell_type": "markdown",
   "metadata": {},
   "source": [
    "# f"
   ]
  },
  {
   "cell_type": "code",
   "execution_count": null,
   "metadata": {},
   "outputs": [],
   "source": []
  },
  {
   "cell_type": "code",
   "execution_count": 28,
   "metadata": {},
   "outputs": [],
   "source": [
    "import requests\n",
    "\n",
    "# URL correta para acessar o arquivo bruto no GitHub\n",
    "url = \"https://raw.githubusercontent.com/Jeferson100/fundamentalist-stock-brazil/main/codigos_rodando/codigos_ibovespa.txt\"\n",
    "\n",
    "# Fazendo a requisição GET para baixar o arquivo\n",
    "response = requests.get(url)"
   ]
  },
  {
   "cell_type": "code",
   "execution_count": 37,
   "metadata": {},
   "outputs": [],
   "source": [
    "codigos = sorted(set(filter(None, response.text.split('\\r\\n'))))"
   ]
  },
  {
   "cell_type": "code",
   "execution_count": 43,
   "metadata": {},
   "outputs": [
    {
     "data": {
      "text/plain": [
       "['AALR3',\n",
       " 'ABCB4',\n",
       " 'ABEV3',\n",
       " 'AFLT3',\n",
       " 'AGRO3',\n",
       " 'AGXY3',\n",
       " 'AHEB3',\n",
       " 'ALLD3',\n",
       " 'ALOS3',\n",
       " 'ALPA3',\n",
       " 'ALPA4',\n",
       " 'ALPK3',\n",
       " 'AMAR3',\n",
       " 'AMBP3',\n",
       " 'AMER3',\n",
       " 'ANIM3',\n",
       " 'APER3',\n",
       " 'ARZZ3',\n",
       " 'ASAI3',\n",
       " 'AURE3',\n",
       " 'AVLL3',\n",
       " 'AZEV3',\n",
       " 'AZUL4',\n",
       " 'AZZA3',\n",
       " 'BALM4',\n",
       " 'BAUH4',\n",
       " 'BAZA3',\n",
       " 'BBAS3',\n",
       " 'BBDC3',\n",
       " 'BBDC4',\n",
       " 'BBSE3',\n",
       " 'BGIP3',\n",
       " 'BGIP4',\n",
       " 'BIOM3',\n",
       " 'BLAU3',\n",
       " 'BMEB3',\n",
       " 'BMEB4',\n",
       " 'BMIN3',\n",
       " 'BMIN4',\n",
       " 'BMKS3',\n",
       " 'BMOB3',\n",
       " 'BPAC11',\n",
       " 'BPAC3',\n",
       " 'BPAC5',\n",
       " 'BPAN4',\n",
       " 'BRAP3',\n",
       " 'BRAP4',\n",
       " 'BRAV3',\n",
       " 'BRBI11',\n",
       " 'BRFS3',\n",
       " 'BRKM11',\n",
       " 'BRKM3',\n",
       " 'BRKM5',\n",
       " 'BRSR3',\n",
       " 'BRSR6',\n",
       " 'BRST3',\n",
       " 'BSLI3',\n",
       " 'BSLI4',\n",
       " 'BTOW3',\n",
       " 'CAMB3',\n",
       " 'CAMB5',\n",
       " 'CAML3',\n",
       " 'CASH3',\n",
       " 'CCRO3',\n",
       " 'CEAB3',\n",
       " 'CEBR6',\n",
       " 'CEDO3',\n",
       " 'CEDO4',\n",
       " 'CGAS3',\n",
       " 'CGAS5',\n",
       " 'CGRA4',\n",
       " 'CLSA3',\n",
       " 'CLSC4',\n",
       " 'CMIG3',\n",
       " 'CMIG4',\n",
       " 'COGN3',\n",
       " 'CRFB3',\n",
       " 'CSAN3',\n",
       " 'CSMG3',\n",
       " 'CSNA3',\n",
       " 'CSUD3',\n",
       " 'CYRE3',\n",
       " 'DIRR3',\n",
       " 'DXCO3',\n",
       " 'EALT3',\n",
       " 'EALT4',\n",
       " 'ECOR3',\n",
       " 'EGIE3',\n",
       " 'ELET3',\n",
       " 'ELET6',\n",
       " 'EMBR3',\n",
       " 'ENEV3',\n",
       " 'ENGI11',\n",
       " 'ENGI3',\n",
       " 'ENGI4',\n",
       " 'EQTL3',\n",
       " 'ESPA3',\n",
       " 'EZTC3',\n",
       " 'FESA3',\n",
       " 'FESA4',\n",
       " 'FIQE3',\n",
       " 'FLRY3',\n",
       " 'FRAS3',\n",
       " 'FRIO3',\n",
       " 'GGBR3',\n",
       " 'GGBR4',\n",
       " 'GOAU3',\n",
       " 'GOAU4',\n",
       " 'GOLL4',\n",
       " 'HAPV3',\n",
       " 'HYPE3',\n",
       " 'IGTI11',\n",
       " 'IGTI3',\n",
       " 'INTB3',\n",
       " 'IRBR3',\n",
       " 'ITSA3',\n",
       " 'ITSA4',\n",
       " 'ITUB3',\n",
       " 'ITUB4',\n",
       " 'JBSS3',\n",
       " 'JHSF3',\n",
       " 'KLBN11',\n",
       " 'KLBN3',\n",
       " 'KLBN4',\n",
       " 'LIGT3',\n",
       " 'LINX3',\n",
       " 'LOGG3',\n",
       " 'LREN3',\n",
       " 'LWSA3',\n",
       " 'MDIA3',\n",
       " 'MGLU3',\n",
       " 'MRFG3',\n",
       " 'MRVE3',\n",
       " 'MULT3',\n",
       " 'NEOE3',\n",
       " 'NTCO3',\n",
       " 'NUTR3',\n",
       " 'OIBR3',\n",
       " 'OIBR4',\n",
       " 'ONCO3',\n",
       " 'PCAR3',\n",
       " 'PETR3',\n",
       " 'PETR4',\n",
       " 'PETZ3',\n",
       " 'POSI3',\n",
       " 'PRIO3',\n",
       " 'PSSA3',\n",
       " 'QUAL3',\n",
       " 'RADL3',\n",
       " 'RAIL3',\n",
       " 'RAIZ4',\n",
       " 'RENT3',\n",
       " 'RRRP3',\n",
       " 'SBSP3',\n",
       " 'SLCE3',\n",
       " 'SMFT3',\n",
       " 'SMTO3',\n",
       " 'SUZB3',\n",
       " 'TAEE11',\n",
       " 'TAEE3',\n",
       " 'TAEE4',\n",
       " 'TASA3',\n",
       " 'TASA4',\n",
       " 'TIMS3',\n",
       " 'TOTS3',\n",
       " 'TRIS3',\n",
       " 'UGPA3',\n",
       " 'USIM3',\n",
       " 'USIM5',\n",
       " 'VALE3',\n",
       " 'VIIA3',\n",
       " 'VIVT3',\n",
       " 'WEGE3',\n",
       " 'WHRL3',\n",
       " 'WIZC3',\n",
       " 'YDUQ3']"
      ]
     },
     "execution_count": 43,
     "metadata": {},
     "output_type": "execute_result"
    }
   ],
   "source": [
    "sorted(set(filter(None, response.text.split('\\r\\n'))))"
   ]
  },
  {
   "cell_type": "code",
   "execution_count": 41,
   "metadata": {},
   "outputs": [
    {
     "data": {
      "text/plain": [
       "['AALR3',\n",
       " 'ABCB4',\n",
       " 'ABEV3',\n",
       " 'AFLT3',\n",
       " 'AGRO3',\n",
       " 'AGXY3',\n",
       " 'AHEB3',\n",
       " 'ALLD3',\n",
       " 'ALOS3',\n",
       " 'ALPA3',\n",
       " 'ALPA4',\n",
       " 'ALPK3',\n",
       " 'AMAR3',\n",
       " 'AMBP3',\n",
       " 'AMER3',\n",
       " 'ANIM3',\n",
       " 'APER3',\n",
       " 'ARZZ3',\n",
       " 'ASAI3',\n",
       " 'AURE3',\n",
       " 'AVLL3',\n",
       " 'AZEV3',\n",
       " 'AZUL4',\n",
       " 'AZZA3',\n",
       " 'BALM4',\n",
       " 'BAUH4',\n",
       " 'BAZA3',\n",
       " 'BBAS3',\n",
       " 'BBDC3',\n",
       " 'BBDC4',\n",
       " 'BBSE3',\n",
       " 'BGIP3',\n",
       " 'BGIP4',\n",
       " 'BIOM3',\n",
       " 'BLAU3',\n",
       " 'BMEB3',\n",
       " 'BMEB4',\n",
       " 'BMIN3',\n",
       " 'BMIN4',\n",
       " 'BMKS3',\n",
       " 'BMOB3',\n",
       " 'BPAC11',\n",
       " 'BPAC3',\n",
       " 'BPAC5',\n",
       " 'BPAN4',\n",
       " 'BRAP3',\n",
       " 'BRAP4',\n",
       " 'BRAV3',\n",
       " 'BRBI11',\n",
       " 'BRFS3',\n",
       " 'BRKM11',\n",
       " 'BRKM3',\n",
       " 'BRKM5',\n",
       " 'BRSR3',\n",
       " 'BRSR6',\n",
       " 'BRST3',\n",
       " 'BSLI3',\n",
       " 'BSLI4',\n",
       " 'BTOW3',\n",
       " 'CAMB3',\n",
       " 'CAMB5',\n",
       " 'CAML3',\n",
       " 'CASH3',\n",
       " 'CCRO3',\n",
       " 'CEAB3',\n",
       " 'CEBR6',\n",
       " 'CEDO3',\n",
       " 'CEDO4',\n",
       " 'CGAS3',\n",
       " 'CGAS5',\n",
       " 'CGRA4',\n",
       " 'CLSA3',\n",
       " 'CLSC4',\n",
       " 'CMIG3',\n",
       " 'CMIG4',\n",
       " 'COGN3',\n",
       " 'CRFB3',\n",
       " 'CSAN3',\n",
       " 'CSMG3',\n",
       " 'CSNA3',\n",
       " 'CSUD3',\n",
       " 'CYRE3',\n",
       " 'DIRR3',\n",
       " 'DXCO3',\n",
       " 'EALT3',\n",
       " 'EALT4',\n",
       " 'ECOR3',\n",
       " 'EGIE3',\n",
       " 'ELET3',\n",
       " 'ELET6',\n",
       " 'EMBR3',\n",
       " 'ENEV3',\n",
       " 'ENGI11',\n",
       " 'ENGI3',\n",
       " 'ENGI4',\n",
       " 'EQTL3',\n",
       " 'ESPA3',\n",
       " 'EZTC3',\n",
       " 'FESA3',\n",
       " 'FESA4',\n",
       " 'FIQE3',\n",
       " 'FLRY3',\n",
       " 'FRAS3',\n",
       " 'FRIO3',\n",
       " 'GGBR3',\n",
       " 'GGBR4',\n",
       " 'GOAU3',\n",
       " 'GOAU4',\n",
       " 'GOLL4',\n",
       " 'HAPV3',\n",
       " 'HYPE3',\n",
       " 'IGTI11',\n",
       " 'IGTI3',\n",
       " 'INTB3',\n",
       " 'IRBR3',\n",
       " 'ITSA3',\n",
       " 'ITSA4',\n",
       " 'ITUB3',\n",
       " 'ITUB4',\n",
       " 'JBSS3',\n",
       " 'JHSF3',\n",
       " 'KLBN11',\n",
       " 'KLBN3',\n",
       " 'KLBN4',\n",
       " 'LIGT3',\n",
       " 'LINX3',\n",
       " 'LOGG3',\n",
       " 'LREN3',\n",
       " 'LWSA3',\n",
       " 'MDIA3',\n",
       " 'MGLU3',\n",
       " 'MRFG3',\n",
       " 'MRVE3',\n",
       " 'MULT3',\n",
       " 'NEOE3',\n",
       " 'NTCO3',\n",
       " 'NUTR3',\n",
       " 'OIBR3',\n",
       " 'OIBR4',\n",
       " 'ONCO3',\n",
       " 'PCAR3',\n",
       " 'PETR3',\n",
       " 'PETR4',\n",
       " 'PETZ3',\n",
       " 'POSI3',\n",
       " 'PRIO3',\n",
       " 'PSSA3',\n",
       " 'QUAL3',\n",
       " 'RADL3',\n",
       " 'RAIL3',\n",
       " 'RAIZ4',\n",
       " 'RENT3',\n",
       " 'RRRP3',\n",
       " 'SBSP3',\n",
       " 'SLCE3',\n",
       " 'SMFT3',\n",
       " 'SMTO3',\n",
       " 'SUZB3',\n",
       " 'TAEE11',\n",
       " 'TAEE3',\n",
       " 'TAEE4',\n",
       " 'TASA3',\n",
       " 'TASA4',\n",
       " 'TIMS3',\n",
       " 'TOTS3',\n",
       " 'TRIS3',\n",
       " 'UGPA3',\n",
       " 'USIM3',\n",
       " 'USIM5',\n",
       " 'VALE3',\n",
       " 'VIIA3',\n",
       " 'VIVT3',\n",
       " 'WEGE3',\n",
       " 'WHRL3',\n",
       " 'WIZC3',\n",
       " 'YDUQ3']"
      ]
     },
     "execution_count": 41,
     "metadata": {},
     "output_type": "execute_result"
    }
   ],
   "source": [
    "codigos"
   ]
  },
  {
   "cell_type": "code",
   "execution_count": 44,
   "metadata": {},
   "outputs": [],
   "source": [
    "import yfinance as yf\n",
    "\n"
   ]
  },
  {
   "cell_type": "code",
   "execution_count": null,
   "metadata": {},
   "outputs": [],
   "source": [
    "acao = yf.Ticker('FIQE3.SA')\n",
    "info = acao.info\n",
    "ChatTradutor(info['longBusinessSummary'])"
   ]
  },
  {
   "cell_type": "code",
   "execution_count": 64,
   "metadata": {},
   "outputs": [],
   "source": [
    "info = acao.info"
   ]
  },
  {
   "cell_type": "code",
   "execution_count": 58,
   "metadata": {},
   "outputs": [],
   "source": [
    "from langchain_groq import ChatGroq\n",
    "from langchain_core.output_parsers import StrOutputParser\n",
    "from dotenv import load_dotenv\n",
    "from chat_bots import get_secret_key\n",
    "from pydantic import SecretStr\n",
    "from langchain_core.prompts import PromptTemplate\n",
    "\n",
    "load_dotenv()\n",
    "\n",
    "try:\n",
    "    api_secret_groq = get_secret_key(\"GROQ_API_KEY\")\n",
    "except KeyError as exc:\n",
    "    raise ValueError(\"API key inválida ou não definida\") from exc\n",
    "def ChatTradutor(\n",
    "    query: str,\n",
    "    api_secret: SecretStr | None = api_secret_groq,\n",
    "    modelo_llm: str = \"llama-3.2-11b-vision-preview\",\n",
    ") -> str:\n",
    "    model = ChatGroq(\n",
    "        api_key=api_secret,\n",
    "        model=modelo_llm,\n",
    "        temperature=0.5,\n",
    "        stop_sequences=None,\n",
    "    )\n",
    "\n",
    "    prompt = PromptTemplate(\n",
    "        input_variables=[\"dados\"],\n",
    "        template=\"\"\"\n",
    "                \n",
    "                Voce recebe um texto em inglês e precisa traduzir para português. Essa e a sua unica missao.\n",
    "                De somente o texto traduzido, sem comentario algum.                                    \n",
    "                                                                                                   \n",
    "        REQUESTED ANALYSIS:\n",
    "        Dados: {dados}\n",
    "    \n",
    "\n",
    "      \"\"\",\n",
    "    )\n",
    "\n",
    "    llm_chain = prompt | model | StrOutputParser()\n",
    "\n",
    "    resposta = llm_chain.invoke(input={\"dados\": query})\n",
    "\n",
    "    return resposta"
   ]
  },
  {
   "cell_type": "code",
   "execution_count": 65,
   "metadata": {},
   "outputs": [
    {
     "data": {
      "text/plain": [
       "'A Unifique Telecomunicações S.A. fornece serviços de telecomunicações no Brasil. A empresa oferece serviços de armazenamento de dados, hospedagem de dados e internet. Além disso, ela fornece serviços de comunicação multimídia SCM; acesso a redes de comunicação, portais, provedores de conteúdo e serviços de informação; e TV por satélite, cabo e micro-ondas paga; atividade de rádio, processamento de dados, provedores de serviços de aplicação, hospedagem de internet e serviços de telefonia fixa commutada. Além disso, a empresa comercializa equipamentos e suprimentos de computador e telefone móvel; monitora sistemas de segurança eletrônica; oferece planos de aposentadoria e saúde suplementares; e publica livros e comercializa livros. A Unifique Telecomunicações S.A. foi fundada em 1997 e tem sede em Timbó, Brasil.'"
      ]
     },
     "execution_count": 65,
     "metadata": {},
     "output_type": "execute_result"
    }
   ],
   "source": [
    "ChatTradutor(info['longBusinessSummary'])"
   ]
  },
  {
   "cell_type": "markdown",
   "metadata": {},
   "source": [
    "#"
   ]
  }
 ],
 "metadata": {
  "kernelspec": {
   "display_name": ".venv",
   "language": "python",
   "name": "python3"
  },
  "language_info": {
   "codemirror_mode": {
    "name": "ipython",
    "version": 3
   },
   "file_extension": ".py",
   "mimetype": "text/x-python",
   "name": "python",
   "nbconvert_exporter": "python",
   "pygments_lexer": "ipython3",
   "version": "3.12.0"
  }
 },
 "nbformat": 4,
 "nbformat_minor": 2
}
