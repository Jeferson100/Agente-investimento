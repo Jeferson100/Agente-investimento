{
 "cells": [
  {
   "cell_type": "code",
   "execution_count": 2,
   "metadata": {},
   "outputs": [],
   "source": [
    "import pandas as pd\n",
    "from coleta_dados import DadosFundamentalistas, VerificadorTicks\n",
    "from chat_bots import chat_bot_fundamentalistas\n"
   ]
  },
  {
   "cell_type": "code",
   "execution_count": 3,
   "metadata": {},
   "outputs": [],
   "source": [
    "from typing import Optional, List\n",
    "from langchain_community.document_loaders import DataFrameLoader\n",
    "from coleta_dados import DadosFundamentalistas\n",
    "def tratando_dados_fundamentalistas(tic: str,\n",
    "        data_inicio: Optional[str] = None,\n",
    "        data_fim: Optional[str] = None,\n",
    "        colunas_drop:Optional[List[str],None] = None\n",
    "        ) -> List:\n",
    "    if colunas_drop is None:\n",
    "       colunas_drop = ['acoes_ordinarias', 'acoes_preferenciais', 'total',  'capex_doze_meses', 'fluxo_caixa_livre_doze_meses', 'retorno_sobre_capital_tangivel_inicial',\n",
    "                    'retorno_sobre_capital_tangivel_inicial_pre_impostos','retorno_sobre_capital_investido_inicial_pre_impostos', 'preço_ncav', 'margem_ebitda',\n",
    "                    'divida_liquida_ebitda', 'ev_ebitda', 'ev_receita_líquida', 'ev_fco','ev_fcf', 'ev_ativo_total','preço_vpa','preço_capital_giro', 'preço_fcf',\n",
    "                    'caixa_equivalentes_caixa'] \n",
    "    \n",
    "    dados_fundamentalistas = DadosFundamentalistas(tic=tic,data_inicio=data_inicio, data_fim=data_fim)\n",
    "    dados = dados_fundamentalistas.dados_fundamentalistas_completo()\n",
    "    dados.drop(columns=colunas_drop, inplace=True)\n",
    "    dados['datas'] = dados['datas'].astype(str)\n",
    "    loader = DataFrameLoader(dados,page_content_column='datas')\n",
    "    dados_load = loader.load()\n",
    "    return dados_load\n",
    "    \n",
    "    "
   ]
  },
  {
   "cell_type": "code",
   "execution_count": null,
   "metadata": {},
   "outputs": [],
   "source": [
    "from langchain import PromptTemplate\n",
    "def chat_bot_fundamentalistas(\n",
    "    query: str, dados:list,api_secret: str = api_secret_groq\n",
    ") -> str:\n",
    "    prompt = PromptTemplate(\n",
    "      input_variables = ['query', 'dados'],\n",
    "      template = '''\n",
    "                                                  You are a fundamental analyst, responsible for assessing the financial health, operational performance, and investment prospects of companies based on financial indicators. Your goal is to produce detailed, well-founded, and actionable analyses for investors.\n",
    "\n",
    "                                                    The indicators you receive include the following data:\n",
    "\n",
    "                                                    Resultados financeiros: receita_liquida, resultado_bruto, ebit, ebitda, lucro_liquido, lucro_por_acao.\n",
    "                                                    Fluxos de caixa: fluxo_caixa_operacional, fluxo_caixa_investimentos, fluxo_caixa_financiamento, fluxo_caixa_livre_tres_meses.\n",
    "                                                    Investimentos e despesas: capex_tres_meses.\n",
    "                                                    Valuation: preço_lucro, preço_receita_líquida,  preço_fcf, preço_ebit, ev_ebit, ev_ebitda, enterprise_value, market_cap_empresa.\n",
    "                                                    Dividendo: dividend_yield.\n",
    "                                                    Balanço patrimonial: ativo_total, divida_bruta, divida_liquida, patrimonio_liquido, valor_patrimonial_acao.\n",
    "                                                    Indicadores de rentabilidade e eficiência: retorno_sobre_capital_tangivel_inicial, retorno_sobre_capital_investido_inicial, retorno_sobre_patrimonio_liquido_inicial, margem_bruta, margem_liquida, giro_do_ativo_inicial, alavancagem_financeira.\n",
    "                                                    Riscos e alavancagem:  passivo_patrimonio_liquido.\n",
    "                                                    Your Task:\n",
    "                                                    Analyze indicators: Identify the company’s strengths and weaknesses based on the provided indicators.\n",
    "                                                    Generate actionable insights: Provide recommendations for investors, such as \"buy,\" \"hold,\" or \"sell,\" with clear justifications based on the data.\n",
    "                                                    Identify trends: Evaluate historical performance trends and possible implications for the future.\n",
    "                                                    Communicate results: Present your analysis clearly and concisely, suitable for both beginners and experienced investors.\n",
    "                                                    Example of Expected Response:\n",
    "\n",
    "                                                    Evaluated Company: [company name or ticker]\n",
    "                                                    Analysis Summary: Provide an overall assessment of the company based on the indicators.\n",
    "                                                    Strengths: Highlight positive metrics, such as high net_income, strong margins, or low net_debt.\n",
    "                                                    Weaknesses: Identify areas of concern, such as low net_margin or high net_debt_to_ebitda.\n",
    "                                                    Recommendation: Based on your analysis, provide a recommendation (buy, hold, or sell) with justification.\n",
    "                                                    \n",
    "                                                                                                   \n",
    "        REQUESTED ANALYSIS:\n",
    "        Question: {query}\n",
    "        Financial Data: {dados}\n",
    "        \n",
    "        \n",
    "        Always response the questions in Portuguese.\n",
    "\n",
    "      ''')\n",
    "\n",
    "    model = ChatGroq(\n",
    "            api_key=api_secret,\n",
    "            #model=\"llama-3.3-70b-versatile\",\n",
    "            model = \"llama-3.2-11b-vision-preview\",\n",
    "            temperature=0.5,\n",
    "            stop_sequences=None,\n",
    "        )\n",
    "\n",
    "    llm_chain = prompt | model | StrOutputParser()\n",
    "\n",
    "    response = llm_chain.invoke(input={'query':query, 'dados': dados})\n",
    "    \n",
    "    return response"
   ]
  },
  {
   "cell_type": "code",
   "execution_count": 12,
   "metadata": {},
   "outputs": [],
   "source": [
    "dados = dados_fundamentalistas.dados_fundamentalistas_completo()"
   ]
  },
  {
   "cell_type": "code",
   "execution_count": 13,
   "metadata": {},
   "outputs": [],
   "source": [
    "colunsa_drop = ['acoes_ordinarias', \n",
    " 'acoes_preferenciais', \n",
    " 'total', \n",
    " 'capex_doze_meses', \n",
    " 'fluxo_caixa_livre_doze_meses',\n",
    " 'retorno_sobre_capital_tangivel_inicial',\n",
    " 'retorno_sobre_capital_tangivel_inicial_pre_impostos',\n",
    "'retorno_sobre_capital_investido_inicial_pre_impostos',\n",
    "'preço_ncav',\n",
    "'margem_ebitda',\n",
    "'divida_liquida_ebitda',\n",
    "'ev_ebitda',\n",
    "'ev_receita_líquida',\n",
    "'ev_fco', \n",
    "'ev_fcf', \n",
    "'ev_ativo_total',\n",
    "'preço_vpa',\n",
    "'preço_capital_giro',\n",
    "'preço_fcf',\n",
    "'caixa_equivalentes_caixa'\n",
    "\n",
    " ]\n",
    "\n",
    "dados.drop(columns=colunsa_drop, inplace=True)"
   ]
  },
  {
   "cell_type": "code",
   "execution_count": 14,
   "metadata": {},
   "outputs": [],
   "source": [
    "from langchain.prompts.chat import (\n",
    "    ChatPromptTemplate,\n",
    "    SystemMessagePromptTemplate,\n",
    "    HumanMessagePromptTemplate,\n",
    ")\n",
    "from langchain_groq import ChatGroq\n",
    "from langchain_core.output_parsers import StrOutputParser\n",
    "from typing import Dict, List\n",
    "\n",
    "from chat_bots import get_secret_key\n",
    "\n",
    "try:\n",
    "    api_secret_groq = get_secret_key(\"GROQ_API_KEY\")\n",
    "except KeyError as exc:\n",
    "    raise ValueError(\"API key inválida ou não definida\") from exc\n",
    "\n"
   ]
  },
  {
   "cell_type": "code",
   "execution_count": 15,
   "metadata": {},
   "outputs": [],
   "source": [
    "from langchain import PromptTemplate"
   ]
  },
  {
   "cell_type": "code",
   "execution_count": 16,
   "metadata": {},
   "outputs": [],
   "source": [
    "from langchain import PromptTemplate\n",
    "def chat_bot_fundamentalistas(\n",
    "    query: str, dados:list,api_secret: str = api_secret_groq\n",
    ") -> str:\n",
    "    prompt = PromptTemplate(\n",
    "      input_variables = ['query', 'dados'],\n",
    "      template = '''\n",
    "                                                  You are a fundamental analyst, responsible for assessing the financial health, operational performance, and investment prospects of companies based on financial indicators. Your goal is to produce detailed, well-founded, and actionable analyses for investors.\n",
    "\n",
    "                                                    The indicators you receive include the following data:\n",
    "\n",
    "                                                    Resultados financeiros: receita_liquida, resultado_bruto, ebit, ebitda, lucro_liquido, lucro_por_acao.\n",
    "                                                    Fluxos de caixa: fluxo_caixa_operacional, fluxo_caixa_investimentos, fluxo_caixa_financiamento, fluxo_caixa_livre_tres_meses.\n",
    "                                                    Investimentos e despesas: capex_tres_meses.\n",
    "                                                    Valuation: preço_lucro, preço_receita_líquida,  preço_fcf, preço_ebit, ev_ebit, ev_ebitda, enterprise_value, market_cap_empresa.\n",
    "                                                    Dividendo: dividend_yield.\n",
    "                                                    Balanço patrimonial: ativo_total, divida_bruta, divida_liquida, patrimonio_liquido, valor_patrimonial_acao.\n",
    "                                                    Indicadores de rentabilidade e eficiência: retorno_sobre_capital_tangivel_inicial, retorno_sobre_capital_investido_inicial, retorno_sobre_patrimonio_liquido_inicial, margem_bruta, margem_liquida, giro_do_ativo_inicial, alavancagem_financeira.\n",
    "                                                    Riscos e alavancagem:  passivo_patrimonio_liquido.\n",
    "                                                    Your Task:\n",
    "                                                    Analyze indicators: Identify the company’s strengths and weaknesses based on the provided indicators.\n",
    "                                                    Generate actionable insights: Provide recommendations for investors, such as \"buy,\" \"hold,\" or \"sell,\" with clear justifications based on the data.\n",
    "                                                    Identify trends: Evaluate historical performance trends and possible implications for the future.\n",
    "                                                    Communicate results: Present your analysis clearly and concisely, suitable for both beginners and experienced investors.\n",
    "                                                    Example of Expected Response:\n",
    "\n",
    "                                                    Evaluated Company: [company name or ticker]\n",
    "                                                    Analysis Summary: Provide an overall assessment of the company based on the indicators.\n",
    "                                                    Strengths: Highlight positive metrics, such as high net_income, strong margins, or low net_debt.\n",
    "                                                    Weaknesses: Identify areas of concern, such as low net_margin or high net_debt_to_ebitda.\n",
    "                                                    Recommendation: Based on your analysis, provide a recommendation (buy, hold, or sell) with justification.\n",
    "                                                    \n",
    "                                                                                                   \n",
    "        REQUESTED ANALYSIS:\n",
    "        Question: {query}\n",
    "        Financial Data: {dados}\n",
    "        \n",
    "        \n",
    "        Always response the questions in Portuguese.\n",
    "\n",
    "      ''')\n",
    "\n",
    "    model = ChatGroq(\n",
    "            api_key=api_secret,\n",
    "            #model=\"llama-3.3-70b-versatile\",\n",
    "            model = \"llama-3.2-11b-vision-preview\",\n",
    "            temperature=0.5,\n",
    "            stop_sequences=None,\n",
    "        )\n",
    "\n",
    "    llm_chain = prompt | model | StrOutputParser()\n",
    "\n",
    "    response = llm_chain.invoke(input={'query':query, 'dados': dados})\n",
    "    \n",
    "    return response"
   ]
  },
  {
   "cell_type": "code",
   "execution_count": 17,
   "metadata": {},
   "outputs": [],
   "source": [
    "from langchain_community.document_loaders import DataFrameLoader"
   ]
  },
  {
   "cell_type": "code",
   "execution_count": 18,
   "metadata": {},
   "outputs": [],
   "source": [
    "dados['datas'] = dados['datas'].astype(str)\n",
    "loader = DataFrameLoader(dados,page_content_column='datas')"
   ]
  },
  {
   "cell_type": "code",
   "execution_count": 19,
   "metadata": {},
   "outputs": [],
   "source": [
    "loader = DataFrameLoader(dados,page_content_column='datas')"
   ]
  },
  {
   "cell_type": "code",
   "execution_count": 20,
   "metadata": {},
   "outputs": [],
   "source": [
    "dados_load = loader.load()"
   ]
  },
  {
   "cell_type": "code",
   "execution_count": 21,
   "metadata": {},
   "outputs": [
    {
     "data": {
      "text/plain": [
       "list"
      ]
     },
     "execution_count": 21,
     "metadata": {},
     "output_type": "execute_result"
    }
   ],
   "source": [
    "type(dados_load)"
   ]
  },
  {
   "cell_type": "code",
   "execution_count": 24,
   "metadata": {},
   "outputs": [
    {
     "data": {
      "text/plain": [
       "langchain_core.documents.base.Document"
      ]
     },
     "execution_count": 24,
     "metadata": {},
     "output_type": "execute_result"
    }
   ],
   "source": [
    "type(dados_load[0])"
   ]
  },
  {
   "cell_type": "code",
   "execution_count": 13,
   "metadata": {},
   "outputs": [],
   "source": [
    "resposta = chat_bot_fundamentalistas('Analse a empresa petrobras',dados_load)"
   ]
  },
  {
   "cell_type": "code",
   "execution_count": 14,
   "metadata": {},
   "outputs": [
    {
     "data": {
      "text/plain": [
       "['**Análise da Empresa Petrobras**',\n",
       " '**Resumo da Análise**',\n",
       " 'A Petrobras é uma empresa de grande porte no setor de petróleo e gás, com uma história de mais de 90 anos de operação. A empresa tem uma presença significativa no mercado brasileiro e internacional, com uma rede de distribuição de petróleo e gás em todo o mundo. A análise abaixo é baseada nos dados financeiros da empresa, que foram coletados a partir de documentos de metadata.',\n",
       " '**Pontos Fortes**',\n",
       " '* **Receita Líquida**: A receita líquida da Petrobras tem apresentado um crescimento significativo nos últimos anos, com uma média de 10% ao ano.\\n* **EBITDA**: O EBITDA da empresa também tem crescido, com uma média de 15% ao ano, o que indica uma boa gestão da empresa.\\n* **Margem Bruta**: A margem bruta da Petrobras é alta, com uma média de 50% ao ano, o que indica uma boa capacidade de gerar receita.\\n* **Giro do Ativo**: O giro do ativo da empresa é alto, com uma média de 0,5 ao ano, o que indica uma boa capacidade de gerar receita a partir dos ativos.',\n",
       " '**Pontos Fracos**',\n",
       " '* **Divida Líquida**: A divida líquida da Petrobras é alta, com uma média de 2,5 vezes o patrimônio líquido ao ano, o que indica um risco de insolvência.\\n* **Alavancagem Financeira**: A alavancagem financeira da empresa é alta, com uma média de 2,5 ao ano, o que indica um risco de insolvência.\\n* **Passivo Patrimonio Líquido**: O passivo patrimonio líquido da Petrobras é alto, com uma média de 1,7 ao ano, o que indica um risco de insolvência.',\n",
       " '**Recomendação**',\n",
       " 'Com base na análise acima, recomendo que os investidores sejam cautelosos ao investir na Petrobras. Embora a empresa tenha pontos fortes, como uma boa receita líquida e EBITDA, também tem pontos fracos, como uma alta divida líquida e alavancagem financeira. Além disso, o passivo patrimonio líquido da empresa é alto, o que indica um risco de insolvência. Portanto, é recomendável que os investidores façam uma análise mais aprofundada da empresa antes de tomar qualquer decisão de investimento.',\n",
       " '**Tendências**',\n",
       " 'A análise acima indica que a Petrobras está enfrentando desafios financeiros significativos, como uma alta divida líquida e alavancagem financeira. Além disso, o passivo patrimonio líquido da empresa é alto, o que indica um risco de insolvência. No entanto, a empresa também tem pontos fortes, como uma boa receita líquida e EBITDA. Portanto, é recomendável que os investidores monitorem a situação da empresa e avaliem a possibilidade de investimento com cautela.',\n",
       " '**Conclusão**',\n",
       " 'A análise acima indica que a Petrobras é uma empresa complexa com pontos fortes e fracos. Embora a empresa tenha uma boa receita líquida e EBITDA, também tem uma alta divida líquida e alavancagem financeira, o que indica um risco de insolvência. Portanto, é recomendável que os investidores façam uma análise mais aprofundada da empresa antes de tomar qualquer decisão de investimento.']"
      ]
     },
     "execution_count": 14,
     "metadata": {},
     "output_type": "execute_result"
    }
   ],
   "source": [
    "resposta.split('\\n\\n')"
   ]
  },
  {
   "cell_type": "code",
   "execution_count": 92,
   "metadata": {},
   "outputs": [],
   "source": [
    "\n",
    "\n",
    "from langchain import PromptTemplate\n",
    "\n",
    "query = \"O que vc pode falar do balanco dessa empresa\"\n",
    "\n",
    "prompt = PromptTemplate(\n",
    "      input_variables = ['query', 'dados_load'],\n",
    "      template = '''\n",
    "                                                  You are a fundamental analyst, responsible for assessing the financial health, operational performance, and investment prospects of companies based on financial indicators. Your goal is to produce detailed, well-founded, and actionable analyses for investors.\n",
    "\n",
    "                                                    The indicators you receive include the following data:\n",
    "\n",
    "                                                    Resultados financeiros: receita_liquida, resultado_bruto, ebit, ebitda, lucro_liquido, lucro_por_acao.\n",
    "                                                    Fluxos de caixa: fluxo_caixa_operacional, fluxo_caixa_investimentos, fluxo_caixa_financiamento, fluxo_caixa_livre_tres_meses.\n",
    "                                                    Investimentos e despesas: capex_tres_meses.\n",
    "                                                    Valuation: preço_lucro, preço_receita_líquida,  preço_fcf, preço_ebit, ev_ebit, ev_ebitda, enterprise_value, market_cap_empresa.\n",
    "                                                    Dividendo: dividend_yield.\n",
    "                                                    Balanço patrimonial: ativo_total, divida_bruta, divida_liquida, patrimonio_liquido, valor_patrimonial_acao.\n",
    "                                                    Indicadores de rentabilidade e eficiência: retorno_sobre_capital_tangivel_inicial, retorno_sobre_capital_investido_inicial, retorno_sobre_patrimonio_liquido_inicial, margem_bruta, margem_liquida, giro_do_ativo_inicial, alavancagem_financeira.\n",
    "                                                    Riscos e alavancagem:  passivo_patrimonio_liquido.\n",
    "                                                    Your Task:\n",
    "                                                    Analyze indicators: Identify the company’s strengths and weaknesses based on the provided indicators.\n",
    "                                                    Generate actionable insights: Provide recommendations for investors, such as \"buy,\" \"hold,\" or \"sell,\" with clear justifications based on the data.\n",
    "                                                    Identify trends: Evaluate historical performance trends and possible implications for the future.\n",
    "                                                    Communicate results: Present your analysis clearly and concisely, suitable for both beginners and experienced investors.\n",
    "                                                    Example of Expected Response:\n",
    "\n",
    "                                                    Evaluated Company: [company name or ticker]\n",
    "                                                    Analysis Summary: Provide an overall assessment of the company based on the indicators.\n",
    "                                                    Strengths: Highlight positive metrics, such as high net_income, strong margins, or low net_debt.\n",
    "                                                    Weaknesses: Identify areas of concern, such as low net_margin or high net_debt_to_ebitda.\n",
    "                                                    Recommendation: Based on your analysis, provide a recommendation (buy, hold, or sell) with justification.\n",
    "                                                    \n",
    "                                                                                                   \n",
    "        REQUESTED ANALYSIS:\n",
    "        Question: {query}\n",
    "        Financial Data: {dados_load}\n",
    "        \n",
    "        \n",
    "        Always response the questions in Portuguese.\n",
    "\n",
    "      ''')\n",
    "\n",
    "model = ChatGroq(\n",
    "        api_key=api_secret_groq,\n",
    "        #model=\"llama-3.3-70b-versatile\",\n",
    "        model = \"llama-3.2-11b-vision-preview\",\n",
    "        temperature=0.5,\n",
    "        stop_sequences=None,\n",
    "    )\n",
    "\n",
    "llm_chain = prompt | model | StrOutputParser()\n",
    "\n",
    "response = llm_chain.invoke(input={'query':query, 'dados_load': dados_load})"
   ]
  },
  {
   "cell_type": "code",
   "execution_count": 93,
   "metadata": {},
   "outputs": [
    {
     "data": {
      "text/plain": [
       "['**Análise da Empresa**',\n",
       " 'A empresa avaliada é a PETR4, uma empresa de petróleo e gás natural.',\n",
       " '**Resumo da Análise**',\n",
       " 'A PETR4 apresenta um desempenho financeiro sólido, com uma receita líquida crescente ao longo dos anos. A empresa também apresenta uma margem bruta e líquida significativas, o que indica uma eficiência operacional. No entanto, a dívida líquida da empresa é alta em relação ao patrimônio líquido, o que pode ser um sinal de risco.',\n",
       " '**Pontos Fortes**',\n",
       " '* Receita líquida crescente ao longo dos anos\\n* Margem bruta e líquida significativas\\n* Eficiência operacional\\n* Dívida líquida em relação ao patrimônio líquido é alta, mas está em declínio',\n",
       " '**Pontos Fracos**',\n",
       " '* Dívida líquida é alta em relação ao patrimônio líquido\\n* Fluxo de caixa operacional é variável ao longo dos anos\\n* Preço de mercado da empresa é alto em relação ao preço de livro',\n",
       " '**Recomendação**',\n",
       " 'Com base na análise acima, recomendo que os investidores sejam cautelosos ao investir na PETR4. Embora a empresa apresente um desempenho financeiro sólido, a dívida líquida alta e o preço de mercado alto em relação ao preço de livro são fatores que devem ser considerados. É recomendável monitorar a situação financeira da empresa e aguardar uma melhoria no fluxo de caixa operacional e uma redução na dívida líquida antes de investir.',\n",
       " '**Tendências**',\n",
       " 'A PETR4 apresenta uma tendência de crescimento da receita líquida ao longo dos anos. No entanto, a dívida líquida da empresa é alta e está em declínio, o que pode ser um sinal de risco. Além disso, o preço de mercado da empresa é alto em relação ao preço de livro, o que pode ser um sinal de que a empresa está sobrevalorizada.',\n",
       " '**Conclusão**',\n",
       " 'A PETR4 é uma empresa com um desempenho financeiro sólido, mas com alguns riscos associados à sua dívida líquida alta e preço de mercado alto em relação ao preço de livro. É recomendável que os investidores sejam cautelosos ao investir na empresa e monitorem a situação financeira da empresa antes de tomar uma decisão de investimento.']"
      ]
     },
     "execution_count": 93,
     "metadata": {},
     "output_type": "execute_result"
    }
   ],
   "source": [
    "response.split('\\n\\n')"
   ]
  },
  {
   "cell_type": "code",
   "execution_count": null,
   "metadata": {},
   "outputs": [],
   "source": []
  }
 ],
 "metadata": {
  "kernelspec": {
   "display_name": ".venv",
   "language": "python",
   "name": "python3"
  },
  "language_info": {
   "codemirror_mode": {
    "name": "ipython",
    "version": 3
   },
   "file_extension": ".py",
   "mimetype": "text/x-python",
   "name": "python",
   "nbconvert_exporter": "python",
   "pygments_lexer": "ipython3",
   "version": "3.12.0"
  }
 },
 "nbformat": 4,
 "nbformat_minor": 2
}
